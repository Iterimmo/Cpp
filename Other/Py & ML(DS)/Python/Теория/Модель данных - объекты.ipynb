{
 "cells": [
  {
   "cell_type": "markdown",
   "metadata": {},
   "source": [
    "Объект  - абстракция данных, некоторый контейнер в памяти, который содержит данные\n",
    "Данные - объекты и отношения между объектами"
   ]
  },
  {
   "cell_type": "markdown",
   "metadata": {},
   "source": [
    "У любого объекта в Python есть 3 обязательные вещи:\n",
    "\n",
    "    1. Идентификатор (id) - не может быть изменен\n",
    "    2. Тип\n",
    "    3. Значение"
   ]
  },
  {
   "cell_type": "code",
   "execution_count": 7,
   "metadata": {},
   "outputs": [
    {
     "name": "stdout",
     "output_type": "stream",
     "text": [
      "Идентификатор переменной x: 140728360314752\n",
      "Идентификатор переменной y: 140728360314752\n",
      "True \n",
      "\n",
      "True\n",
      "False \n",
      "\n",
      "<class 'int'> \n",
      "\n",
      "True\n",
      "[1, 2, 3, 4]\n",
      "[1, 2, 3, 4]\n"
     ]
    }
   ],
   "source": [
    "## Идентификатор\n",
    "\n",
    "# Оператор присванивания\n",
    "\n",
    "x = 4  # Переменная х ссылается на объект 4 -> переменная - это ссылка на объект\n",
    "\n",
    "# закрепляет за именем переменной х идентификатор объекта правой части\n",
    "\n",
    "y = x\n",
    "\n",
    "# закрепляет за именем переменной y идентификатор, который закреплен за именем переменной х, т.е. 4\n",
    "\n",
    "print('Идентификатор переменной x: {}'.format(id(x)))\n",
    "print('Идентификатор переменной y: {}'.format(id(y)))\n",
    "print(id(x) == id(y), '\\n')\n",
    "\n",
    "var1 = 10\n",
    "var2 = 10\n",
    "\n",
    "print(var1 is var2)\n",
    "print(var1 is x, '\\n')\n",
    "\n",
    "# Идентификатор имеет тип int\n",
    "\n",
    "print(type(x), '\\n')\n",
    "\n",
    "# Изменяется объект, а не переменная. \n",
    "\n",
    "mas = [1,2,3]\n",
    "variable = mas\n",
    "print(variable is mas)\n",
    "mas.append(4) # Изменяет объект, который хранится в переменной mas\n",
    "print(mas)\n",
    "print(variable) # переменная variable тоже изменилась\n",
    "\n"
   ]
  },
  {
   "cell_type": "code",
   "execution_count": 11,
   "metadata": {},
   "outputs": [
    {
     "name": "stdout",
     "output_type": "stream",
     "text": [
      "<class 'list'>\n",
      "<class 'int'>\n",
      "<class 'type'>\n"
     ]
    }
   ],
   "source": [
    "## Тип\n",
    "\n",
    "# Тип определеяет, что мы можем сделать с объектом и возможные принимаемые значения. Т.е. он определяет само поведение объекта\n",
    "\n",
    "print(type(mas))\n",
    "print(type(id(x)))\n",
    "print(type(type(y)))"
   ]
  },
  {
   "cell_type": "markdown",
   "metadata": {},
   "source": [
    "Неизменяемые и изменяемые типы\n",
    "\n",
    "#### Неизменяемые:\n",
    "\n",
    "    1.Числа (int,float,complex)\n",
    "    2.bool\n",
    "    3.turple\n",
    "    4.str\n",
    "    5.frozenset\n",
    "#### Изменяемые:\n",
    "\n",
    "    1.list\n",
    "    2.dict\n",
    "    3.set\n",
    "    \n",
    "P.S. list изменяемый, а turple - нет, так как в list значение списка - это упорядоченное множество ссылок на объекты, которые могут изменить свою последовательность, тем самым изменить наш объект.\n",
    "    "
   ]
  },
  {
   "cell_type": "markdown",
   "metadata": {},
   "source": [
    "#### Дополнительно:\n",
    "\n",
    "    1. При использовании \"нового\" неизменяемого объекта (числа,bool и т.д.), например x = 24, будет СОЗДАН НОВЫЙ объект.    Однако, если далее встретится, допустим, y = 24, то новый объект НЕ БУДЕТ создан, а будет переиспользован прежний, т.е. y  будет ссылаться на уже созданный объект."
   ]
  },
  {
   "cell_type": "code",
   "execution_count": 12,
   "metadata": {},
   "outputs": [],
   "source": [
    "# Подсчёт количества уникальных объектов в списке\n",
    "\n",
    "def unique_ids(values):\n",
    "    return len(set(id(i) for i in objects))"
   ]
  }
 ],
 "metadata": {
  "kernelspec": {
   "display_name": "Python 3",
   "language": "python",
   "name": "python3"
  },
  "language_info": {
   "codemirror_mode": {
    "name": "ipython",
    "version": 3
   },
   "file_extension": ".py",
   "mimetype": "text/x-python",
   "name": "python",
   "nbconvert_exporter": "python",
   "pygments_lexer": "ipython3",
   "version": "3.8.5"
  }
 },
 "nbformat": 4,
 "nbformat_minor": 4
}
