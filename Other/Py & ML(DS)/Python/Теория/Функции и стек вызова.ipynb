{
 "cells": [
  {
   "cell_type": "markdown",
   "metadata": {},
   "source": [
    "### Функции\n",
    "\n",
    "Основные причины использования функций:\n",
    "\n",
    "    1. Переиспользование кода\n",
    "    2. Структурирование кода\n",
    "    3. Сокрытие деталей реализации"
   ]
  },
  {
   "cell_type": "code",
   "execution_count": 4,
   "metadata": {},
   "outputs": [
    {
     "name": "stdout",
     "output_type": "stream",
     "text": [
      "30 \n",
      "\n",
      "<class 'function'>\n",
      "1558521428864\n"
     ]
    }
   ],
   "source": [
    "# Синтаксис\n",
    "\n",
    "def function_name(arg1,arg2):\n",
    "    # function`s body\n",
    "    return arg1+arg2\n",
    "\n",
    "x = function_name(2,8)\n",
    "y = function_name(x,20)\n",
    "\n",
    "print(y,'\\n')\n",
    "print(type(function_name))\n",
    "print(id(function_name))"
   ]
  },
  {
   "cell_type": "markdown",
   "metadata": {},
   "source": [
    "Функция - это тоже объект с типом function\n",
    "Объект функции хранит в себе: название функции, принимаемые аргументы и само тело функции.\n",
    "\n",
    "Для интерпритатора это выглядит следующим образом\n",
    "\n",
    "х = function_name(2,8) -->:\n",
    "    \n",
    "    1. Создаться сам объект функции (function_name и аргументы, которые он должен получать (arg1,arg2))\n",
    "    2. Находит в коде x = function_name(2,8)\n",
    "    3. Смотрит на какой объект ссылается function_name\n",
    "    4. Смотрит какие аргументы принимает function_name (до исполнения тела функции всегда происходит инициализация аргументов)\n",
    "    5. Результатом будет ссылка на новый (если он ещё не встречался в коде) объект."
   ]
  },
  {
   "cell_type": "code",
   "execution_count": 6,
   "metadata": {},
   "outputs": [
    {
     "name": "stdout",
     "output_type": "stream",
     "text": [
      "3\n",
      "3\n",
      "True\n"
     ]
    }
   ],
   "source": [
    "def list_sum(ls):\n",
    "    cnt = 0\n",
    "    for i in ls:\n",
    "        cnt += i\n",
    "    return cnt\n",
    "\n",
    "def sum(a,b):\n",
    "    return a+b\n",
    "\n",
    "x = sum(1,2)\n",
    "y = list_sum([1,2,3,4,5]) # Опасно: Будут созданы лишние элементы (6 и 10)\n",
    "print(x)\n",
    "print(y)\n"
   ]
  },
  {
   "cell_type": "markdown",
   "metadata": {},
   "source": [
    "### Стек вызовов\n",
    "\n",
    "Стек вызовов - хранит вызванные нами функции.\n",
    "\n",
    "Стек используется, когда интерпритатор видит, что нужно использовать какую-либо функцию, он кладёт её в стек вызова; когда она отработает, он её оттуда извлекает.\n",
    "\n",
    "Интерпритатор выполняют самую верхнюю функцию на стеке \n",
    "\n",
    "module - главный чел. Всёделающий.\n",
    "\n",
    "(иллюстрация работы стека находится в тетради с итальянским храмом)"
   ]
  },
  {
   "cell_type": "code",
   "execution_count": 7,
   "metadata": {},
   "outputs": [
    {
     "name": "stdout",
     "output_type": "stream",
     "text": [
      "12\n"
     ]
    }
   ],
   "source": [
    "def h():\n",
    "    print(12)\n",
    "\n",
    "def f():\n",
    "    g(h)\n",
    "\n",
    "def g(a):\n",
    "    a()\n",
    "\n",
    "g(f)\n"
   ]
  },
  {
   "cell_type": "code",
   "execution_count": 9,
   "metadata": {},
   "outputs": [
    {
     "name": "stdout",
     "output_type": "stream",
     "text": [
      "12\n",
      "stack_num: 6\n"
     ]
    }
   ],
   "source": [
    "# Максимальное количество функций в стеке\n",
    "\n",
    "stack_num = 1\n",
    "\n",
    "def h():\n",
    "    global stack_num\n",
    "    stack_num += 1\n",
    "    print(12)\n",
    "\n",
    "def f():\n",
    "    global stack_num\n",
    "    stack_num += 1\n",
    "    g(h)\n",
    "\n",
    "def g(a):\n",
    "    global stack_num\n",
    "    stack_num += 1\n",
    "    a()\n",
    "\n",
    "stack_num += 1\n",
    "g(f)\n",
    "\n",
    "print('stack_num:', stack_num)"
   ]
  },
  {
   "cell_type": "code",
   "execution_count": 13,
   "metadata": {},
   "outputs": [
    {
     "name": "stdout",
     "output_type": "stream",
     "text": [
      "4\n",
      "<class 'NoneType'>\n"
     ]
    },
    {
     "data": {
      "text/plain": [
       "True"
      ]
     },
     "execution_count": 13,
     "metadata": {},
     "output_type": "execute_result"
    }
   ],
   "source": [
    "# Тип None\n",
    "\n",
    "# Если в функции пустой return или его нет вообще, то результатом работы функции будет None\n",
    "\n",
    "x = print(4)  # Принт ничего не возвращает\n",
    "print(type(x))\n",
    "\n",
    "# None уникален.\n",
    "\n",
    "y = None\n",
    "\n",
    "y is x"
   ]
  },
  {
   "cell_type": "code",
   "execution_count": 16,
   "metadata": {},
   "outputs": [
    {
     "name": "stdout",
     "output_type": "stream",
     "text": [
      "asfdas\n"
     ]
    }
   ],
   "source": [
    "x = None\n",
    "x_less = -10\n",
    "x_more = 10\n",
    "\n",
    "if x == None:\n",
    "    print('asfdas')"
   ]
  },
  {
   "cell_type": "code",
   "execution_count": 18,
   "metadata": {},
   "outputs": [
    {
     "data": {
      "text/plain": [
       "15"
      ]
     },
     "execution_count": 18,
     "metadata": {},
     "output_type": "execute_result"
    }
   ],
   "source": [
    "x = 14\n",
    "y = x+ (5-x%5)\n",
    "y"
   ]
  },
  {
   "cell_type": "code",
   "execution_count": null,
   "metadata": {},
   "outputs": [],
   "source": []
  }
 ],
 "metadata": {
  "kernelspec": {
   "display_name": "Python 3",
   "language": "python",
   "name": "python3"
  },
  "language_info": {
   "codemirror_mode": {
    "name": "ipython",
    "version": 3
   },
   "file_extension": ".py",
   "mimetype": "text/x-python",
   "name": "python",
   "nbconvert_exporter": "python",
   "pygments_lexer": "ipython3",
   "version": "3.8.5"
  }
 },
 "nbformat": 4,
 "nbformat_minor": 4
}
