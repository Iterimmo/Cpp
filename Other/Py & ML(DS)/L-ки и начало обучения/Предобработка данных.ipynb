{
 "cells": [
  {
   "cell_type": "code",
   "execution_count": 1,
   "metadata": {},
   "outputs": [],
   "source": [
    "# импорт библиотек\n",
    "\n",
    "import pandas as pd\n",
    "import numpy as np\n",
    "import matplotlib.pyplot as plt\n",
    "import sklearn\n"
   ]
  },
  {
   "cell_type": "code",
   "execution_count": 2,
   "metadata": {},
   "outputs": [
    {
     "data": {
      "text/html": [
       "<div>\n",
       "<style scoped>\n",
       "    .dataframe tbody tr th:only-of-type {\n",
       "        vertical-align: middle;\n",
       "    }\n",
       "\n",
       "    .dataframe tbody tr th {\n",
       "        vertical-align: top;\n",
       "    }\n",
       "\n",
       "    .dataframe thead th {\n",
       "        text-align: right;\n",
       "    }\n",
       "</style>\n",
       "<table border=\"1\" class=\"dataframe\">\n",
       "  <thead>\n",
       "    <tr style=\"text-align: right;\">\n",
       "      <th></th>\n",
       "      <th>Suburb</th>\n",
       "      <th>Address</th>\n",
       "      <th>Rooms</th>\n",
       "      <th>Type</th>\n",
       "      <th>Price</th>\n",
       "      <th>Method</th>\n",
       "      <th>SellerG</th>\n",
       "      <th>Date</th>\n",
       "      <th>Distance</th>\n",
       "      <th>Postcode</th>\n",
       "      <th>...</th>\n",
       "      <th>Bathroom</th>\n",
       "      <th>Car</th>\n",
       "      <th>Landsize</th>\n",
       "      <th>BuildingArea</th>\n",
       "      <th>YearBuilt</th>\n",
       "      <th>CouncilArea</th>\n",
       "      <th>Lattitude</th>\n",
       "      <th>Longtitude</th>\n",
       "      <th>Regionname</th>\n",
       "      <th>Propertycount</th>\n",
       "    </tr>\n",
       "  </thead>\n",
       "  <tbody>\n",
       "    <tr>\n",
       "      <th>0</th>\n",
       "      <td>Abbotsford</td>\n",
       "      <td>85 Turner St</td>\n",
       "      <td>2</td>\n",
       "      <td>h</td>\n",
       "      <td>1480000.0</td>\n",
       "      <td>S</td>\n",
       "      <td>Biggin</td>\n",
       "      <td>3/12/2016</td>\n",
       "      <td>2.5</td>\n",
       "      <td>3067.0</td>\n",
       "      <td>...</td>\n",
       "      <td>1.0</td>\n",
       "      <td>1.0</td>\n",
       "      <td>202.0</td>\n",
       "      <td>NaN</td>\n",
       "      <td>NaN</td>\n",
       "      <td>Yarra</td>\n",
       "      <td>-37.7996</td>\n",
       "      <td>144.9984</td>\n",
       "      <td>Northern Metropolitan</td>\n",
       "      <td>4019.0</td>\n",
       "    </tr>\n",
       "    <tr>\n",
       "      <th>1</th>\n",
       "      <td>Abbotsford</td>\n",
       "      <td>25 Bloomburg St</td>\n",
       "      <td>2</td>\n",
       "      <td>h</td>\n",
       "      <td>1035000.0</td>\n",
       "      <td>S</td>\n",
       "      <td>Biggin</td>\n",
       "      <td>4/02/2016</td>\n",
       "      <td>2.5</td>\n",
       "      <td>3067.0</td>\n",
       "      <td>...</td>\n",
       "      <td>1.0</td>\n",
       "      <td>0.0</td>\n",
       "      <td>156.0</td>\n",
       "      <td>79.0</td>\n",
       "      <td>1900.0</td>\n",
       "      <td>Yarra</td>\n",
       "      <td>-37.8079</td>\n",
       "      <td>144.9934</td>\n",
       "      <td>Northern Metropolitan</td>\n",
       "      <td>4019.0</td>\n",
       "    </tr>\n",
       "    <tr>\n",
       "      <th>2</th>\n",
       "      <td>Abbotsford</td>\n",
       "      <td>5 Charles St</td>\n",
       "      <td>3</td>\n",
       "      <td>h</td>\n",
       "      <td>1465000.0</td>\n",
       "      <td>SP</td>\n",
       "      <td>Biggin</td>\n",
       "      <td>4/03/2017</td>\n",
       "      <td>2.5</td>\n",
       "      <td>3067.0</td>\n",
       "      <td>...</td>\n",
       "      <td>2.0</td>\n",
       "      <td>0.0</td>\n",
       "      <td>134.0</td>\n",
       "      <td>150.0</td>\n",
       "      <td>1900.0</td>\n",
       "      <td>Yarra</td>\n",
       "      <td>-37.8093</td>\n",
       "      <td>144.9944</td>\n",
       "      <td>Northern Metropolitan</td>\n",
       "      <td>4019.0</td>\n",
       "    </tr>\n",
       "    <tr>\n",
       "      <th>3</th>\n",
       "      <td>Abbotsford</td>\n",
       "      <td>40 Federation La</td>\n",
       "      <td>3</td>\n",
       "      <td>h</td>\n",
       "      <td>850000.0</td>\n",
       "      <td>PI</td>\n",
       "      <td>Biggin</td>\n",
       "      <td>4/03/2017</td>\n",
       "      <td>2.5</td>\n",
       "      <td>3067.0</td>\n",
       "      <td>...</td>\n",
       "      <td>2.0</td>\n",
       "      <td>1.0</td>\n",
       "      <td>94.0</td>\n",
       "      <td>NaN</td>\n",
       "      <td>NaN</td>\n",
       "      <td>Yarra</td>\n",
       "      <td>-37.7969</td>\n",
       "      <td>144.9969</td>\n",
       "      <td>Northern Metropolitan</td>\n",
       "      <td>4019.0</td>\n",
       "    </tr>\n",
       "    <tr>\n",
       "      <th>4</th>\n",
       "      <td>Abbotsford</td>\n",
       "      <td>55a Park St</td>\n",
       "      <td>4</td>\n",
       "      <td>h</td>\n",
       "      <td>1600000.0</td>\n",
       "      <td>VB</td>\n",
       "      <td>Nelson</td>\n",
       "      <td>4/06/2016</td>\n",
       "      <td>2.5</td>\n",
       "      <td>3067.0</td>\n",
       "      <td>...</td>\n",
       "      <td>1.0</td>\n",
       "      <td>2.0</td>\n",
       "      <td>120.0</td>\n",
       "      <td>142.0</td>\n",
       "      <td>2014.0</td>\n",
       "      <td>Yarra</td>\n",
       "      <td>-37.8072</td>\n",
       "      <td>144.9941</td>\n",
       "      <td>Northern Metropolitan</td>\n",
       "      <td>4019.0</td>\n",
       "    </tr>\n",
       "  </tbody>\n",
       "</table>\n",
       "<p>5 rows × 21 columns</p>\n",
       "</div>"
      ],
      "text/plain": [
       "       Suburb           Address  Rooms Type      Price Method SellerG  \\\n",
       "0  Abbotsford      85 Turner St      2    h  1480000.0      S  Biggin   \n",
       "1  Abbotsford   25 Bloomburg St      2    h  1035000.0      S  Biggin   \n",
       "2  Abbotsford      5 Charles St      3    h  1465000.0     SP  Biggin   \n",
       "3  Abbotsford  40 Federation La      3    h   850000.0     PI  Biggin   \n",
       "4  Abbotsford       55a Park St      4    h  1600000.0     VB  Nelson   \n",
       "\n",
       "        Date  Distance  Postcode  ...  Bathroom  Car  Landsize  BuildingArea  \\\n",
       "0  3/12/2016       2.5    3067.0  ...       1.0  1.0     202.0           NaN   \n",
       "1  4/02/2016       2.5    3067.0  ...       1.0  0.0     156.0          79.0   \n",
       "2  4/03/2017       2.5    3067.0  ...       2.0  0.0     134.0         150.0   \n",
       "3  4/03/2017       2.5    3067.0  ...       2.0  1.0      94.0           NaN   \n",
       "4  4/06/2016       2.5    3067.0  ...       1.0  2.0     120.0         142.0   \n",
       "\n",
       "   YearBuilt  CouncilArea Lattitude  Longtitude             Regionname  \\\n",
       "0        NaN        Yarra  -37.7996    144.9984  Northern Metropolitan   \n",
       "1     1900.0        Yarra  -37.8079    144.9934  Northern Metropolitan   \n",
       "2     1900.0        Yarra  -37.8093    144.9944  Northern Metropolitan   \n",
       "3        NaN        Yarra  -37.7969    144.9969  Northern Metropolitan   \n",
       "4     2014.0        Yarra  -37.8072    144.9941  Northern Metropolitan   \n",
       "\n",
       "  Propertycount  \n",
       "0        4019.0  \n",
       "1        4019.0  \n",
       "2        4019.0  \n",
       "3        4019.0  \n",
       "4        4019.0  \n",
       "\n",
       "[5 rows x 21 columns]"
      ]
     },
     "execution_count": 2,
     "metadata": {},
     "output_type": "execute_result"
    }
   ],
   "source": [
    "# Загружаем, смотрим. Видим текст и пропуски\n",
    "\n",
    "data = pd.read_csv(r'C:\\Users\\1\\Desktop\\Workplace\\Рабочее пространство\\Степик\\Машинное обучение\\Датасеты\\archive_melburn\\melb_data.csv')\n",
    "data.head()"
   ]
  },
  {
   "cell_type": "code",
   "execution_count": 3,
   "metadata": {},
   "outputs": [],
   "source": [
    "# Поделим данные на целевую переменную (answer) и признаки (data)\n",
    "\n",
    "answer = data[\"Price\"]\n",
    "data = data.drop(columns=[\"Price\"])\n"
   ]
  },
  {
   "cell_type": "code",
   "execution_count": 4,
   "metadata": {
    "collapsed": true
   },
   "outputs": [
    {
     "name": "stderr",
     "output_type": "stream",
     "text": [
      "<frozen importlib._bootstrap>:219: RuntimeWarning: numpy.ufunc size changed, may indicate binary incompatibility. Expected 192 from C header, got 216 from PyObject\n"
     ]
    }
   ],
   "source": [
    "# Поделим выборку на train и test. Передаем признаки, целевую переменную и долю данных.\n",
    "# 20% пойдут на тестовую выборку, остальные 80% - на тренировочную\n",
    "\n",
    "from sklearn.model_selection import train_test_split\n",
    "\n",
    "X_train, X_test, y_train, y_test = train_test_split(data, answer, test_size=0.2) # test_size - какая доля данных пойдет в тестовую выборку\n"
   ]
  },
  {
   "cell_type": "markdown",
   "metadata": {},
   "source": [
    "### Работа с пропусками - первая часть предобработки данных\n"
   ]
  },
  {
   "cell_type": "code",
   "execution_count": 5,
   "metadata": {},
   "outputs": [
    {
     "name": "stdout",
     "output_type": "stream",
     "text": [
      "<class 'pandas.core.frame.DataFrame'>\n",
      "Int64Index: 10864 entries, 2932 to 4496\n",
      "Data columns (total 20 columns):\n",
      " #   Column         Non-Null Count  Dtype  \n",
      "---  ------         --------------  -----  \n",
      " 0   Suburb         10864 non-null  object \n",
      " 1   Address        10864 non-null  object \n",
      " 2   Rooms          10864 non-null  int64  \n",
      " 3   Type           10864 non-null  object \n",
      " 4   Method         10864 non-null  object \n",
      " 5   SellerG        10864 non-null  object \n",
      " 6   Date           10864 non-null  object \n",
      " 7   Distance       10864 non-null  float64\n",
      " 8   Postcode       10864 non-null  float64\n",
      " 9   Bedroom2       10864 non-null  float64\n",
      " 10  Bathroom       10864 non-null  float64\n",
      " 11  Car            10810 non-null  float64\n",
      " 12  Landsize       10864 non-null  float64\n",
      " 13  BuildingArea   5700 non-null   float64\n",
      " 14  YearBuilt      6570 non-null   float64\n",
      " 15  CouncilArea    9769 non-null   object \n",
      " 16  Lattitude      10864 non-null  float64\n",
      " 17  Longtitude     10864 non-null  float64\n",
      " 18  Regionname     10864 non-null  object \n",
      " 19  Propertycount  10864 non-null  float64\n",
      "dtypes: float64(11), int64(1), object(8)\n",
      "memory usage: 1.7+ MB\n"
     ]
    }
   ],
   "source": [
    "# Посмотрим, что там вообще у хохлов\n",
    "\n",
    "X_train.info()\n",
    "\n",
    "# Находим пропуски в BuildingArea, YearBuilt, CouncilArea, Car                "
   ]
  },
  {
   "cell_type": "code",
   "execution_count": 6,
   "metadata": {
    "collapsed": true
   },
   "outputs": [
    {
     "name": "stderr",
     "output_type": "stream",
     "text": [
      "<ipython-input-6-2125c691e98f>:6: SettingWithCopyWarning: \n",
      "A value is trying to be set on a copy of a slice from a DataFrame.\n",
      "Try using .loc[row_indexer,col_indexer] = value instead\n",
      "\n",
      "See the caveats in the documentation: https://pandas.pydata.org/pandas-docs/stable/user_guide/indexing.html#returning-a-view-versus-a-copy\n",
      "  X_train[\"Car\"] = X_train[\"Car\"].fillna(X_train[\"Car\"].median())\n",
      "<ipython-input-6-2125c691e98f>:7: SettingWithCopyWarning: \n",
      "A value is trying to be set on a copy of a slice from a DataFrame.\n",
      "Try using .loc[row_indexer,col_indexer] = value instead\n",
      "\n",
      "See the caveats in the documentation: https://pandas.pydata.org/pandas-docs/stable/user_guide/indexing.html#returning-a-view-versus-a-copy\n",
      "  X_train[\"BuildingArea\"] = X_train[\"BuildingArea\"].fillna(X_train[\"BuildingArea\"].median())\n",
      "<ipython-input-6-2125c691e98f>:8: SettingWithCopyWarning: \n",
      "A value is trying to be set on a copy of a slice from a DataFrame.\n",
      "Try using .loc[row_indexer,col_indexer] = value instead\n",
      "\n",
      "See the caveats in the documentation: https://pandas.pydata.org/pandas-docs/stable/user_guide/indexing.html#returning-a-view-versus-a-copy\n",
      "  X_train[\"YearBuilt\"] = X_train[\"YearBuilt\"].fillna(X_train[\"BuildingArea\"].median())\n",
      "<ipython-input-6-2125c691e98f>:15: SettingWithCopyWarning: \n",
      "A value is trying to be set on a copy of a slice from a DataFrame.\n",
      "Try using .loc[row_indexer,col_indexer] = value instead\n",
      "\n",
      "See the caveats in the documentation: https://pandas.pydata.org/pandas-docs/stable/user_guide/indexing.html#returning-a-view-versus-a-copy\n",
      "  X_train[\"CouncilArea\"] = X_train[\"CouncilArea\"].fillna(most_frequent_value)\n"
     ]
    }
   ],
   "source": [
    "# Заполняем NaN константными значениями\n",
    "\n",
    "\n",
    "# BuildingArea, YearBuilt, Car - числовые, поэтому берем median() (среднее). median > mean, т.к. median меньше подвержена вбросам\n",
    "\n",
    "X_train[\"Car\"] = X_train[\"Car\"].fillna(X_train[\"Car\"].median())\n",
    "X_train[\"BuildingArea\"] = X_train[\"BuildingArea\"].fillna(X_train[\"BuildingArea\"].median())\n",
    "X_train[\"YearBuilt\"] = X_train[\"YearBuilt\"].fillna(X_train[\"BuildingArea\"].median())\n",
    "\n",
    "\n",
    "# CouncilArea - категориальный признак. Принято заполнять их самым часто встречающимся значением по столбцу\n",
    "\n",
    "most_frequent_value = X_train[\"CouncilArea\"].value_counts().index[0]  # value_count вызывает количество повторяющихся элементов в порядке убывания. Берем первое по индексу значение, т.е. самое большее\n",
    "\n",
    "X_train[\"CouncilArea\"] = X_train[\"CouncilArea\"].fillna(most_frequent_value)\n"
   ]
  },
  {
   "cell_type": "code",
   "execution_count": 7,
   "metadata": {},
   "outputs": [
    {
     "data": {
      "text/plain": [
       "Suburb           False\n",
       "Address          False\n",
       "Rooms            False\n",
       "Type             False\n",
       "Method           False\n",
       "SellerG          False\n",
       "Date             False\n",
       "Distance         False\n",
       "Postcode         False\n",
       "Bedroom2         False\n",
       "Bathroom         False\n",
       "Car              False\n",
       "Landsize         False\n",
       "BuildingArea     False\n",
       "YearBuilt        False\n",
       "CouncilArea      False\n",
       "Lattitude        False\n",
       "Longtitude       False\n",
       "Regionname       False\n",
       "Propertycount    False\n",
       "dtype: bool"
      ]
     },
     "execution_count": 7,
     "metadata": {},
     "output_type": "execute_result"
    }
   ],
   "source": [
    "# Проверим на наличие пропусков. False = нет\n",
    "\n",
    "X_train.isna().any()"
   ]
  },
  {
   "cell_type": "code",
   "execution_count": 8,
   "metadata": {},
   "outputs": [],
   "source": [
    "# Есть ещё способ KNNImputer. Заполняется по остальным признака, что приводит \n",
    "\n",
    "#from sklearn.impute import KNNImputer\n",
    "#inputer = KNNImputer(n_neightbors=5)\n",
    "#imputer.fit(X_train)\n",
    "#new_X_train = imputer.transform(X_train)"
   ]
  },
  {
   "cell_type": "markdown",
   "metadata": {},
   "source": [
    "## Преобразование категориальных признаков - вторая часть предобработки данных"
   ]
  },
  {
   "cell_type": "code",
   "execution_count": 9,
   "metadata": {},
   "outputs": [],
   "source": [
    "# Нумерование. "
   ]
  },
  {
   "cell_type": "code",
   "execution_count": 10,
   "metadata": {
    "collapsed": true
   },
   "outputs": [
    {
     "name": "stderr",
     "output_type": "stream",
     "text": [
      "<ipython-input-10-19941f3bdaeb>:9: SettingWithCopyWarning: \n",
      "A value is trying to be set on a copy of a slice from a DataFrame.\n",
      "Try using .loc[row_indexer,col_indexer] = value instead\n",
      "\n",
      "See the caveats in the documentation: https://pandas.pydata.org/pandas-docs/stable/user_guide/indexing.html#returning-a-view-versus-a-copy\n",
      "  X_train[\"Suburb\"] = X_train[\"Suburb\"].apply(lambda x: dict_[x])\n"
     ]
    }
   ],
   "source": [
    "# Первый способ - нумерование руками\n",
    "\n",
    "from collections import defaultdict\n",
    "dict_ = defaultdict(int)\n",
    "for i,x in enumerate(np.unique(X_train.Suburb)):\n",
    "    dict_[x] = i+1\n",
    "    \n",
    "\n",
    "X_train[\"Suburb\"] = X_train[\"Suburb\"].apply(lambda x: dict_[x])"
   ]
  },
  {
   "cell_type": "code",
   "execution_count": 11,
   "metadata": {},
   "outputs": [
    {
     "data": {
      "text/html": [
       "<div>\n",
       "<style scoped>\n",
       "    .dataframe tbody tr th:only-of-type {\n",
       "        vertical-align: middle;\n",
       "    }\n",
       "\n",
       "    .dataframe tbody tr th {\n",
       "        vertical-align: top;\n",
       "    }\n",
       "\n",
       "    .dataframe thead th {\n",
       "        text-align: right;\n",
       "    }\n",
       "</style>\n",
       "<table border=\"1\" class=\"dataframe\">\n",
       "  <thead>\n",
       "    <tr style=\"text-align: right;\">\n",
       "      <th></th>\n",
       "      <th>Suburb</th>\n",
       "      <th>Address</th>\n",
       "      <th>Rooms</th>\n",
       "      <th>Type</th>\n",
       "      <th>Method</th>\n",
       "      <th>SellerG</th>\n",
       "      <th>Date</th>\n",
       "      <th>Distance</th>\n",
       "      <th>Postcode</th>\n",
       "      <th>Bedroom2</th>\n",
       "      <th>Bathroom</th>\n",
       "      <th>Car</th>\n",
       "      <th>Landsize</th>\n",
       "      <th>BuildingArea</th>\n",
       "      <th>YearBuilt</th>\n",
       "      <th>CouncilArea</th>\n",
       "      <th>Lattitude</th>\n",
       "      <th>Longtitude</th>\n",
       "      <th>Regionname</th>\n",
       "      <th>Propertycount</th>\n",
       "    </tr>\n",
       "  </thead>\n",
       "  <tbody>\n",
       "    <tr>\n",
       "      <th>2932</th>\n",
       "      <td>137</td>\n",
       "      <td>29 Moonee Bvd</td>\n",
       "      <td>3</td>\n",
       "      <td>h</td>\n",
       "      <td>PI</td>\n",
       "      <td>Barry</td>\n",
       "      <td>24/09/2016</td>\n",
       "      <td>13.0</td>\n",
       "      <td>3046.0</td>\n",
       "      <td>3.0</td>\n",
       "      <td>2.0</td>\n",
       "      <td>2.0</td>\n",
       "      <td>585.0</td>\n",
       "      <td>146.0</td>\n",
       "      <td>1975.0</td>\n",
       "      <td>Moreland</td>\n",
       "      <td>-37.69770</td>\n",
       "      <td>144.90710</td>\n",
       "      <td>Northern Metropolitan</td>\n",
       "      <td>8870.0</td>\n",
       "    </tr>\n",
       "    <tr>\n",
       "      <th>1697</th>\n",
       "      <td>62</td>\n",
       "      <td>4 Mary St</td>\n",
       "      <td>2</td>\n",
       "      <td>u</td>\n",
       "      <td>VB</td>\n",
       "      <td>Nelson</td>\n",
       "      <td>24/09/2016</td>\n",
       "      <td>3.2</td>\n",
       "      <td>3054.0</td>\n",
       "      <td>2.0</td>\n",
       "      <td>1.0</td>\n",
       "      <td>1.0</td>\n",
       "      <td>0.0</td>\n",
       "      <td>86.0</td>\n",
       "      <td>1940.0</td>\n",
       "      <td>Yarra</td>\n",
       "      <td>-37.78130</td>\n",
       "      <td>144.97730</td>\n",
       "      <td>Northern Metropolitan</td>\n",
       "      <td>3106.0</td>\n",
       "    </tr>\n",
       "    <tr>\n",
       "      <th>12076</th>\n",
       "      <td>189</td>\n",
       "      <td>48 Manson Dr</td>\n",
       "      <td>3</td>\n",
       "      <td>h</td>\n",
       "      <td>S</td>\n",
       "      <td>YPA</td>\n",
       "      <td>29/07/2017</td>\n",
       "      <td>29.8</td>\n",
       "      <td>3338.0</td>\n",
       "      <td>3.0</td>\n",
       "      <td>1.0</td>\n",
       "      <td>2.0</td>\n",
       "      <td>670.0</td>\n",
       "      <td>124.0</td>\n",
       "      <td>1975.0</td>\n",
       "      <td>Melton</td>\n",
       "      <td>-37.70228</td>\n",
       "      <td>144.57688</td>\n",
       "      <td>Western Victoria</td>\n",
       "      <td>4718.0</td>\n",
       "    </tr>\n",
       "    <tr>\n",
       "      <th>10674</th>\n",
       "      <td>133</td>\n",
       "      <td>19 Osborne Av</td>\n",
       "      <td>4</td>\n",
       "      <td>h</td>\n",
       "      <td>SP</td>\n",
       "      <td>Barry</td>\n",
       "      <td>8/07/2017</td>\n",
       "      <td>12.9</td>\n",
       "      <td>3043.0</td>\n",
       "      <td>4.0</td>\n",
       "      <td>2.0</td>\n",
       "      <td>2.0</td>\n",
       "      <td>561.0</td>\n",
       "      <td>160.0</td>\n",
       "      <td>1970.0</td>\n",
       "      <td>Hume</td>\n",
       "      <td>-37.68269</td>\n",
       "      <td>144.88601</td>\n",
       "      <td>Western Metropolitan</td>\n",
       "      <td>3285.0</td>\n",
       "    </tr>\n",
       "    <tr>\n",
       "      <th>6268</th>\n",
       "      <td>277</td>\n",
       "      <td>327 Gillies St</td>\n",
       "      <td>3</td>\n",
       "      <td>h</td>\n",
       "      <td>PI</td>\n",
       "      <td>Nelson</td>\n",
       "      <td>12/06/2016</td>\n",
       "      <td>6.5</td>\n",
       "      <td>3071.0</td>\n",
       "      <td>3.0</td>\n",
       "      <td>2.0</td>\n",
       "      <td>2.0</td>\n",
       "      <td>398.0</td>\n",
       "      <td>126.0</td>\n",
       "      <td>126.0</td>\n",
       "      <td>Darebin</td>\n",
       "      <td>-37.76300</td>\n",
       "      <td>145.01980</td>\n",
       "      <td>Northern Metropolitan</td>\n",
       "      <td>8870.0</td>\n",
       "    </tr>\n",
       "  </tbody>\n",
       "</table>\n",
       "</div>"
      ],
      "text/plain": [
       "       Suburb         Address  Rooms Type Method SellerG        Date  \\\n",
       "2932      137   29 Moonee Bvd      3    h     PI   Barry  24/09/2016   \n",
       "1697       62       4 Mary St      2    u     VB  Nelson  24/09/2016   \n",
       "12076     189    48 Manson Dr      3    h      S     YPA  29/07/2017   \n",
       "10674     133   19 Osborne Av      4    h     SP   Barry   8/07/2017   \n",
       "6268      277  327 Gillies St      3    h     PI  Nelson  12/06/2016   \n",
       "\n",
       "       Distance  Postcode  Bedroom2  Bathroom  Car  Landsize  BuildingArea  \\\n",
       "2932       13.0    3046.0       3.0       2.0  2.0     585.0         146.0   \n",
       "1697        3.2    3054.0       2.0       1.0  1.0       0.0          86.0   \n",
       "12076      29.8    3338.0       3.0       1.0  2.0     670.0         124.0   \n",
       "10674      12.9    3043.0       4.0       2.0  2.0     561.0         160.0   \n",
       "6268        6.5    3071.0       3.0       2.0  2.0     398.0         126.0   \n",
       "\n",
       "       YearBuilt CouncilArea  Lattitude  Longtitude             Regionname  \\\n",
       "2932      1975.0    Moreland  -37.69770   144.90710  Northern Metropolitan   \n",
       "1697      1940.0       Yarra  -37.78130   144.97730  Northern Metropolitan   \n",
       "12076     1975.0      Melton  -37.70228   144.57688       Western Victoria   \n",
       "10674     1970.0        Hume  -37.68269   144.88601   Western Metropolitan   \n",
       "6268       126.0     Darebin  -37.76300   145.01980  Northern Metropolitan   \n",
       "\n",
       "       Propertycount  \n",
       "2932          8870.0  \n",
       "1697          3106.0  \n",
       "12076         4718.0  \n",
       "10674         3285.0  \n",
       "6268          8870.0  "
      ]
     },
     "execution_count": 11,
     "metadata": {},
     "output_type": "execute_result"
    }
   ],
   "source": [
    "# Проверим, что получилось\n",
    "\n",
    "X_train.head()"
   ]
  },
  {
   "cell_type": "code",
   "execution_count": 13,
   "metadata": {},
   "outputs": [
    {
     "data": {
      "text/plain": [
       "LabelEncoder()"
      ]
     },
     "execution_count": 13,
     "metadata": {},
     "output_type": "execute_result"
    }
   ],
   "source": [
    "# Второй способ - при помощи LabelEncoder из библиотеки sklearn. Делает то же самое, что и первый.\n",
    "\n",
    "from sklearn.preprocessing import LabelEncoder\n",
    "\n",
    "le = LabelEncoder()\n",
    "\n",
    "le.fit(X_train[\"Method\"])"
   ]
  },
  {
   "cell_type": "code",
   "execution_count": 14,
   "metadata": {},
   "outputs": [
    {
     "data": {
      "text/plain": [
       "array(['PI', 'S', 'SA', 'SP', 'VB'], dtype=object)"
      ]
     },
     "execution_count": 14,
     "metadata": {},
     "output_type": "execute_result"
    }
   ],
   "source": [
    "# Смотрим какие классы есть в le\n",
    "\n",
    "le.classes_"
   ]
  },
  {
   "cell_type": "code",
   "execution_count": 15,
   "metadata": {
    "collapsed": true
   },
   "outputs": [
    {
     "name": "stderr",
     "output_type": "stream",
     "text": [
      "<ipython-input-15-d9aebaa04185>:1: SettingWithCopyWarning: \n",
      "A value is trying to be set on a copy of a slice from a DataFrame.\n",
      "Try using .loc[row_indexer,col_indexer] = value instead\n",
      "\n",
      "See the caveats in the documentation: https://pandas.pydata.org/pandas-docs/stable/user_guide/indexing.html#returning-a-view-versus-a-copy\n",
      "  X_train[\"Method\"] = le.transform(X_train[\"Method\"])\n"
     ]
    }
   ],
   "source": [
    "X_train[\"Method\"] = le.transform(X_train[\"Method\"])"
   ]
  },
  {
   "cell_type": "code",
   "execution_count": 16,
   "metadata": {},
   "outputs": [
    {
     "data": {
      "text/html": [
       "<div>\n",
       "<style scoped>\n",
       "    .dataframe tbody tr th:only-of-type {\n",
       "        vertical-align: middle;\n",
       "    }\n",
       "\n",
       "    .dataframe tbody tr th {\n",
       "        vertical-align: top;\n",
       "    }\n",
       "\n",
       "    .dataframe thead th {\n",
       "        text-align: right;\n",
       "    }\n",
       "</style>\n",
       "<table border=\"1\" class=\"dataframe\">\n",
       "  <thead>\n",
       "    <tr style=\"text-align: right;\">\n",
       "      <th></th>\n",
       "      <th>Suburb</th>\n",
       "      <th>Address</th>\n",
       "      <th>Rooms</th>\n",
       "      <th>Type</th>\n",
       "      <th>Method</th>\n",
       "      <th>SellerG</th>\n",
       "      <th>Date</th>\n",
       "      <th>Distance</th>\n",
       "      <th>Postcode</th>\n",
       "      <th>Bedroom2</th>\n",
       "      <th>Bathroom</th>\n",
       "      <th>Car</th>\n",
       "      <th>Landsize</th>\n",
       "      <th>BuildingArea</th>\n",
       "      <th>YearBuilt</th>\n",
       "      <th>CouncilArea</th>\n",
       "      <th>Lattitude</th>\n",
       "      <th>Longtitude</th>\n",
       "      <th>Regionname</th>\n",
       "      <th>Propertycount</th>\n",
       "    </tr>\n",
       "  </thead>\n",
       "  <tbody>\n",
       "    <tr>\n",
       "      <th>2932</th>\n",
       "      <td>137</td>\n",
       "      <td>29 Moonee Bvd</td>\n",
       "      <td>3</td>\n",
       "      <td>h</td>\n",
       "      <td>0</td>\n",
       "      <td>Barry</td>\n",
       "      <td>24/09/2016</td>\n",
       "      <td>13.0</td>\n",
       "      <td>3046.0</td>\n",
       "      <td>3.0</td>\n",
       "      <td>2.0</td>\n",
       "      <td>2.0</td>\n",
       "      <td>585.0</td>\n",
       "      <td>146.0</td>\n",
       "      <td>1975.0</td>\n",
       "      <td>Moreland</td>\n",
       "      <td>-37.69770</td>\n",
       "      <td>144.90710</td>\n",
       "      <td>Northern Metropolitan</td>\n",
       "      <td>8870.0</td>\n",
       "    </tr>\n",
       "    <tr>\n",
       "      <th>1697</th>\n",
       "      <td>62</td>\n",
       "      <td>4 Mary St</td>\n",
       "      <td>2</td>\n",
       "      <td>u</td>\n",
       "      <td>4</td>\n",
       "      <td>Nelson</td>\n",
       "      <td>24/09/2016</td>\n",
       "      <td>3.2</td>\n",
       "      <td>3054.0</td>\n",
       "      <td>2.0</td>\n",
       "      <td>1.0</td>\n",
       "      <td>1.0</td>\n",
       "      <td>0.0</td>\n",
       "      <td>86.0</td>\n",
       "      <td>1940.0</td>\n",
       "      <td>Yarra</td>\n",
       "      <td>-37.78130</td>\n",
       "      <td>144.97730</td>\n",
       "      <td>Northern Metropolitan</td>\n",
       "      <td>3106.0</td>\n",
       "    </tr>\n",
       "    <tr>\n",
       "      <th>12076</th>\n",
       "      <td>189</td>\n",
       "      <td>48 Manson Dr</td>\n",
       "      <td>3</td>\n",
       "      <td>h</td>\n",
       "      <td>1</td>\n",
       "      <td>YPA</td>\n",
       "      <td>29/07/2017</td>\n",
       "      <td>29.8</td>\n",
       "      <td>3338.0</td>\n",
       "      <td>3.0</td>\n",
       "      <td>1.0</td>\n",
       "      <td>2.0</td>\n",
       "      <td>670.0</td>\n",
       "      <td>124.0</td>\n",
       "      <td>1975.0</td>\n",
       "      <td>Melton</td>\n",
       "      <td>-37.70228</td>\n",
       "      <td>144.57688</td>\n",
       "      <td>Western Victoria</td>\n",
       "      <td>4718.0</td>\n",
       "    </tr>\n",
       "    <tr>\n",
       "      <th>10674</th>\n",
       "      <td>133</td>\n",
       "      <td>19 Osborne Av</td>\n",
       "      <td>4</td>\n",
       "      <td>h</td>\n",
       "      <td>3</td>\n",
       "      <td>Barry</td>\n",
       "      <td>8/07/2017</td>\n",
       "      <td>12.9</td>\n",
       "      <td>3043.0</td>\n",
       "      <td>4.0</td>\n",
       "      <td>2.0</td>\n",
       "      <td>2.0</td>\n",
       "      <td>561.0</td>\n",
       "      <td>160.0</td>\n",
       "      <td>1970.0</td>\n",
       "      <td>Hume</td>\n",
       "      <td>-37.68269</td>\n",
       "      <td>144.88601</td>\n",
       "      <td>Western Metropolitan</td>\n",
       "      <td>3285.0</td>\n",
       "    </tr>\n",
       "    <tr>\n",
       "      <th>6268</th>\n",
       "      <td>277</td>\n",
       "      <td>327 Gillies St</td>\n",
       "      <td>3</td>\n",
       "      <td>h</td>\n",
       "      <td>0</td>\n",
       "      <td>Nelson</td>\n",
       "      <td>12/06/2016</td>\n",
       "      <td>6.5</td>\n",
       "      <td>3071.0</td>\n",
       "      <td>3.0</td>\n",
       "      <td>2.0</td>\n",
       "      <td>2.0</td>\n",
       "      <td>398.0</td>\n",
       "      <td>126.0</td>\n",
       "      <td>126.0</td>\n",
       "      <td>Darebin</td>\n",
       "      <td>-37.76300</td>\n",
       "      <td>145.01980</td>\n",
       "      <td>Northern Metropolitan</td>\n",
       "      <td>8870.0</td>\n",
       "    </tr>\n",
       "  </tbody>\n",
       "</table>\n",
       "</div>"
      ],
      "text/plain": [
       "       Suburb         Address  Rooms Type  Method SellerG        Date  \\\n",
       "2932      137   29 Moonee Bvd      3    h       0   Barry  24/09/2016   \n",
       "1697       62       4 Mary St      2    u       4  Nelson  24/09/2016   \n",
       "12076     189    48 Manson Dr      3    h       1     YPA  29/07/2017   \n",
       "10674     133   19 Osborne Av      4    h       3   Barry   8/07/2017   \n",
       "6268      277  327 Gillies St      3    h       0  Nelson  12/06/2016   \n",
       "\n",
       "       Distance  Postcode  Bedroom2  Bathroom  Car  Landsize  BuildingArea  \\\n",
       "2932       13.0    3046.0       3.0       2.0  2.0     585.0         146.0   \n",
       "1697        3.2    3054.0       2.0       1.0  1.0       0.0          86.0   \n",
       "12076      29.8    3338.0       3.0       1.0  2.0     670.0         124.0   \n",
       "10674      12.9    3043.0       4.0       2.0  2.0     561.0         160.0   \n",
       "6268        6.5    3071.0       3.0       2.0  2.0     398.0         126.0   \n",
       "\n",
       "       YearBuilt CouncilArea  Lattitude  Longtitude             Regionname  \\\n",
       "2932      1975.0    Moreland  -37.69770   144.90710  Northern Metropolitan   \n",
       "1697      1940.0       Yarra  -37.78130   144.97730  Northern Metropolitan   \n",
       "12076     1975.0      Melton  -37.70228   144.57688       Western Victoria   \n",
       "10674     1970.0        Hume  -37.68269   144.88601   Western Metropolitan   \n",
       "6268       126.0     Darebin  -37.76300   145.01980  Northern Metropolitan   \n",
       "\n",
       "       Propertycount  \n",
       "2932          8870.0  \n",
       "1697          3106.0  \n",
       "12076         4718.0  \n",
       "10674         3285.0  \n",
       "6268          8870.0  "
      ]
     },
     "execution_count": 16,
     "metadata": {},
     "output_type": "execute_result"
    }
   ],
   "source": [
    "# Проверяем изменения\n",
    "\n",
    "X_train.head()"
   ]
  },
  {
   "cell_type": "code",
   "execution_count": 20,
   "metadata": {},
   "outputs": [
    {
     "data": {
      "text/plain": [
       "array(['Eastern Metropolitan', 'Eastern Victoria',\n",
       "       'Northern Metropolitan', 'Northern Victoria',\n",
       "       'South-Eastern Metropolitan', 'Southern Metropolitan',\n",
       "       'Western Metropolitan', 'Western Victoria'], dtype=object)"
      ]
     },
     "execution_count": 20,
     "metadata": {},
     "output_type": "execute_result"
    }
   ],
   "source": [
    "# Третий способ - бинаризация. Лучше использовать это, чтобы не возникало ошибок. При бинаризации из одного столбца \n",
    "# с несколькими категориальными значениями получается несколько новых бинарных столбцов, значения которых 0 и 1. \n",
    "\n",
    "np.unique(X_train[\"Regionname\"])\n",
    "\n",
    "# Т.к. классов 8, то столбцов будет 8"
   ]
  },
  {
   "cell_type": "code",
   "execution_count": 21,
   "metadata": {},
   "outputs": [
    {
     "data": {
      "text/html": [
       "<div>\n",
       "<style scoped>\n",
       "    .dataframe tbody tr th:only-of-type {\n",
       "        vertical-align: middle;\n",
       "    }\n",
       "\n",
       "    .dataframe tbody tr th {\n",
       "        vertical-align: top;\n",
       "    }\n",
       "\n",
       "    .dataframe thead th {\n",
       "        text-align: right;\n",
       "    }\n",
       "</style>\n",
       "<table border=\"1\" class=\"dataframe\">\n",
       "  <thead>\n",
       "    <tr style=\"text-align: right;\">\n",
       "      <th></th>\n",
       "      <th>Eastern Metropolitan</th>\n",
       "      <th>Eastern Victoria</th>\n",
       "      <th>Northern Metropolitan</th>\n",
       "      <th>Northern Victoria</th>\n",
       "      <th>South-Eastern Metropolitan</th>\n",
       "      <th>Southern Metropolitan</th>\n",
       "      <th>Western Metropolitan</th>\n",
       "      <th>Western Victoria</th>\n",
       "    </tr>\n",
       "  </thead>\n",
       "  <tbody>\n",
       "    <tr>\n",
       "      <th>2932</th>\n",
       "      <td>0</td>\n",
       "      <td>0</td>\n",
       "      <td>1</td>\n",
       "      <td>0</td>\n",
       "      <td>0</td>\n",
       "      <td>0</td>\n",
       "      <td>0</td>\n",
       "      <td>0</td>\n",
       "    </tr>\n",
       "    <tr>\n",
       "      <th>1697</th>\n",
       "      <td>0</td>\n",
       "      <td>0</td>\n",
       "      <td>1</td>\n",
       "      <td>0</td>\n",
       "      <td>0</td>\n",
       "      <td>0</td>\n",
       "      <td>0</td>\n",
       "      <td>0</td>\n",
       "    </tr>\n",
       "    <tr>\n",
       "      <th>12076</th>\n",
       "      <td>0</td>\n",
       "      <td>0</td>\n",
       "      <td>0</td>\n",
       "      <td>0</td>\n",
       "      <td>0</td>\n",
       "      <td>0</td>\n",
       "      <td>0</td>\n",
       "      <td>1</td>\n",
       "    </tr>\n",
       "    <tr>\n",
       "      <th>10674</th>\n",
       "      <td>0</td>\n",
       "      <td>0</td>\n",
       "      <td>0</td>\n",
       "      <td>0</td>\n",
       "      <td>0</td>\n",
       "      <td>0</td>\n",
       "      <td>1</td>\n",
       "      <td>0</td>\n",
       "    </tr>\n",
       "    <tr>\n",
       "      <th>6268</th>\n",
       "      <td>0</td>\n",
       "      <td>0</td>\n",
       "      <td>1</td>\n",
       "      <td>0</td>\n",
       "      <td>0</td>\n",
       "      <td>0</td>\n",
       "      <td>0</td>\n",
       "      <td>0</td>\n",
       "    </tr>\n",
       "    <tr>\n",
       "      <th>...</th>\n",
       "      <td>...</td>\n",
       "      <td>...</td>\n",
       "      <td>...</td>\n",
       "      <td>...</td>\n",
       "      <td>...</td>\n",
       "      <td>...</td>\n",
       "      <td>...</td>\n",
       "      <td>...</td>\n",
       "    </tr>\n",
       "    <tr>\n",
       "      <th>4201</th>\n",
       "      <td>0</td>\n",
       "      <td>0</td>\n",
       "      <td>0</td>\n",
       "      <td>0</td>\n",
       "      <td>0</td>\n",
       "      <td>0</td>\n",
       "      <td>1</td>\n",
       "      <td>0</td>\n",
       "    </tr>\n",
       "    <tr>\n",
       "      <th>6799</th>\n",
       "      <td>0</td>\n",
       "      <td>0</td>\n",
       "      <td>1</td>\n",
       "      <td>0</td>\n",
       "      <td>0</td>\n",
       "      <td>0</td>\n",
       "      <td>0</td>\n",
       "      <td>0</td>\n",
       "    </tr>\n",
       "    <tr>\n",
       "      <th>13232</th>\n",
       "      <td>1</td>\n",
       "      <td>0</td>\n",
       "      <td>0</td>\n",
       "      <td>0</td>\n",
       "      <td>0</td>\n",
       "      <td>0</td>\n",
       "      <td>0</td>\n",
       "      <td>0</td>\n",
       "    </tr>\n",
       "    <tr>\n",
       "      <th>185</th>\n",
       "      <td>0</td>\n",
       "      <td>0</td>\n",
       "      <td>0</td>\n",
       "      <td>0</td>\n",
       "      <td>0</td>\n",
       "      <td>0</td>\n",
       "      <td>1</td>\n",
       "      <td>0</td>\n",
       "    </tr>\n",
       "    <tr>\n",
       "      <th>4496</th>\n",
       "      <td>0</td>\n",
       "      <td>0</td>\n",
       "      <td>1</td>\n",
       "      <td>0</td>\n",
       "      <td>0</td>\n",
       "      <td>0</td>\n",
       "      <td>0</td>\n",
       "      <td>0</td>\n",
       "    </tr>\n",
       "  </tbody>\n",
       "</table>\n",
       "<p>10864 rows × 8 columns</p>\n",
       "</div>"
      ],
      "text/plain": [
       "       Eastern Metropolitan  Eastern Victoria  Northern Metropolitan  \\\n",
       "2932                      0                 0                      1   \n",
       "1697                      0                 0                      1   \n",
       "12076                     0                 0                      0   \n",
       "10674                     0                 0                      0   \n",
       "6268                      0                 0                      1   \n",
       "...                     ...               ...                    ...   \n",
       "4201                      0                 0                      0   \n",
       "6799                      0                 0                      1   \n",
       "13232                     1                 0                      0   \n",
       "185                       0                 0                      0   \n",
       "4496                      0                 0                      1   \n",
       "\n",
       "       Northern Victoria  South-Eastern Metropolitan  Southern Metropolitan  \\\n",
       "2932                   0                           0                      0   \n",
       "1697                   0                           0                      0   \n",
       "12076                  0                           0                      0   \n",
       "10674                  0                           0                      0   \n",
       "6268                   0                           0                      0   \n",
       "...                  ...                         ...                    ...   \n",
       "4201                   0                           0                      0   \n",
       "6799                   0                           0                      0   \n",
       "13232                  0                           0                      0   \n",
       "185                    0                           0                      0   \n",
       "4496                   0                           0                      0   \n",
       "\n",
       "       Western Metropolitan  Western Victoria  \n",
       "2932                      0                 0  \n",
       "1697                      0                 0  \n",
       "12076                     0                 1  \n",
       "10674                     1                 0  \n",
       "6268                      0                 0  \n",
       "...                     ...               ...  \n",
       "4201                      1                 0  \n",
       "6799                      0                 0  \n",
       "13232                     0                 0  \n",
       "185                       1                 0  \n",
       "4496                      0                 0  \n",
       "\n",
       "[10864 rows x 8 columns]"
      ]
     },
     "execution_count": 21,
     "metadata": {},
     "output_type": "execute_result"
    }
   ],
   "source": [
    "pd.get_dummies(X_train[\"Regionname\"])"
   ]
  },
  {
   "cell_type": "code",
   "execution_count": 22,
   "metadata": {},
   "outputs": [],
   "source": [
    "# Добавляем новые колонки\n",
    "\n",
    "X_train = pd.get_dummies(X_train, columns=[\"Regionname\"])"
   ]
  },
  {
   "cell_type": "code",
   "execution_count": 24,
   "metadata": {},
   "outputs": [
    {
     "data": {
      "text/html": [
       "<div>\n",
       "<style scoped>\n",
       "    .dataframe tbody tr th:only-of-type {\n",
       "        vertical-align: middle;\n",
       "    }\n",
       "\n",
       "    .dataframe tbody tr th {\n",
       "        vertical-align: top;\n",
       "    }\n",
       "\n",
       "    .dataframe thead th {\n",
       "        text-align: right;\n",
       "    }\n",
       "</style>\n",
       "<table border=\"1\" class=\"dataframe\">\n",
       "  <thead>\n",
       "    <tr style=\"text-align: right;\">\n",
       "      <th></th>\n",
       "      <th>Suburb</th>\n",
       "      <th>Address</th>\n",
       "      <th>Rooms</th>\n",
       "      <th>Type</th>\n",
       "      <th>Method</th>\n",
       "      <th>SellerG</th>\n",
       "      <th>Date</th>\n",
       "      <th>Distance</th>\n",
       "      <th>Postcode</th>\n",
       "      <th>Bedroom2</th>\n",
       "      <th>...</th>\n",
       "      <th>Longtitude</th>\n",
       "      <th>Propertycount</th>\n",
       "      <th>Regionname_Eastern Metropolitan</th>\n",
       "      <th>Regionname_Eastern Victoria</th>\n",
       "      <th>Regionname_Northern Metropolitan</th>\n",
       "      <th>Regionname_Northern Victoria</th>\n",
       "      <th>Regionname_South-Eastern Metropolitan</th>\n",
       "      <th>Regionname_Southern Metropolitan</th>\n",
       "      <th>Regionname_Western Metropolitan</th>\n",
       "      <th>Regionname_Western Victoria</th>\n",
       "    </tr>\n",
       "  </thead>\n",
       "  <tbody>\n",
       "    <tr>\n",
       "      <th>2932</th>\n",
       "      <td>137</td>\n",
       "      <td>29 Moonee Bvd</td>\n",
       "      <td>3</td>\n",
       "      <td>h</td>\n",
       "      <td>0</td>\n",
       "      <td>Barry</td>\n",
       "      <td>24/09/2016</td>\n",
       "      <td>13.0</td>\n",
       "      <td>3046.0</td>\n",
       "      <td>3.0</td>\n",
       "      <td>...</td>\n",
       "      <td>144.90710</td>\n",
       "      <td>8870.0</td>\n",
       "      <td>0</td>\n",
       "      <td>0</td>\n",
       "      <td>1</td>\n",
       "      <td>0</td>\n",
       "      <td>0</td>\n",
       "      <td>0</td>\n",
       "      <td>0</td>\n",
       "      <td>0</td>\n",
       "    </tr>\n",
       "    <tr>\n",
       "      <th>1697</th>\n",
       "      <td>62</td>\n",
       "      <td>4 Mary St</td>\n",
       "      <td>2</td>\n",
       "      <td>u</td>\n",
       "      <td>4</td>\n",
       "      <td>Nelson</td>\n",
       "      <td>24/09/2016</td>\n",
       "      <td>3.2</td>\n",
       "      <td>3054.0</td>\n",
       "      <td>2.0</td>\n",
       "      <td>...</td>\n",
       "      <td>144.97730</td>\n",
       "      <td>3106.0</td>\n",
       "      <td>0</td>\n",
       "      <td>0</td>\n",
       "      <td>1</td>\n",
       "      <td>0</td>\n",
       "      <td>0</td>\n",
       "      <td>0</td>\n",
       "      <td>0</td>\n",
       "      <td>0</td>\n",
       "    </tr>\n",
       "    <tr>\n",
       "      <th>12076</th>\n",
       "      <td>189</td>\n",
       "      <td>48 Manson Dr</td>\n",
       "      <td>3</td>\n",
       "      <td>h</td>\n",
       "      <td>1</td>\n",
       "      <td>YPA</td>\n",
       "      <td>29/07/2017</td>\n",
       "      <td>29.8</td>\n",
       "      <td>3338.0</td>\n",
       "      <td>3.0</td>\n",
       "      <td>...</td>\n",
       "      <td>144.57688</td>\n",
       "      <td>4718.0</td>\n",
       "      <td>0</td>\n",
       "      <td>0</td>\n",
       "      <td>0</td>\n",
       "      <td>0</td>\n",
       "      <td>0</td>\n",
       "      <td>0</td>\n",
       "      <td>0</td>\n",
       "      <td>1</td>\n",
       "    </tr>\n",
       "    <tr>\n",
       "      <th>10674</th>\n",
       "      <td>133</td>\n",
       "      <td>19 Osborne Av</td>\n",
       "      <td>4</td>\n",
       "      <td>h</td>\n",
       "      <td>3</td>\n",
       "      <td>Barry</td>\n",
       "      <td>8/07/2017</td>\n",
       "      <td>12.9</td>\n",
       "      <td>3043.0</td>\n",
       "      <td>4.0</td>\n",
       "      <td>...</td>\n",
       "      <td>144.88601</td>\n",
       "      <td>3285.0</td>\n",
       "      <td>0</td>\n",
       "      <td>0</td>\n",
       "      <td>0</td>\n",
       "      <td>0</td>\n",
       "      <td>0</td>\n",
       "      <td>0</td>\n",
       "      <td>1</td>\n",
       "      <td>0</td>\n",
       "    </tr>\n",
       "    <tr>\n",
       "      <th>6268</th>\n",
       "      <td>277</td>\n",
       "      <td>327 Gillies St</td>\n",
       "      <td>3</td>\n",
       "      <td>h</td>\n",
       "      <td>0</td>\n",
       "      <td>Nelson</td>\n",
       "      <td>12/06/2016</td>\n",
       "      <td>6.5</td>\n",
       "      <td>3071.0</td>\n",
       "      <td>3.0</td>\n",
       "      <td>...</td>\n",
       "      <td>145.01980</td>\n",
       "      <td>8870.0</td>\n",
       "      <td>0</td>\n",
       "      <td>0</td>\n",
       "      <td>1</td>\n",
       "      <td>0</td>\n",
       "      <td>0</td>\n",
       "      <td>0</td>\n",
       "      <td>0</td>\n",
       "      <td>0</td>\n",
       "    </tr>\n",
       "  </tbody>\n",
       "</table>\n",
       "<p>5 rows × 27 columns</p>\n",
       "</div>"
      ],
      "text/plain": [
       "       Suburb         Address  Rooms Type  Method SellerG        Date  \\\n",
       "2932      137   29 Moonee Bvd      3    h       0   Barry  24/09/2016   \n",
       "1697       62       4 Mary St      2    u       4  Nelson  24/09/2016   \n",
       "12076     189    48 Manson Dr      3    h       1     YPA  29/07/2017   \n",
       "10674     133   19 Osborne Av      4    h       3   Barry   8/07/2017   \n",
       "6268      277  327 Gillies St      3    h       0  Nelson  12/06/2016   \n",
       "\n",
       "       Distance  Postcode  Bedroom2  ...  Longtitude  Propertycount  \\\n",
       "2932       13.0    3046.0       3.0  ...   144.90710         8870.0   \n",
       "1697        3.2    3054.0       2.0  ...   144.97730         3106.0   \n",
       "12076      29.8    3338.0       3.0  ...   144.57688         4718.0   \n",
       "10674      12.9    3043.0       4.0  ...   144.88601         3285.0   \n",
       "6268        6.5    3071.0       3.0  ...   145.01980         8870.0   \n",
       "\n",
       "       Regionname_Eastern Metropolitan  Regionname_Eastern Victoria  \\\n",
       "2932                                 0                            0   \n",
       "1697                                 0                            0   \n",
       "12076                                0                            0   \n",
       "10674                                0                            0   \n",
       "6268                                 0                            0   \n",
       "\n",
       "       Regionname_Northern Metropolitan Regionname_Northern Victoria  \\\n",
       "2932                                  1                            0   \n",
       "1697                                  1                            0   \n",
       "12076                                 0                            0   \n",
       "10674                                 0                            0   \n",
       "6268                                  1                            0   \n",
       "\n",
       "       Regionname_South-Eastern Metropolitan  \\\n",
       "2932                                       0   \n",
       "1697                                       0   \n",
       "12076                                      0   \n",
       "10674                                      0   \n",
       "6268                                       0   \n",
       "\n",
       "       Regionname_Southern Metropolitan  Regionname_Western Metropolitan  \\\n",
       "2932                                  0                                0   \n",
       "1697                                  0                                0   \n",
       "12076                                 0                                0   \n",
       "10674                                 0                                1   \n",
       "6268                                  0                                0   \n",
       "\n",
       "       Regionname_Western Victoria  \n",
       "2932                             0  \n",
       "1697                             0  \n",
       "12076                            1  \n",
       "10674                            0  \n",
       "6268                             0  \n",
       "\n",
       "[5 rows x 27 columns]"
      ]
     },
     "execution_count": 24,
     "metadata": {},
     "output_type": "execute_result"
    }
   ],
   "source": [
    "#Смотрим \n",
    "\n",
    "X_train.head()"
   ]
  },
  {
   "cell_type": "code",
   "execution_count": 25,
   "metadata": {},
   "outputs": [],
   "source": [
    "# И другие колонки также пробинаризируем\n",
    "\n",
    "X_train = pd.get_dummies(X_train, columns=[\"Type\"])"
   ]
  },
  {
   "cell_type": "code",
   "execution_count": 27,
   "metadata": {},
   "outputs": [
    {
     "name": "stdout",
     "output_type": "stream",
     "text": [
      "<class 'pandas.core.frame.DataFrame'>\n",
      "Int64Index: 10864 entries, 2932 to 4496\n",
      "Data columns (total 29 columns):\n",
      " #   Column                                 Non-Null Count  Dtype  \n",
      "---  ------                                 --------------  -----  \n",
      " 0   Suburb                                 10864 non-null  int64  \n",
      " 1   Address                                10864 non-null  object \n",
      " 2   Rooms                                  10864 non-null  int64  \n",
      " 3   Method                                 10864 non-null  int32  \n",
      " 4   SellerG                                10864 non-null  object \n",
      " 5   Date                                   10864 non-null  object \n",
      " 6   Distance                               10864 non-null  float64\n",
      " 7   Postcode                               10864 non-null  float64\n",
      " 8   Bedroom2                               10864 non-null  float64\n",
      " 9   Bathroom                               10864 non-null  float64\n",
      " 10  Car                                    10864 non-null  float64\n",
      " 11  Landsize                               10864 non-null  float64\n",
      " 12  BuildingArea                           10864 non-null  float64\n",
      " 13  YearBuilt                              10864 non-null  float64\n",
      " 14  CouncilArea                            10864 non-null  object \n",
      " 15  Lattitude                              10864 non-null  float64\n",
      " 16  Longtitude                             10864 non-null  float64\n",
      " 17  Propertycount                          10864 non-null  float64\n",
      " 18  Regionname_Eastern Metropolitan        10864 non-null  uint8  \n",
      " 19  Regionname_Eastern Victoria            10864 non-null  uint8  \n",
      " 20  Regionname_Northern Metropolitan       10864 non-null  uint8  \n",
      " 21  Regionname_Northern Victoria           10864 non-null  uint8  \n",
      " 22  Regionname_South-Eastern Metropolitan  10864 non-null  uint8  \n",
      " 23  Regionname_Southern Metropolitan       10864 non-null  uint8  \n",
      " 24  Regionname_Western Metropolitan        10864 non-null  uint8  \n",
      " 25  Regionname_Western Victoria            10864 non-null  uint8  \n",
      " 26  Type_h                                 10864 non-null  uint8  \n",
      " 27  Type_t                                 10864 non-null  uint8  \n",
      " 28  Type_u                                 10864 non-null  uint8  \n",
      "dtypes: float64(11), int32(1), int64(2), object(4), uint8(11)\n",
      "memory usage: 1.6+ MB\n"
     ]
    }
   ],
   "source": [
    "X_train.info()"
   ]
  },
  {
   "cell_type": "code",
   "execution_count": 30,
   "metadata": {},
   "outputs": [],
   "source": [
    "# Удаление признаков. На это есть две причины: \n",
    "#1. не несет полезной информации\n",
    "#2. Может нести полезную информацию, но сложно предобработать.  (Наш случай)\n",
    "\n",
    "X_train = X_train.drop(columns=[\"Address\", \"Date\", \"CouncilArea\", \"SellerG\"])  # Удалим это."
   ]
  },
  {
   "cell_type": "code",
   "execution_count": 32,
   "metadata": {},
   "outputs": [
    {
     "name": "stdout",
     "output_type": "stream",
     "text": [
      "<class 'pandas.core.frame.DataFrame'>\n",
      "Int64Index: 10864 entries, 2932 to 4496\n",
      "Data columns (total 25 columns):\n",
      " #   Column                                 Non-Null Count  Dtype  \n",
      "---  ------                                 --------------  -----  \n",
      " 0   Suburb                                 10864 non-null  int64  \n",
      " 1   Rooms                                  10864 non-null  int64  \n",
      " 2   Method                                 10864 non-null  int32  \n",
      " 3   Distance                               10864 non-null  float64\n",
      " 4   Postcode                               10864 non-null  float64\n",
      " 5   Bedroom2                               10864 non-null  float64\n",
      " 6   Bathroom                               10864 non-null  float64\n",
      " 7   Car                                    10864 non-null  float64\n",
      " 8   Landsize                               10864 non-null  float64\n",
      " 9   BuildingArea                           10864 non-null  float64\n",
      " 10  YearBuilt                              10864 non-null  float64\n",
      " 11  Lattitude                              10864 non-null  float64\n",
      " 12  Longtitude                             10864 non-null  float64\n",
      " 13  Propertycount                          10864 non-null  float64\n",
      " 14  Regionname_Eastern Metropolitan        10864 non-null  uint8  \n",
      " 15  Regionname_Eastern Victoria            10864 non-null  uint8  \n",
      " 16  Regionname_Northern Metropolitan       10864 non-null  uint8  \n",
      " 17  Regionname_Northern Victoria           10864 non-null  uint8  \n",
      " 18  Regionname_South-Eastern Metropolitan  10864 non-null  uint8  \n",
      " 19  Regionname_Southern Metropolitan       10864 non-null  uint8  \n",
      " 20  Regionname_Western Metropolitan        10864 non-null  uint8  \n",
      " 21  Regionname_Western Victoria            10864 non-null  uint8  \n",
      " 22  Type_h                                 10864 non-null  uint8  \n",
      " 23  Type_t                                 10864 non-null  uint8  \n",
      " 24  Type_u                                 10864 non-null  uint8  \n",
      "dtypes: float64(11), int32(1), int64(2), uint8(11)\n",
      "memory usage: 1.3 MB\n"
     ]
    }
   ],
   "source": [
    "X_train.info()"
   ]
  },
  {
   "cell_type": "markdown",
   "metadata": {},
   "source": [
    "## Закончили предобработку\n",
    "## Начнем обучение моделей"
   ]
  },
  {
   "cell_type": "code",
   "execution_count": 33,
   "metadata": {},
   "outputs": [
    {
     "data": {
      "text/plain": [
       "LinearRegression()"
      ]
     },
     "execution_count": 33,
     "metadata": {},
     "output_type": "execute_result"
    }
   ],
   "source": [
    "# Линейная регрессия\n",
    "\n",
    "from sklearn.linear_model import LinearRegression\n",
    "\n",
    "lr = LinearRegression()\n",
    "\n",
    "lr.fit(X_train, y_train)"
   ]
  },
  {
   "cell_type": "code",
   "execution_count": 34,
   "metadata": {},
   "outputs": [
    {
     "data": {
      "text/plain": [
       "RandomForestRegressor(max_depth=7)"
      ]
     },
     "execution_count": 34,
     "metadata": {},
     "output_type": "execute_result"
    }
   ],
   "source": [
    "# Случайный лес\n",
    "\n",
    "from sklearn.ensemble import RandomForestRegressor\n",
    "\n",
    "rf = RandomForestRegressor(n_estimators=100, max_depth=7)\n",
    "\n",
    "rf.fit(X_train, y_train)"
   ]
  },
  {
   "cell_type": "code",
   "execution_count": 35,
   "metadata": {
    "collapsed": true
   },
   "outputs": [
    {
     "name": "stderr",
     "output_type": "stream",
     "text": [
      "<ipython-input-35-1d253479a9ab>:3: SettingWithCopyWarning: \n",
      "A value is trying to be set on a copy of a slice from a DataFrame.\n",
      "Try using .loc[row_indexer,col_indexer] = value instead\n",
      "\n",
      "See the caveats in the documentation: https://pandas.pydata.org/pandas-docs/stable/user_guide/indexing.html#returning-a-view-versus-a-copy\n",
      "  X_test[\"Car\"] = X_test[\"Car\"].fillna(X_test[\"Car\"].median())\n",
      "<ipython-input-35-1d253479a9ab>:4: SettingWithCopyWarning: \n",
      "A value is trying to be set on a copy of a slice from a DataFrame.\n",
      "Try using .loc[row_indexer,col_indexer] = value instead\n",
      "\n",
      "See the caveats in the documentation: https://pandas.pydata.org/pandas-docs/stable/user_guide/indexing.html#returning-a-view-versus-a-copy\n",
      "  X_test[\"BuildingArea\"] = X_test[\"BuildingArea\"].fillna(X_test[\"BuildingArea\"].median())\n",
      "<ipython-input-35-1d253479a9ab>:5: SettingWithCopyWarning: \n",
      "A value is trying to be set on a copy of a slice from a DataFrame.\n",
      "Try using .loc[row_indexer,col_indexer] = value instead\n",
      "\n",
      "See the caveats in the documentation: https://pandas.pydata.org/pandas-docs/stable/user_guide/indexing.html#returning-a-view-versus-a-copy\n",
      "  X_test[\"YearBuilt\"] = X_test[\"YearBuilt\"].fillna(X_test[\"YearBuilt\"].median())\n",
      "<ipython-input-35-1d253479a9ab>:7: SettingWithCopyWarning: \n",
      "A value is trying to be set on a copy of a slice from a DataFrame.\n",
      "Try using .loc[row_indexer,col_indexer] = value instead\n",
      "\n",
      "See the caveats in the documentation: https://pandas.pydata.org/pandas-docs/stable/user_guide/indexing.html#returning-a-view-versus-a-copy\n",
      "  X_test[\"CouncilArea\"] = X_test[\"CouncilArea\"].fillna(most_frequent_value)\n"
     ]
    }
   ],
   "source": [
    "# подготовка тестовых данных. Также как и тренировочные\n",
    "\n",
    "X_test[\"Car\"] = X_test[\"Car\"].fillna(X_test[\"Car\"].median())\n",
    "X_test[\"BuildingArea\"] = X_test[\"BuildingArea\"].fillna(X_test[\"BuildingArea\"].median())\n",
    "X_test[\"YearBuilt\"] = X_test[\"YearBuilt\"].fillna(X_test[\"YearBuilt\"].median())\n",
    "\n",
    "X_test[\"CouncilArea\"] = X_test[\"CouncilArea\"].fillna(most_frequent_value)"
   ]
  },
  {
   "cell_type": "code",
   "execution_count": 36,
   "metadata": {
    "collapsed": true
   },
   "outputs": [
    {
     "name": "stderr",
     "output_type": "stream",
     "text": [
      "<ipython-input-36-206d1f225797>:1: SettingWithCopyWarning: \n",
      "A value is trying to be set on a copy of a slice from a DataFrame.\n",
      "Try using .loc[row_indexer,col_indexer] = value instead\n",
      "\n",
      "See the caveats in the documentation: https://pandas.pydata.org/pandas-docs/stable/user_guide/indexing.html#returning-a-view-versus-a-copy\n",
      "  X_test[\"Suburb\"] = X_test[\"Suburb\"].apply(lambda x: dict_[x])\n"
     ]
    }
   ],
   "source": [
    "X_test[\"Suburb\"] = X_test[\"Suburb\"].apply(lambda x: dict_[x])  # Перевод в цифры (дикшинари)"
   ]
  },
  {
   "cell_type": "code",
   "execution_count": 37,
   "metadata": {
    "collapsed": true
   },
   "outputs": [
    {
     "name": "stderr",
     "output_type": "stream",
     "text": [
      "<ipython-input-37-10eaf097d3f7>:1: SettingWithCopyWarning: \n",
      "A value is trying to be set on a copy of a slice from a DataFrame.\n",
      "Try using .loc[row_indexer,col_indexer] = value instead\n",
      "\n",
      "See the caveats in the documentation: https://pandas.pydata.org/pandas-docs/stable/user_guide/indexing.html#returning-a-view-versus-a-copy\n",
      "  X_test[\"Method\"] = le.transform(X_test[\"Method\"])\n"
     ]
    }
   ],
   "source": [
    "X_test[\"Method\"] = le.transform(X_test[\"Method\"])\n",
    "\n",
    "X_test = pd.get_dummies(X_test, columns=[\"Regionname\", \"Type\"])  # Бинаризация\n",
    "\n",
    "X_test = X_test.drop(columns=[\"Address\", \"Date\", \"CouncilArea\", \"SellerG\"])  # Удаление"
   ]
  },
  {
   "cell_type": "markdown",
   "metadata": {},
   "source": [
    "## Получение предсказаний на тестовом датасете"
   ]
  },
  {
   "cell_type": "code",
   "execution_count": 43,
   "metadata": {},
   "outputs": [
    {
     "name": "stdout",
     "output_type": "stream",
     "text": [
      "[1353940.24553895 1864125.43771501  733220.6513748  1641728.9926642\n",
      "  832417.27942444  647452.2953282   935683.64008321  843507.45806113\n",
      "  546664.29292443 2076213.26207884]\n",
      "[1152000. 1950000.  660000. ...  380000. 1640000. 1200000.]\n"
     ]
    }
   ],
   "source": [
    "# Получение предсказаний на линейной регрессии\n",
    "\n",
    "y_predicted_lr = lr.predict(X_test)\n",
    "print(y_predicted_lr[:10])\n",
    "print(np.array(y_test))"
   ]
  },
  {
   "cell_type": "code",
   "execution_count": 44,
   "metadata": {},
   "outputs": [
    {
     "name": "stdout",
     "output_type": "stream",
     "text": [
      "[1347454.80729269 2677474.04118863  670976.04071754 2095554.91563754\n",
      "  653758.69839261  693833.72339927 1109536.74570389  916560.34782333\n",
      "  739086.89445871 2022340.60236997]\n",
      "[1152000. 1950000.  660000. ...  380000. 1640000. 1200000.]\n"
     ]
    }
   ],
   "source": [
    "# Получение предсказаний на рандомном лесу\n",
    "\n",
    "y_predicted_rf = rf.predict(X_test)\n",
    "print(y_predicted_rf[:10])\n",
    "print(np.array(y_test))"
   ]
  },
  {
   "cell_type": "markdown",
   "metadata": {},
   "source": [
    "## Метрики качества"
   ]
  },
  {
   "cell_type": "code",
   "execution_count": 45,
   "metadata": {},
   "outputs": [],
   "source": [
    "# Чем меньше результат, тем лучше. Спойлер: Рандом форест выиграл\n",
    "\n",
    "from sklearn.metrics import mean_absolute_error, mean_squared_error"
   ]
  },
  {
   "cell_type": "code",
   "execution_count": 49,
   "metadata": {},
   "outputs": [
    {
     "data": {
      "text/plain": [
       "277543.98455945344"
      ]
     },
     "execution_count": 49,
     "metadata": {},
     "output_type": "execute_result"
    }
   ],
   "source": [
    "mean_absolute_error(y_predicted_lr, y_test)"
   ]
  },
  {
   "cell_type": "code",
   "execution_count": 50,
   "metadata": {},
   "outputs": [
    {
     "data": {
      "text/plain": [
       "348700808998.35114"
      ]
     },
     "execution_count": 50,
     "metadata": {},
     "output_type": "execute_result"
    }
   ],
   "source": [
    "mean_squared_error(y_predicted_lr, y_test)\n"
   ]
  },
  {
   "cell_type": "code",
   "execution_count": 51,
   "metadata": {},
   "outputs": [
    {
     "data": {
      "text/plain": [
       "201193.2089653384"
      ]
     },
     "execution_count": 51,
     "metadata": {},
     "output_type": "execute_result"
    }
   ],
   "source": [
    "mean_absolute_error(y_predicted_rf, y_test)"
   ]
  },
  {
   "cell_type": "code",
   "execution_count": 52,
   "metadata": {},
   "outputs": [
    {
     "data": {
      "text/plain": [
       "103385260472.87442"
      ]
     },
     "execution_count": 52,
     "metadata": {},
     "output_type": "execute_result"
    }
   ],
   "source": [
    "mean_squared_error(y_predicted_rf, y_test)"
   ]
  },
  {
   "cell_type": "markdown",
   "metadata": {},
   "source": [
    "##### работа с моей шизой"
   ]
  },
  {
   "cell_type": "code",
   "execution_count": 79,
   "metadata": {},
   "outputs": [
    {
     "name": "stdout",
     "output_type": "stream",
     "text": [
      "MAE: -183306.333 (12978.200)\n"
     ]
    }
   ],
   "source": [
    "from numpy import mean\n",
    "from numpy import std\n",
    "from sklearn.datasets import make_regression\n",
    "from sklearn.model_selection import cross_val_score\n",
    "from sklearn.model_selection import RepeatedKFold\n",
    "from lightgbm import LGBMRegressor\n",
    "\n",
    "# define the model\n",
    "model = LGBMRegressor()\n",
    "# evaluate the model\n",
    "cv = RepeatedKFold(n_splits=10, n_repeats=3, random_state=1)\n",
    "n_scores = cross_val_score(model, X_test, y_test, scoring='neg_mean_absolute_error', cv=cv, n_jobs=-1, error_score='raise')\n",
    "\n",
    "# report performance\n",
    "print('MAE: %.3f (%.3f)' % (mean(n_scores), std(n_scores)))\n"
   ]
  },
  {
   "cell_type": "code",
   "execution_count": null,
   "metadata": {},
   "outputs": [],
   "source": []
  }
 ],
 "metadata": {
  "kernelspec": {
   "display_name": "Python 3",
   "language": "python",
   "name": "python3"
  },
  "language_info": {
   "codemirror_mode": {
    "name": "ipython",
    "version": 3
   },
   "file_extension": ".py",
   "mimetype": "text/x-python",
   "name": "python",
   "nbconvert_exporter": "python",
   "pygments_lexer": "ipython3",
   "version": "3.8.5"
  }
 },
 "nbformat": 4,
 "nbformat_minor": 4
}
