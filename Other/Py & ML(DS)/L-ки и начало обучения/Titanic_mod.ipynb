{
 "cells": [
  {
   "cell_type": "markdown",
   "metadata": {
    "id": "Ywjjqtcvxmj6"
   },
   "source": [
    "### Работа с CSV файлом"
   ]
  },
  {
   "cell_type": "markdown",
   "metadata": {
    "id": "svTAEnyXxmj8"
   },
   "source": [
    "#### Считывание CSV файла как текстового файла"
   ]
  },
  {
   "cell_type": "code",
   "execution_count": 2,
   "metadata": {
    "colab": {
     "base_uri": "https://localhost:8080/"
    },
    "id": "HW38su0Wxmj9",
    "outputId": "97f5ae67-6ddc-43b8-c88c-65203521f4d1"
   },
   "outputs": [
    {
     "data": {
      "text/plain": [
       "888"
      ]
     },
     "execution_count": 2,
     "metadata": {},
     "output_type": "execute_result"
    }
   ],
   "source": [
    "# Считывание CSV файла\n",
    "csvfile = open('titanic.csv', 'r') \n",
    "titanic_lst = csvfile.readlines()\n",
    "len(titanic_lst)"
   ]
  },
  {
   "cell_type": "code",
   "execution_count": 3,
   "metadata": {
    "id": "oCeaYkwLxmkC"
   },
   "outputs": [],
   "source": [
    "# Закроем файл\n",
    "csvfile.close()"
   ]
  },
  {
   "cell_type": "code",
   "execution_count": 4,
   "metadata": {
    "colab": {
     "base_uri": "https://localhost:8080/",
     "height": 35
    },
    "id": "w2tpocWrxmkG",
    "outputId": "b5ae821e-a329-418d-889f-8dd7ee99567e"
   },
   "outputs": [
    {
     "data": {
      "text/plain": [
       "'Survived,Pclass,Name,Sex,Age,Siblings/Spouses Aboard,Parents/Children Aboard,Fare\\n'"
      ]
     },
     "execution_count": 4,
     "metadata": {},
     "output_type": "execute_result"
    }
   ],
   "source": [
    "titanic_lst[0]"
   ]
  },
  {
   "cell_type": "markdown",
   "metadata": {
    "id": "Bh-pb39V4p6u"
   },
   "source": [
    "Выжил, класс каюты, Имя, Пол, Возраст, Братья и сестры/супруги на борту, Родители/Дети на борту, Плата за проезд"
   ]
  },
  {
   "cell_type": "code",
   "execution_count": 5,
   "metadata": {
    "colab": {
     "base_uri": "https://localhost:8080/"
    },
    "id": "WpOTQ8whxmkJ",
    "outputId": "281e5dbd-6eb5-4acb-9e1c-3ba2f5f024a5"
   },
   "outputs": [
    {
     "data": {
      "text/plain": [
       "['0,3,Mr. Owen Harris Braund,male,22,1,0,7.25\\n',\n",
       " '1,1,Mrs. John Bradley (Florence Briggs Thayer) Cumings,female,38,1,0,71.2833\\n']"
      ]
     },
     "execution_count": 5,
     "metadata": {},
     "output_type": "execute_result"
    }
   ],
   "source": [
    "titanic_lst[1:3]"
   ]
  },
  {
   "cell_type": "markdown",
   "metadata": {
    "id": "eKhdSjBqxmkN"
   },
   "source": [
    "#### Использование бибилиотеки CSV"
   ]
  },
  {
   "cell_type": "code",
   "execution_count": 6,
   "metadata": {
    "id": "qsLF4kjw1frr"
   },
   "outputs": [],
   "source": [
    "# Считывание CSV файла\n",
    "import csv\n",
    "csvfile = open('titanic.csv', newline='') \n",
    "titanic_reader = csv.reader(csvfile, delimiter=',')"
   ]
  },
  {
   "cell_type": "code",
   "execution_count": 7,
   "metadata": {
    "colab": {
     "base_uri": "https://localhost:8080/"
    },
    "id": "NzLL3gMC5Tsn",
    "outputId": "661093f7-35ff-469f-a55f-08ecd38607a2"
   },
   "outputs": [
    {
     "data": {
      "text/plain": [
       "888"
      ]
     },
     "execution_count": 7,
     "metadata": {},
     "output_type": "execute_result"
    }
   ],
   "source": [
    "titanic_lst = []\n",
    "for row in titanic_reader:\n",
    "    titanic_lst.append(row)\n",
    "len(titanic_lst)"
   ]
  },
  {
   "cell_type": "code",
   "execution_count": 8,
   "metadata": {
    "id": "mxU6cYbJ_2kq"
   },
   "outputs": [],
   "source": [
    "# Закроем файл\n",
    "csvfile.close()"
   ]
  },
  {
   "cell_type": "code",
   "execution_count": 9,
   "metadata": {
    "colab": {
     "base_uri": "https://localhost:8080/"
    },
    "id": "mmZxxBXZ4rJD",
    "outputId": "18143fc1-9b6c-462e-ef71-cf7124e7a7f1"
   },
   "outputs": [
    {
     "data": {
      "text/plain": [
       "['Survived',\n",
       " 'Pclass',\n",
       " 'Name',\n",
       " 'Sex',\n",
       " 'Age',\n",
       " 'Siblings/Spouses Aboard',\n",
       " 'Parents/Children Aboard',\n",
       " 'Fare']"
      ]
     },
     "execution_count": 9,
     "metadata": {},
     "output_type": "execute_result"
    }
   ],
   "source": [
    "titanic_lst[0]"
   ]
  },
  {
   "cell_type": "code",
   "execution_count": 10,
   "metadata": {
    "colab": {
     "base_uri": "https://localhost:8080/"
    },
    "id": "IzmvqYYA_kaP",
    "outputId": "a4e23d9c-1a2f-43ee-b33b-5cf844f97513"
   },
   "outputs": [
    {
     "data": {
      "text/plain": [
       "[['0', '3', 'Mr. Owen Harris Braund', 'male', '22', '1', '0', '7.25'],\n",
       " ['1',\n",
       "  '1',\n",
       "  'Mrs. John Bradley (Florence Briggs Thayer) Cumings',\n",
       "  'female',\n",
       "  '38',\n",
       "  '1',\n",
       "  '0',\n",
       "  '71.2833'],\n",
       " ['1', '3', 'Miss. Laina Heikkinen', 'female', '26', '0', '0', '7.925']]"
      ]
     },
     "execution_count": 10,
     "metadata": {},
     "output_type": "execute_result"
    }
   ],
   "source": [
    "titanic_lst[1:4]"
   ]
  },
  {
   "cell_type": "markdown",
   "metadata": {
    "id": "_SlYOPtixmkf"
   },
   "source": [
    "#### Считывание CSV файла в формате словаря\n",
    "Позволяет рассматривать первую строку, как заголовок, как ключи для доступа к данным"
   ]
  },
  {
   "cell_type": "code",
   "execution_count": 11,
   "metadata": {
    "colab": {
     "base_uri": "https://localhost:8080/"
    },
    "id": "8bdoSkCmAA2N",
    "outputId": "0209df7a-e5c5-4cd6-cd99-c16ba8fbe62b"
   },
   "outputs": [
    {
     "name": "stdout",
     "output_type": "stream",
     "text": [
      "887\n"
     ]
    }
   ],
   "source": [
    "# Считывание CSV файла в формате словаря\n",
    "import csv\n",
    "with open('titanic.csv', newline='') as csvfile: \n",
    "    titanic_reader = csv.DictReader(csvfile)\n",
    "\n",
    "    titanic_lst = []\n",
    "    for row in titanic_reader:\n",
    "        titanic_lst.append(row)\n",
    "    print(len(titanic_lst))"
   ]
  },
  {
   "cell_type": "code",
   "execution_count": 12,
   "metadata": {
    "colab": {
     "base_uri": "https://localhost:8080/"
    },
    "id": "KjNgC0jIAA90",
    "outputId": "606f7abc-6e92-496c-f498-fb5d746a55b6"
   },
   "outputs": [
    {
     "data": {
      "text/plain": [
       "{'Survived': '0',\n",
       " 'Pclass': '3',\n",
       " 'Name': 'Mr. Owen Harris Braund',\n",
       " 'Sex': 'male',\n",
       " 'Age': '22',\n",
       " 'Siblings/Spouses Aboard': '1',\n",
       " 'Parents/Children Aboard': '0',\n",
       " 'Fare': '7.25'}"
      ]
     },
     "execution_count": 12,
     "metadata": {},
     "output_type": "execute_result"
    }
   ],
   "source": [
    "titanic_lst[0]"
   ]
  },
  {
   "cell_type": "code",
   "execution_count": 13,
   "metadata": {
    "colab": {
     "base_uri": "https://localhost:8080/"
    },
    "id": "OT6-XSM3ABBF",
    "outputId": "e9cc93dd-f9fa-4711-b1f0-85903f621e48"
   },
   "outputs": [
    {
     "data": {
      "text/plain": [
       "8"
      ]
     },
     "execution_count": 13,
     "metadata": {},
     "output_type": "execute_result"
    }
   ],
   "source": [
    "# Использование библиотеки collections (работа с разными типами структур данных)\n",
    "from collections import defaultdict\n",
    "titanic_dict = defaultdict(list)\n",
    "for row in titanic_lst:\n",
    "    for item in row.items():\n",
    "        titanic_dict[item[0]].append(item[1])\n",
    "len(titanic_dict)\n"
   ]
  },
  {
   "cell_type": "code",
   "execution_count": 14,
   "metadata": {
    "colab": {
     "base_uri": "https://localhost:8080/"
    },
    "id": "oAQ7xJJ2DFfJ",
    "outputId": "592ae757-493b-4dae-8162-69555b923ecc"
   },
   "outputs": [
    {
     "data": {
      "text/plain": [
       "dict_keys(['Survived', 'Pclass', 'Name', 'Sex', 'Age', 'Siblings/Spouses Aboard', 'Parents/Children Aboard', 'Fare'])"
      ]
     },
     "execution_count": 14,
     "metadata": {},
     "output_type": "execute_result"
    }
   ],
   "source": [
    "titanic_dict.keys()"
   ]
  },
  {
   "cell_type": "code",
   "execution_count": 15,
   "metadata": {
    "colab": {
     "base_uri": "https://localhost:8080/"
    },
    "id": "ep5CNmavABEd",
    "outputId": "4f045091-9692-48f9-8c56-15ade88b0fa8"
   },
   "outputs": [
    {
     "data": {
      "text/plain": [
       "(887, ['0', '1', '1', '1', '0', '0', '0', '0', '1', '1'])"
      ]
     },
     "execution_count": 15,
     "metadata": {},
     "output_type": "execute_result"
    }
   ],
   "source": [
    "len(titanic_dict['Survived']), titanic_dict['Survived'][:10]"
   ]
  },
  {
   "cell_type": "code",
   "execution_count": 96,
   "metadata": {
    "colab": {
     "base_uri": "https://localhost:8080/",
     "height": 130
    },
    "id": "FDux9FJsxmky",
    "outputId": "a617c1e7-fb57-4ca5-eec8-271cb34c1951"
   },
   "outputs": [
    {
     "name": "stdout",
     "output_type": "stream",
     "text": [
      "Количество выживших: 342\n"
     ]
    }
   ],
   "source": [
    "### Задание для самостоятельного решения № 1 ###\n",
    "for i in  range (len(titanic_dict['Survived'])):\n",
    "  titanic_dict['Survived'][i] = int(titanic_dict['Survived'][i])\n",
    "\n",
    "print('Количество выживших: {}'.format(sum(titanic_dict['Survived'])))\n",
    "# Преобразуйте колонку 'Survived' в тип int без применения библиотеки numpy. \n",
    "# Сумму по всему столбцу запишите в поле ответа. \n",
    "#sum(titanic_int)"
   ]
  },
  {
   "cell_type": "markdown",
   "metadata": {
    "id": "ATkxubR_xmk1"
   },
   "source": [
    "#### Запись CSV Файла"
   ]
  },
  {
   "cell_type": "code",
   "execution_count": 17,
   "metadata": {
    "id": "DnFUxS0Axmk2"
   },
   "outputs": [],
   "source": [
    "# транспонированый датасет titanic и запишем в файл \n",
    "filename = 'titanic_T.csv'\n",
    "with open(filename, \"w\") as csvfile:\n",
    "    csvwriter = csv.writer(csvfile,  delimiter=',')\n",
    "    for k in titanic_dict.keys():\n",
    "        csvwriter.writerow([k] + titanic_dict[k])"
   ]
  },
  {
   "cell_type": "markdown",
   "metadata": {
    "id": "WsNts_X4GrlU"
   },
   "source": [
    "### Numpy - библиотека для работы с массивами"
   ]
  },
  {
   "cell_type": "code",
   "execution_count": 18,
   "metadata": {
    "id": "q-t878J2xmk8"
   },
   "outputs": [],
   "source": [
    "import numpy as np"
   ]
  },
  {
   "cell_type": "code",
   "execution_count": 19,
   "metadata": {
    "colab": {
     "base_uri": "https://localhost:8080/"
    },
    "id": "WubjmCZNxmlA",
    "outputId": "08bad00c-2001-40f4-d080-f870a2aff4a4"
   },
   "outputs": [
    {
     "data": {
      "text/plain": [
       "list"
      ]
     },
     "execution_count": 19,
     "metadata": {},
     "output_type": "execute_result"
    }
   ],
   "source": [
    "type(titanic_dict['Pclass'])"
   ]
  },
  {
   "cell_type": "code",
   "execution_count": 20,
   "metadata": {
    "colab": {
     "base_uri": "https://localhost:8080/"
    },
    "id": "85rR8i7wxmlD",
    "outputId": "d5128e1c-f313-458b-9b21-cb9c288a6844"
   },
   "outputs": [
    {
     "name": "stdout",
     "output_type": "stream",
     "text": [
      "Survived:  [0 1]\n",
      "Pclass:  ['1' '2' '3']\n",
      "Name:  ['Capt. Edward Gifford Crosby' 'Col. John Weir'\n",
      " 'Col. Oberst Alfons Simonius-Blumer' 'Don. Manuel E Uruchurtu'\n",
      " 'Dr. Alfred Pain' 'Dr. Alice (Farnham) Leader' 'Dr. Arthur Jackson Brewe'\n",
      " 'Dr. Ernest Moraweck' 'Dr. Henry William Frauenthal'\n",
      " 'Dr. Max Stahelin-Maeglin']\n",
      "Sex:  ['female' 'male']\n",
      "Age:  ['0.42' '0.67' '0.75' '0.83' '0.92' '1' '10' '11' '12' '13']\n",
      "Siblings/Spouses Aboard:  ['0' '1' '2' '3' '4' '5' '8']\n",
      "Parents/Children Aboard:  ['0' '1' '2' '3' '4' '5' '6']\n",
      "Fare:  ['0' '10.1708' '10.4625' '10.5' '10.5167' '106.425' '108.9' '11.1333'\n",
      " '11.2417' '11.5']\n"
     ]
    }
   ],
   "source": [
    "# Поиск и отображение уникальных значений\n",
    "for k in titanic_dict.keys():\n",
    "    unique = np.unique(titanic_dict[k])\n",
    "    print(k+': ', np.unique(titanic_dict[k])) if unique.size < 10 else print(k+': ', np.unique(titanic_dict[k])[:10])"
   ]
  },
  {
   "cell_type": "code",
   "execution_count": 21,
   "metadata": {
    "id": "CstlJibHB85S"
   },
   "outputs": [],
   "source": [
    "# Преобразуем типы целых и вещественных колонок\n",
    "for t, columns in {'int':['Survived', 'Pclass', 'Siblings/Spouses Aboard', 'Parents/Children Aboard'], \n",
    "                   'float':['Age', 'Fare']}.items():\n",
    "    for col in columns:\n",
    "        titanic_dict[col] = np.array(titanic_dict[col]).astype(t)"
   ]
  },
  {
   "cell_type": "code",
   "execution_count": 22,
   "metadata": {
    "colab": {
     "base_uri": "https://localhost:8080/"
    },
    "id": "X209UTMkxmlJ",
    "outputId": "9c8b4808-3e67-42f7-fad8-42493d0ba3b2"
   },
   "outputs": [
    {
     "data": {
      "text/plain": [
       "(array([0, 1, 1, 1, 0, 0, 0, 0, 1, 1]),\n",
       " array([22., 38., 26., 35., 35., 27., 54.,  2., 27., 14.]))"
      ]
     },
     "execution_count": 22,
     "metadata": {},
     "output_type": "execute_result"
    }
   ],
   "source": [
    "titanic_dict['Survived'][:10], titanic_dict['Age'][:10]"
   ]
  },
  {
   "cell_type": "code",
   "execution_count": 23,
   "metadata": {
    "colab": {
     "base_uri": "https://localhost:8080/"
    },
    "id": "YcCUCyCSxmlL",
    "outputId": "67ecacfd-f14e-4ae7-9b07-53e7d22b13ff"
   },
   "outputs": [
    {
     "data": {
      "text/plain": [
       "(887, 342)"
      ]
     },
     "execution_count": 23,
     "metadata": {},
     "output_type": "execute_result"
    }
   ],
   "source": [
    "# Кол-во пассажиров / кол-во выживших\n",
    "titanic_dict['Survived'].size, titanic_dict['Survived'].sum()"
   ]
  },
  {
   "cell_type": "code",
   "execution_count": 24,
   "metadata": {
    "colab": {
     "base_uri": "https://localhost:8080/"
    },
    "id": "R58JsU3wxmlO",
    "outputId": "89a515a9-68ca-4a31-87a8-e3c6b459b508"
   },
   "outputs": [
    {
     "data": {
      "text/plain": [
       "array([ 7.2, 71.3,  7.9, 53.1,  8. ,  8.5, 51.9, 21.1, 11.1, 30.1])"
      ]
     },
     "execution_count": 24,
     "metadata": {},
     "output_type": "execute_result"
    }
   ],
   "source": [
    "# Округлим стоимость билета до десятых долей.\n",
    "np.round(titanic_dict['Fare'], 1)[:10]"
   ]
  },
  {
   "cell_type": "code",
   "execution_count": 94,
   "metadata": {
    "id": "MPFqD_apxmlR"
   },
   "outputs": [
    {
     "name": "stdout",
     "output_type": "stream",
     "text": [
      "Пассажиров с родственниками: 46\n"
     ]
    }
   ],
   "source": [
    "### Задание для самостоятельного решения № 2 ###\n",
    "# .........................................\n",
    "# Посчитайте количество пассажиров с родственниками ('Siblings/Spouses Aboard') в количетсве более 3.\n",
    "# .........................................\n",
    "counter_Aboard = 0\n",
    "\n",
    "for i in range(len(titanic_dict['Siblings/Spouses Aboard'])):\n",
    "    if titanic_dict['Siblings/Spouses Aboard'][i] >= 3:\n",
    "        counter_Aboard += 1\n",
    "        \n",
    "print('Пассажиров с родственниками: {}'.format(counter_Aboard))\n"
   ]
  },
  {
   "cell_type": "markdown",
   "metadata": {
    "id": "vZl0emRxxmlU"
   },
   "source": [
    "### Простые статистики"
   ]
  },
  {
   "cell_type": "code",
   "execution_count": 26,
   "metadata": {
    "id": "w-o_T7WexmlV",
    "outputId": "3e42e566-dc45-497e-901f-3383b0ae6e75"
   },
   "outputs": [
    {
     "name": "stdout",
     "output_type": "stream",
     "text": [
      "Age\n",
      "  max: 80.0, min: 0.42, mean: 29.47, median: 28.0, std: 14.11\n",
      "Fare\n",
      "  max: 512.33, min: 0.0, mean: 32.31, median: 14.45, std: 49.75\n"
     ]
    }
   ],
   "source": [
    "# Максимальный, минимальный, средний возраст, стоимость билета\n",
    "for feature in ['Age', 'Fare']:\n",
    "    print(feature+'\\n  max: {}, min: {}, mean: {}, median: {}, std: {}'.format(np.round(titanic_dict[feature].max(), 2), \n",
    "                                                                               np.round(titanic_dict[feature].min(), 2),\n",
    "                                                                               np.round(titanic_dict[feature].mean(), 2),\n",
    "                                                                               np.round(np.median(titanic_dict[feature]), 2),\n",
    "                                                                               np.round(titanic_dict[feature].std(), 2)\n",
    "                                                                               ))"
   ]
  },
  {
   "cell_type": "markdown",
   "metadata": {
    "id": "WJEYj33cxmlY"
   },
   "source": [
    "### Фильтрация по условию"
   ]
  },
  {
   "cell_type": "code",
   "execution_count": 27,
   "metadata": {
    "id": "CfbV5RUoxmlZ",
    "outputId": "476e2025-0c8c-4dfd-cc74-6218c17522d2"
   },
   "outputs": [
    {
     "data": {
      "text/plain": [
       "(array([1, 2, 3]), array([216, 184, 487], dtype=int64))"
      ]
     },
     "execution_count": 27,
     "metadata": {},
     "output_type": "execute_result"
    }
   ],
   "source": [
    "# Количество пассажиров разного класса\n",
    "np.unique(titanic_dict['Pclass'], return_counts=True)"
   ]
  },
  {
   "cell_type": "code",
   "execution_count": 28,
   "metadata": {
    "id": "lHTwqoyuxmlc",
    "outputId": "1298f0ee-eada-4e57-9d75-43dd9a9f8384"
   },
   "outputs": [
    {
     "data": {
      "text/plain": [
       "(array([  1,   3,   6,  11,  23,  27,  30,  31,  34,  35,  51,  53,  54,\n",
       "         60,  61,  63,  82,  87,  91,  95,  96, 101, 109, 117, 123, 135,\n",
       "        136, 138, 150, 154, 165, 167, 169, 173, 176, 184, 186, 193, 194,\n",
       "        208, 214, 217, 223, 229, 244, 247, 251, 255, 256, 257, 260, 261,\n",
       "        266, 267, 268, 271, 273, 282, 288, 289, 293, 295, 296, 297, 303,\n",
       "        304, 305, 307, 308, 309, 316, 317, 323, 327, 329, 330, 332, 334,\n",
       "        335, 337, 339, 349, 354, 364, 367, 368, 371, 373, 375, 378, 381,\n",
       "        388, 391, 410, 427, 431, 432, 435, 442, 444, 446, 449, 450, 453,\n",
       "        454, 457, 459, 464, 472, 481, 483, 484, 489, 490, 493, 495, 501,\n",
       "        502, 504, 509, 510, 512, 517, 520, 524, 533, 534, 536, 537, 541,\n",
       "        542, 547, 552, 553, 554, 555, 568, 569, 574, 578, 580, 582, 584,\n",
       "        588, 596, 599, 601, 604, 606, 618, 622, 624, 627, 629, 630, 638,\n",
       "        642, 644, 656, 657, 659, 666, 668, 676, 678, 686, 687, 691, 695,\n",
       "        697, 698, 704, 705, 707, 708, 709, 713, 720, 726, 733, 736, 737,\n",
       "        738, 741, 744, 755, 759, 761, 762, 775, 777, 778, 785, 789, 792,\n",
       "        798, 802, 805, 811, 816, 818, 825, 831, 835, 838, 845, 849, 852,\n",
       "        853, 858, 863, 867, 868, 875, 883, 885], dtype=int64),)"
      ]
     },
     "execution_count": 28,
     "metadata": {},
     "output_type": "execute_result"
    }
   ],
   "source": [
    "np.where(titanic_dict['Pclass']==1)"
   ]
  },
  {
   "cell_type": "code",
   "execution_count": 29,
   "metadata": {
    "id": "Mm1SV_Nzxmlf",
    "outputId": "9a1777a2-1d17-4a90-9b2f-24366663ba89"
   },
   "outputs": [
    {
     "name": "stdout",
     "output_type": "stream",
     "text": [
      "[0 1] [ 80 136]\n",
      "Доля выживших пассажиров 1-го класса: 0.6296296296296297\n",
      "[0 1] [97 87]\n",
      "Доля выживших пассажиров 2-го класса: 0.47282608695652173\n",
      "[0 1] [368 119]\n",
      "Доля выживших пассажиров 3-го класса: 0.24435318275154005\n"
     ]
    }
   ],
   "source": [
    "# Количество выживших по классам\n",
    "for pcls in np.unique(titanic_dict['Pclass']):\n",
    "    survived = titanic_dict['Survived'][np.where(titanic_dict['Pclass']==pcls)[0]]\n",
    "    uniq, cnt = np.unique(survived, return_counts=True)\n",
    "    print(uniq, cnt)\n",
    "    print('Доля выживших пассажиров {}-го класса: {}'.format(pcls, cnt[1]/survived.size))"
   ]
  },
  {
   "cell_type": "code",
   "execution_count": 93,
   "metadata": {
    "id": "J-Ta_TFdxmli"
   },
   "outputs": [
    {
     "name": "stdout",
     "output_type": "stream",
     "text": [
      "Средний возраст мужчин: 30.43\n",
      "Средний возраст женщин: 27.72\n",
      "Выжило мужчин: 109\n",
      "Выжило девушек: 233\n",
      "Общее количество выживших: 342\n",
      "Выжило мужчин: 31.87%, выжило девушек: 68.13%\n"
     ]
    }
   ],
   "source": [
    "### Задание для самостоятельного решения № 3\n",
    "# .........................................\n",
    "# Вычислите средний возраст мужчин и женщин и долю выживших по полу. \n",
    "# (Имейте в виду, что функция np.where не умеет работать с типом string)\n",
    "# .........................................\n",
    "\n",
    "male_counter = 0\n",
    "male_age_general = 0\n",
    "male_survived = 0\n",
    "\n",
    "female_counter = 0\n",
    "female_age_general = 0\n",
    "female_survived = 0\n",
    "\n",
    "titanic_dict['Sex'][:10]\n",
    "\n",
    "for i in range(len(titanic_dict['Sex'])):\n",
    "    if titanic_dict['Sex'][i] == 'male':\n",
    "        male_counter += 1\n",
    "        male_age_general += titanic_dict['Age'][i]\n",
    "        male_survived += titanic_dict['Survived'][i]\n",
    "    else:\n",
    "        female_counter += 1\n",
    "        female_age_general += titanic_dict['Age'][i]\n",
    "        female_survived += titanic_dict['Survived'][i]\n",
    "\n",
    "print('Средний возраст мужчин: {:.2f}'.format(male_age_general/male_counter))\n",
    "print('Средний возраст женщин: {:.2f}'.format(female_age_general/female_counter))\n",
    "print('Выжило мужчин: {}'.format(male_survived))\n",
    "print('Выжило девушек: {}'.format(female_survived))\n",
    "print('Общее количество выживших: {}'.format(sum(titanic_dict['Survived'])))\n",
    "print('Выжило мужчин: {:.2%}, выжило девушек: {:.2%}'.format(male_survived/sum(titanic_dict['Survived']), female_survived/sum(titanic_dict['Survived'])))"
   ]
  },
  {
   "cell_type": "markdown",
   "metadata": {
    "id": "BJLuphWUxmll"
   },
   "source": [
    "### Matplotlib"
   ]
  },
  {
   "cell_type": "code",
   "execution_count": 31,
   "metadata": {
    "id": "4JFZdqklxmlm"
   },
   "outputs": [],
   "source": [
    "import matplotlib.pyplot as plt"
   ]
  },
  {
   "cell_type": "code",
   "execution_count": 32,
   "metadata": {
    "colab": {
     "base_uri": "https://localhost:8080/",
     "height": 336
    },
    "id": "DUtbZbLnxmlq",
    "outputId": "2593a341-8cad-421e-e21b-ee02b96db1ad"
   },
   "outputs": [
    {
     "data": {
      "image/png": "[encoded data removed]",
      "text/plain": [
       "<Figure size 1080x360 with 1 Axes>"
      ]
     },
     "metadata": {
      "needs_background": "light"
     },
     "output_type": "display_data"
    }
   ],
   "source": [
    "# Гистограмма распределения возрастов \n",
    "plt.figure(figsize=(15,5))\n",
    "plt.hist(titanic_dict['Age'], bins=100, color='grey');\n",
    "plt.title('Age distribution');\n",
    "plt.show();"
   ]
  },
  {
   "cell_type": "code",
   "execution_count": 33,
   "metadata": {
    "colab": {
     "base_uri": "https://localhost:8080/",
     "height": 350
    },
    "id": "lMNI7syIxmlw",
    "outputId": "0d35416e-108f-4f0f-9b37-c9cc21e9f36b"
   },
   "outputs": [
    {
     "data": {
      "image/png": "[encoded data removed]",
      "text/plain": [
       "<Figure size 720x360 with 2 Axes>"
      ]
     },
     "metadata": {
      "needs_background": "light"
     },
     "output_type": "display_data"
    }
   ],
   "source": [
    "# Определим долю выживших для уникальных значений признака 'Siblings/Spouses Aboard'\n",
    "relatives_num = np.unique(titanic_dict['Siblings/Spouses Aboard'])\n",
    "relatives_num = np.sort(relatives_num)\n",
    "survived_total = []\n",
    "for i in relatives_num:\n",
    "    survived = titanic_dict['Survived'][np.where(titanic_dict['Siblings/Spouses Aboard'] == i)[0]]\n",
    "    survived_total.append(survived.sum()/survived.size)\n",
    "    \n",
    "# Построим распределение признака 'Siblings/Spouses Aboard' и зависимость выживаемости от числа родственников \n",
    "plt.figure(figsize=(10,5))\n",
    "plt.subplot(2,1,1)\n",
    "plt.hist(titanic_dict['Siblings/Spouses Aboard'], bins=100, color='grey');\n",
    "plt.title('Siblings/Spouses Aboard');\n",
    "\n",
    "plt.subplot(2,1,2)\n",
    "plt.plot(relatives_num, survived_total);\n",
    "plt.xlabel('Siblings/Spouses Aboard');\n",
    "plt.ylabel('Survived')\n",
    "\n",
    "plt.show();"
   ]
  },
  {
   "cell_type": "code",
   "execution_count": 34,
   "metadata": {
    "colab": {
     "base_uri": "https://localhost:8080/"
    },
    "id": "7q3yXHJgxml1",
    "outputId": "27a1b065-cefa-40d9-8d6c-8cdb92d6e705"
   },
   "outputs": [
    {
     "name": "stdout",
     "output_type": "stream",
     "text": [
      "PClass 1: [ 80 136]\n",
      "PClass 2: [97 87]\n",
      "PClass 3: [368 119]\n"
     ]
    }
   ],
   "source": [
    "# Сформируем массив выживаемости для каждого класса\n",
    "survived_lst = []\n",
    "for pcls in np.unique(titanic_dict['Pclass']):\n",
    "    survived = np.array(titanic_dict['Survived'])[np.where(titanic_dict['Pclass']==pcls)[0]]\n",
    "    uniq, cnt = np.unique(survived, return_counts=True)\n",
    "    survived_lst.append(cnt)\n",
    "    print('PClass {}: {}'.format(pcls, cnt))"
   ]
  },
  {
   "cell_type": "code",
   "execution_count": 35,
   "metadata": {
    "colab": {
     "base_uri": "https://localhost:8080/"
    },
    "id": "TsHoIBvIxml3",
    "outputId": "756218a2-c425-4652-d4d0-91c95e46b298"
   },
   "outputs": [
    {
     "data": {
      "text/plain": [
       "array([[ 80, 136],\n",
       "       [ 97,  87],\n",
       "       [368, 119]], dtype=int64)"
      ]
     },
     "execution_count": 35,
     "metadata": {},
     "output_type": "execute_result"
    }
   ],
   "source": [
    "# Преобразуем список списков survived_lst в двумерный массив\n",
    "survived_arr = np.array(survived_lst)\n",
    "survived_arr"
   ]
  },
  {
   "cell_type": "code",
   "execution_count": 36,
   "metadata": {
    "colab": {
     "base_uri": "https://localhost:8080/",
     "height": 334
    },
    "id": "Upc8DqNrxml6",
    "outputId": "fd4d71a8-0098-4b59-a5fe-b2ec5bc9c77d"
   },
   "outputs": [
    {
     "data": {
      "image/png": "[encoded data removed]",
      "text/plain": [
       "<Figure size 720x360 with 1 Axes>"
      ]
     },
     "metadata": {
      "needs_background": "light"
     },
     "output_type": "display_data"
    }
   ],
   "source": [
    "# Построим зависимость выживаемости пассажира от класса (Pclass)\n",
    "pclass_lst = np.arange(1, np.unique(titanic_dict['Pclass']).size + 1)\n",
    "width = 0.3\n",
    "plt.figure(figsize=(10,5))\n",
    "plt.bar(pclass_lst - width/2, survived_arr[:,0], width, label='not survived')\n",
    "plt.bar(pclass_lst + width/2, survived_arr[:,1], width, label='survived')\n",
    "plt.xlabel('pclass')\n",
    "plt.legend(['not survived', 'survived'])\n",
    "\n",
    "ax = plt.gca()\n",
    "ax.xaxis.set_major_locator(plt.MaxNLocator(3))\n",
    "\n",
    "plt.show()"
   ]
  },
  {
   "cell_type": "code",
   "execution_count": 84,
   "metadata": {
    "id": "7KaC0tv6xml9"
   },
   "outputs": [
    {
     "data": {
      "image/png": "[encoded data removed]",
      "text/plain": [
       "<Figure size 288x360 with 1 Axes>"
      ]
     },
     "metadata": {
      "needs_background": "light"
     },
     "output_type": "display_data"
    },
    {
     "name": "stdout",
     "output_type": "stream",
     "text": [
      "573\n",
      "109\n"
     ]
    },
    {
     "data": {
      "image/png": "[encoded data removed]",
      "text/plain": [
       "<Figure size 360x360 with 1 Axes>"
      ]
     },
     "metadata": {
      "needs_background": "light"
     },
     "output_type": "display_data"
    },
    {
     "name": "stdout",
     "output_type": "stream",
     "text": [
      "314\n",
      "233\n"
     ]
    }
   ],
   "source": [
    "### Задание для самостоятельного решения № 4\n",
    "# Построить распределения возрастов мужчин и женщин в отдельных графиках и раскрасить выживших и не выживших в разные цвета\n",
    "# .........................................\n",
    "pclass_lst = 1\n",
    "width = 4\n",
    "plt.figure(figsize=(4,5))\n",
    "plt.bar(pclass_lst - width/2, male_counter, width, label='not survived')\n",
    "plt.bar(pclass_lst + width/2, male_survived, width, label='survived')\n",
    "plt.xlabel('male')\n",
    "plt.legend(['male: not survived', 'male: survived'])\n",
    "\n",
    "ax = plt.gca()\n",
    "\n",
    "plt.show()\n",
    "print(male_counter)\n",
    "print(male_survived)\n",
    "\n",
    "pclass_lst = 1\n",
    "width = 4\n",
    "plt.figure(figsize=(5,5))\n",
    "plt.bar(pclass_lst - width/2, female_counter, width, label='not survived')\n",
    "plt.bar(pclass_lst + width/2, female_survived, width, label='survived')\n",
    "plt.xlabel('female')\n",
    "plt.legend(['female: not survived', 'female: survived'])\n",
    "\n",
    "ax = plt.gca()\n",
    "\n",
    "plt.show()\n",
    "print(female_counter)\n",
    "print(female_survived)"
   ]
  },
  {
   "cell_type": "markdown",
   "metadata": {
    "id": "H5O1cAsFxml_"
   },
   "source": [
    "### Работа с текстовыми данными"
   ]
  },
  {
   "cell_type": "code",
   "execution_count": null,
   "metadata": {
    "colab": {
     "base_uri": "https://localhost:8080/"
    },
    "id": "a5rC0Ft6xmmA",
    "outputId": "55c532ed-3793-41c7-bb5a-c9a8c7242a0c"
   },
   "outputs": [
    {
     "name": "stdout",
     "output_type": "stream",
     "text": [
      "Capt: 1\n",
      "Col: 2\n",
      "Don: 1\n",
      "Dr: 7\n",
      "Jonkheer: 1\n",
      "Lady: 1\n",
      "Major: 2\n",
      "Master: 40\n",
      "Miss: 182\n",
      "Mlle: 2\n",
      "Mme: 1\n",
      "Mr: 513\n",
      "Mrs: 125\n",
      "Ms: 1\n",
      "Rev: 6\n",
      "Sir: 1\n",
      "the Countess: 1\n"
     ]
    }
   ],
   "source": [
    "# Дополнительный признак: обращение к человеку\n",
    "# Обращение ставится в начале имени и отделяется точкой.\n",
    "appeal = np.unique([f.split('.')[0] for f in titanic_dict['Name']], return_counts=True)\n",
    "for name, cnt in zip(appeal[0], appeal[1]):\n",
    "    print(str(name)+': '+str(cnt))"
   ]
  },
  {
   "cell_type": "code",
   "execution_count": null,
   "metadata": {
    "colab": {
     "base_uri": "https://localhost:8080/"
    },
    "id": "CUKXJ_dAxmmC",
    "outputId": "1d0669ab-9b95-4282-9ee0-6c5102e12d45"
   },
   "outputs": [
    {
     "data": {
      "text/plain": [
       "['Master. Gosta Leonard Palsson',\n",
       " 'Master. Eugene Rice',\n",
       " 'Master. Juha Niilo Panula',\n",
       " 'Master. William Frederick Goodwin',\n",
       " 'Master. Harald Skoog',\n",
       " 'Master. Gerios Moubarek',\n",
       " 'Master. Alden Gates Caldwell',\n",
       " 'Master. Elias Nicola-Yarred',\n",
       " 'Master. Thomas Henry Sage',\n",
       " 'Master. Eino Viljami Panula']"
      ]
     },
     "execution_count": 34,
     "metadata": {},
     "output_type": "execute_result"
    }
   ],
   "source": [
    "# Выведем список детей мужского пола\n",
    "[f for f in titanic_dict['Name'] if 'Master' in f][:10]"
   ]
  },
  {
   "cell_type": "code",
   "execution_count": null,
   "metadata": {
    "colab": {
     "base_uri": "https://localhost:8080/"
    },
    "id": "aTQJ_8XBxmmG",
    "outputId": "799236f2-0375-4c5c-cbbb-7b315f9b30a0"
   },
   "outputs": [
    {
     "data": {
      "text/plain": [
       "(array([0, 1]), array([847,  40]))"
      ]
     },
     "execution_count": 35,
     "metadata": {},
     "output_type": "execute_result"
    }
   ],
   "source": [
    "titanic_dict['Master'] = [int('Master' in f) for f in titanic_dict['Name']]\n",
    "np.unique(titanic_dict['Master'], return_counts=True)"
   ]
  },
  {
   "cell_type": "code",
   "execution_count": 92,
   "metadata": {
    "id": "NN8QC1T2xmmI"
   },
   "outputs": [
    {
     "name": "stdout",
     "output_type": "stream",
     "text": [
      "Замужних женщин: 125\n",
      "Незамужнищ женщин: 183\n",
      "Остальные: 6\n"
     ]
    }
   ],
   "source": [
    "### Задание для самостоятельного решения № 5\n",
    "# Создать признак признак замужняя, незамужняя, остальные и построить распределение выживаемости\n",
    "# .........................................\n",
    "Mrs_count = 0\n",
    "Unmrs_count = 0\n",
    "for females in titanic_dict['Name']:\n",
    "    if 'Mrs' in females:\n",
    "        Mrs_count += 1\n",
    "    if 'Miss' in females:\n",
    "        Unmrs_count += 1\n",
    "    if 'Ms' in females:\n",
    "        Unmrs_count += 1\n",
    "other_females = female_counter - (Mrs_count + Unmrs_count)\n",
    "\n",
    "print('Замужних женщин: {}'.format(Mrs_count))\n",
    "print('Незамужнищ женщин: {}'.format(Unmrs_count))\n",
    "print('Остальные: {}'.format(other_females))"
   ]
  },
  {
   "cell_type": "code",
   "execution_count": null,
   "metadata": {},
   "outputs": [],
   "source": []
  }
 ],
 "metadata": {
  "colab": {
   "name": "Titanic.ipynb",
   "provenance": []
  },
  "kernelspec": {
   "display_name": "Python 3",
   "language": "python",
   "name": "python3"
  },
  "language_info": {
   "codemirror_mode": {
    "name": "ipython",
    "version": 3
   },
   "file_extension": ".py",
   "mimetype": "text/x-python",
   "name": "python",
   "nbconvert_exporter": "python",
   "pygments_lexer": "ipython3",
   "version": "3.8.5"
  }
 },
 "nbformat": 4,
 "nbformat_minor": 1
}
