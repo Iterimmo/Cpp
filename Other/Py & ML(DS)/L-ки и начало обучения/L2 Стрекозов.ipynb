{
 "cells": [
  {
   "cell_type": "markdown",
   "metadata": {
    "id": "oQXYVqJCQnYL"
   },
   "source": [
    "## Pandas"
   ]
  },
  {
   "cell_type": "code",
   "execution_count": 2,
   "metadata": {
    "id": "ybKoPHHIQnYQ"
   },
   "outputs": [],
   "source": [
    "import pandas as pd\n",
    "import numpy as np\n",
    "\n",
    "%matplotlib inline"
   ]
  },
  {
   "cell_type": "markdown",
   "metadata": {
    "id": "adXz3yPyRAJz"
   },
   "source": [
    "Команда %matplotlib inline указывает, что график необходимо построить  в той же оболочке Jupyter, но теперь он выводится как обычная картинка. Данный способ удобен тем, что позволяет проводить  много экспериментов в рамках одного окна (web-страницы)."
   ]
  },
  {
   "cell_type": "markdown",
   "metadata": {
    "id": "R7eLNPWUQnYS"
   },
   "source": [
    "### NumPy\n",
    "\n",
    "### Структуры данных Pandas\n",
    "#### Series\n",
    "- Series - одномерная структура данных, которая может хранить в себе данные одного типа. Series напоминает словарь, так как позволяет получать элементы по индексу, который может быть не только целочисленного типа. Свойства Series:\n",
    "    - Series.index - индексы элементов\n",
    "    - Series.values - значения элементов\n",
    "    \n",
    "#### DataFrame\n",
    "- DataFrame - двумерная структура данных, которая может хранить в себе данные разных типов. По сути, DataFrame это матрица, где столбцами являются признаки, а строками объекты. Каждая колонка DataFrame имеет тип Series. DataFrame имеет много методов и свойств для аналитики, получения срезов и преобразования данных. Вот некоторые из них:\n",
    "    - DataFrame.info() - получение общей информации по датафрейму\n",
    "    - DataFrame.dtypes - типы колонок\n",
    "    - DataFrame.columns - имена колонок\n",
    "    \n",
    "Для того, чтобы считать данные из файла в DataFrame, в библиотеке предусмотрено множество функций. Большинство из них начинаются с префикса 'read' - например:\n",
    "   - pandas.read_csv - читает данные из файла с расширением .csv\n",
    "   - pandas.read_excel - читает данные из файла .xlsx\n",
    "Эти методы имеют много параметров, начиная от имени файла и заканчивая кодировкой и разделителем.\n",
    "\n",
    "Более подробно с методами DataFrame можно ознакомиться в документации к Pandas, ссылка на которую приводится в разделе \"Полезные ссылки\"."
   ]
  },
  {
   "cell_type": "markdown",
   "metadata": {
    "id": "iY-x-aJ-QnYU"
   },
   "source": [
    "#### Рассматрим датасет с  данными из нефтяной отрасли: дебит жидкости после ГТМ (геолого-технического мероприятия)"
   ]
  },
  {
   "cell_type": "markdown",
   "metadata": {
    "id": "N_2boIPmQnYU"
   },
   "source": [
    "#### Описание  признаков\n",
    "Признак | Описание\n",
    "--------| -------------\n",
    "Dnytr | диаметр трубы\n",
    "H_din |   Динамический уровень\n",
    "Q_OIS |   Дебит жидкости\n",
    "NomMoschn |\tНоминальная мощность\n",
    "Hperf |\tГлубина перфораций\n",
    "NomNapor\t| Номинальный напор\n",
    "Water_cut |\tОбводненность\n",
    "NomPodacha\t| Номинальная подача\n",
    "Dnkt |\tДиаметр НКТ\n",
    "H_sp\t| Глубина спуска\n",
    "P_plst\t| Пластовое давление\n",
    "Hvd\t| Глубина верхних дыр перфораций\n",
    "Extend_Hvd\t| Удлинение верхних дыр перфораций\n",
    "PlNeft |\tПлотность нефти\n",
    "VyazkNeft\t| Вязкость нефти\n",
    "SumTolshin\t| Сумма нефтенасыщенных толщин\n",
    "P_zatr\t| Затрубное давление\n",
    "PlVody |\tПлотность воды\n",
    "Pnas\t| Давление насыщения\n",
    "Inject_0,1,2,3\t| Приемистость ближайших нагнетательных скважин\n",
    "BHP\t| Забойное давление\n",
    "State\t| Состояние скважины (работает, не работает)\n",
    "IDN_type |\tТип ГТМ (ИДН или ППР)\n",
    "NalichSep |\tНаличие сепаратора\n",
    "Formation_lbl |\tМетка пласта\n",
    "state_age\t| Возраст состояние\n",
    "Date |\tДата\n",
    "Start_date\t| Дата начала ГТМ\n",
    "Well_ID|\tID скважины\n",
    "id\tID| ГТМ\n",
    "VNR|\tПризнак выхода на режим\n",
    "Date_VNR|\tДата выхода на режим\n",
    "GTM_type_lbl|\tМетка типа ГТМ "
   ]
  },
  {
   "cell_type": "markdown",
   "metadata": {
    "id": "Uh0x0yn_QnYW"
   },
   "source": [
    "#### Описание задачи\n",
    "На основе  данных построить модель прогнозирования дебита жидкости (признак Q_OIS) после геолого-технического мероприятия (ГТМ) – итенсификация добычи нефти (ИДН). \n",
    "Прогноз необходимо сделать на дату выхода скажины на режим (дата ВНР). Точка прогноза однозначно задается бинарным признаком VNR (точка прогноза – VNR=1).\n",
    "\n",
    "Каждому событию ИДН предшествует своя история, однозначно определяемая признаком id. В тренировочном датасете contest_train_df.csv для каждого факта ИДН (признак id) известно значение дебита жидкости Q_OIS на дату ВНР (VNR=1).\n",
    "\n",
    "Дополнительно  дана таблица со всеми типами ГТМ, проведенными на исследуемых скважинах."
   ]
  },
  {
   "cell_type": "code",
   "execution_count": 3,
   "metadata": {
    "colab": {
     "base_uri": "https://localhost:8080/"
    },
    "id": "XilqTJvLQnYX",
    "outputId": "d86d91d3-baa0-44a4-ea7e-a7b2eace4e7f",
    "scrolled": false
   },
   "outputs": [
    {
     "name": "stdout",
     "output_type": "stream",
     "text": [
      "<class 'pandas.core.frame.DataFrame'>\n",
      "RangeIndex: 2782441 entries, 0 to 2782440\n",
      "Data columns (total 34 columns):\n",
      " #   Column         Dtype  \n",
      "---  ------         -----  \n",
      " 0   Dnytr          float64\n",
      " 1   H_din          float64\n",
      " 2   Q_OIS          float64\n",
      " 3   NomMoschn      float64\n",
      " 4   Hperf          float64\n",
      " 5   NomNapor       float64\n",
      " 6   Water_cut      float64\n",
      " 7   NomPodacha     float64\n",
      " 8   Dnkt           float64\n",
      " 9   H_sp           float64\n",
      " 10  P_plst         float64\n",
      " 11  Hvd            float64\n",
      " 12  Extend_Hvd     float64\n",
      " 13  PlNeft         float64\n",
      " 14  VyazkNeft      float64\n",
      " 15  SumTolshin     float64\n",
      " 16  P_zatr         float64\n",
      " 17  PlVody         float64\n",
      " 18  Pnas           float64\n",
      " 19  Inject_0       float64\n",
      " 20  Inject_1       float64\n",
      " 21  Inject_2       float64\n",
      " 22  Inject_3       float64\n",
      " 23  BHP            float64\n",
      " 24  State          int64  \n",
      " 25  IDN_type       int64  \n",
      " 26  NalichSep      float64\n",
      " 27  Formation_lbl  object \n",
      " 28  state_age      float64\n",
      " 29  Date           object \n",
      " 30  Start_date     object \n",
      " 31  Well_ID        int64  \n",
      " 32  id             int64  \n",
      " 33  VNR            int64  \n",
      "dtypes: float64(26), int64(5), object(3)\n",
      "memory usage: 721.8+ MB\n"
     ]
    }
   ],
   "source": [
    "# чтение данных из файла с расширением .csv\n",
    "df = pd.read_csv('contest_train_df.csv')\n",
    "# общая информация о датафрейме\n",
    "df.info()"
   ]
  },
  {
   "cell_type": "code",
   "execution_count": 4,
   "metadata": {},
   "outputs": [
    {
     "data": {
      "text/plain": [
       "Dnytr             True\n",
       "H_din             True\n",
       "Q_OIS             True\n",
       "NomMoschn         True\n",
       "Hperf             True\n",
       "NomNapor          True\n",
       "Water_cut         True\n",
       "NomPodacha        True\n",
       "Dnkt              True\n",
       "H_sp              True\n",
       "P_plst            True\n",
       "Hvd               True\n",
       "Extend_Hvd        True\n",
       "PlNeft            True\n",
       "VyazkNeft         True\n",
       "SumTolshin        True\n",
       "P_zatr            True\n",
       "PlVody            True\n",
       "Pnas              True\n",
       "Inject_0          True\n",
       "Inject_1          True\n",
       "Inject_2          True\n",
       "Inject_3          True\n",
       "BHP               True\n",
       "State            False\n",
       "IDN_type         False\n",
       "NalichSep         True\n",
       "Formation_lbl    False\n",
       "state_age        False\n",
       "Date             False\n",
       "Start_date       False\n",
       "Well_ID          False\n",
       "id               False\n",
       "VNR              False\n",
       "dtype: bool"
      ]
     },
     "execution_count": 4,
     "metadata": {},
     "output_type": "execute_result"
    }
   ],
   "source": [
    "# Проверяем на пропуски. Многовато.\n",
    "\n",
    "df.isna().any()"
   ]
  },
  {
   "cell_type": "code",
   "execution_count": 5,
   "metadata": {
    "colab": {
     "base_uri": "https://localhost:8080/"
    },
    "id": "I8maCebMQnYY",
    "outputId": "2de59807-f95e-4b92-d71c-1c0746fbb06d"
   },
   "outputs": [
    {
     "data": {
      "text/plain": [
       "Index(['Dnytr', 'H_din', 'Q_OIS', 'NomMoschn', 'Hperf', 'NomNapor',\n",
       "       'Water_cut', 'NomPodacha', 'Dnkt', 'H_sp', 'P_plst', 'Hvd',\n",
       "       'Extend_Hvd', 'PlNeft', 'VyazkNeft', 'SumTolshin', 'P_zatr', 'PlVody',\n",
       "       'Pnas', 'Inject_0', 'Inject_1', 'Inject_2', 'Inject_3', 'BHP', 'State',\n",
       "       'IDN_type', 'NalichSep', 'Formation_lbl', 'state_age', 'Date',\n",
       "       'Start_date', 'Well_ID', 'id', 'VNR'],\n",
       "      dtype='object')"
      ]
     },
     "execution_count": 5,
     "metadata": {},
     "output_type": "execute_result"
    }
   ],
   "source": [
    "# Имя первого признака\n",
    "df.columns"
   ]
  },
  {
   "cell_type": "code",
   "execution_count": 6,
   "metadata": {
    "id": "XNNzxX0CQnYZ"
   },
   "outputs": [
    {
     "data": {
      "text/plain": [
       "0           NaN\n",
       "1           NaN\n",
       "2           NaN\n",
       "3           NaN\n",
       "4           NaN\n",
       "           ... \n",
       "2782436    73.0\n",
       "2782437    73.0\n",
       "2782438    73.0\n",
       "2782439    73.0\n",
       "2782440    73.0\n",
       "Name: Dnkt, Length: 2782441, dtype: float64"
      ]
     },
     "execution_count": 6,
     "metadata": {},
     "output_type": "execute_result"
    }
   ],
   "source": [
    "# Обращение к колонке DataFrame по имени\n",
    "# слева - индекс, справа - значение\n",
    "# возвращается тип Series\n",
    "df['Dnkt']"
   ]
  },
  {
   "cell_type": "code",
   "execution_count": 7,
   "metadata": {
    "id": "CgyShlCgQnYZ"
   },
   "outputs": [
    {
     "data": {
      "text/plain": [
       "2100.0"
      ]
     },
     "execution_count": 7,
     "metadata": {},
     "output_type": "execute_result"
    }
   ],
   "source": [
    "# Получение элемента Series по индексу\n",
    "df['H_sp'].iloc[2]"
   ]
  },
  {
   "cell_type": "code",
   "execution_count": 8,
   "metadata": {
    "id": "7JCD_SZ2QnYa"
   },
   "outputs": [
    {
     "data": {
      "text/plain": [
       "'23'"
      ]
     },
     "execution_count": 8,
     "metadata": {},
     "output_type": "execute_result"
    }
   ],
   "source": [
    "# Вопрос 1. Какое значение лежит в колонке Formation_lbl по индексу 297?\n",
    "\n",
    "df[\"Formation_lbl\"].iloc[297]"
   ]
  },
  {
   "cell_type": "markdown",
   "metadata": {
    "id": "bwLQZbzRQnYb"
   },
   "source": [
    "### Статистика по DataFrame и Series\n",
    "Ещё несколько полезных функций для получения информации о данных в датафрейме:\n",
    "\n",
    "- DataFrame.describe() - получение описательной статистики\n",
    "- Series().value_counts - подсчёт поличества вхождений значений в Series\n",
    "- Series.unique(), Series.nunique() - множество уникальных значений в Series и количество уникальных\n",
    "- DataFrame.head() - первые несколько записей DataFrame\n",
    "- Series.max(), Series.min() - максимальное и минимальное значения\n",
    "- Series.mean(), Series.median() - среднее и медианное значения"
   ]
  },
  {
   "cell_type": "code",
   "execution_count": 9,
   "metadata": {
    "id": "WDdsRnSlQnYb"
   },
   "outputs": [
    {
     "data": {
      "text/html": [
       "<div>\n",
       "<style scoped>\n",
       "    .dataframe tbody tr th:only-of-type {\n",
       "        vertical-align: middle;\n",
       "    }\n",
       "\n",
       "    .dataframe tbody tr th {\n",
       "        vertical-align: top;\n",
       "    }\n",
       "\n",
       "    .dataframe thead th {\n",
       "        text-align: right;\n",
       "    }\n",
       "</style>\n",
       "<table border=\"1\" class=\"dataframe\">\n",
       "  <thead>\n",
       "    <tr style=\"text-align: right;\">\n",
       "      <th></th>\n",
       "      <th>Dnytr</th>\n",
       "      <th>H_din</th>\n",
       "      <th>Q_OIS</th>\n",
       "      <th>NomMoschn</th>\n",
       "      <th>Hperf</th>\n",
       "      <th>NomNapor</th>\n",
       "      <th>Water_cut</th>\n",
       "      <th>NomPodacha</th>\n",
       "      <th>Dnkt</th>\n",
       "      <th>H_sp</th>\n",
       "      <th>...</th>\n",
       "      <th>State</th>\n",
       "      <th>IDN_type</th>\n",
       "      <th>NalichSep</th>\n",
       "      <th>Formation_lbl</th>\n",
       "      <th>state_age</th>\n",
       "      <th>Date</th>\n",
       "      <th>Start_date</th>\n",
       "      <th>Well_ID</th>\n",
       "      <th>id</th>\n",
       "      <th>VNR</th>\n",
       "    </tr>\n",
       "  </thead>\n",
       "  <tbody>\n",
       "    <tr>\n",
       "      <th>0</th>\n",
       "      <td>NaN</td>\n",
       "      <td>NaN</td>\n",
       "      <td>0.0</td>\n",
       "      <td>NaN</td>\n",
       "      <td>NaN</td>\n",
       "      <td>NaN</td>\n",
       "      <td>NaN</td>\n",
       "      <td>NaN</td>\n",
       "      <td>NaN</td>\n",
       "      <td>1487.0</td>\n",
       "      <td>...</td>\n",
       "      <td>0</td>\n",
       "      <td>1</td>\n",
       "      <td>NaN</td>\n",
       "      <td>2,5</td>\n",
       "      <td>30.0</td>\n",
       "      <td>1965-01-16</td>\n",
       "      <td>1965-06-21</td>\n",
       "      <td>4473</td>\n",
       "      <td>30413</td>\n",
       "      <td>0</td>\n",
       "    </tr>\n",
       "    <tr>\n",
       "      <th>1</th>\n",
       "      <td>NaN</td>\n",
       "      <td>NaN</td>\n",
       "      <td>NaN</td>\n",
       "      <td>NaN</td>\n",
       "      <td>NaN</td>\n",
       "      <td>NaN</td>\n",
       "      <td>NaN</td>\n",
       "      <td>NaN</td>\n",
       "      <td>NaN</td>\n",
       "      <td>1320.0</td>\n",
       "      <td>...</td>\n",
       "      <td>1</td>\n",
       "      <td>1</td>\n",
       "      <td>NaN</td>\n",
       "      <td>24,26</td>\n",
       "      <td>31.0</td>\n",
       "      <td>1965-01-16</td>\n",
       "      <td>1965-03-12</td>\n",
       "      <td>3905</td>\n",
       "      <td>26087</td>\n",
       "      <td>0</td>\n",
       "    </tr>\n",
       "    <tr>\n",
       "      <th>2</th>\n",
       "      <td>NaN</td>\n",
       "      <td>NaN</td>\n",
       "      <td>NaN</td>\n",
       "      <td>NaN</td>\n",
       "      <td>NaN</td>\n",
       "      <td>NaN</td>\n",
       "      <td>NaN</td>\n",
       "      <td>NaN</td>\n",
       "      <td>NaN</td>\n",
       "      <td>2100.0</td>\n",
       "      <td>...</td>\n",
       "      <td>1</td>\n",
       "      <td>1</td>\n",
       "      <td>NaN</td>\n",
       "      <td>38</td>\n",
       "      <td>131.0</td>\n",
       "      <td>1965-01-16</td>\n",
       "      <td>1965-06-29</td>\n",
       "      <td>8467</td>\n",
       "      <td>58863</td>\n",
       "      <td>0</td>\n",
       "    </tr>\n",
       "    <tr>\n",
       "      <th>3</th>\n",
       "      <td>NaN</td>\n",
       "      <td>NaN</td>\n",
       "      <td>0.0</td>\n",
       "      <td>NaN</td>\n",
       "      <td>NaN</td>\n",
       "      <td>NaN</td>\n",
       "      <td>NaN</td>\n",
       "      <td>NaN</td>\n",
       "      <td>NaN</td>\n",
       "      <td>NaN</td>\n",
       "      <td>...</td>\n",
       "      <td>0</td>\n",
       "      <td>1</td>\n",
       "      <td>NaN</td>\n",
       "      <td>45,46</td>\n",
       "      <td>28.0</td>\n",
       "      <td>1965-01-16</td>\n",
       "      <td>1965-05-05</td>\n",
       "      <td>8092</td>\n",
       "      <td>56313</td>\n",
       "      <td>0</td>\n",
       "    </tr>\n",
       "    <tr>\n",
       "      <th>4</th>\n",
       "      <td>NaN</td>\n",
       "      <td>NaN</td>\n",
       "      <td>NaN</td>\n",
       "      <td>NaN</td>\n",
       "      <td>NaN</td>\n",
       "      <td>NaN</td>\n",
       "      <td>NaN</td>\n",
       "      <td>NaN</td>\n",
       "      <td>NaN</td>\n",
       "      <td>2321.0</td>\n",
       "      <td>...</td>\n",
       "      <td>1</td>\n",
       "      <td>1</td>\n",
       "      <td>NaN</td>\n",
       "      <td>2,5</td>\n",
       "      <td>616.0</td>\n",
       "      <td>1965-01-16</td>\n",
       "      <td>1965-06-21</td>\n",
       "      <td>4136</td>\n",
       "      <td>27819</td>\n",
       "      <td>0</td>\n",
       "    </tr>\n",
       "    <tr>\n",
       "      <th>5</th>\n",
       "      <td>NaN</td>\n",
       "      <td>NaN</td>\n",
       "      <td>0.0</td>\n",
       "      <td>NaN</td>\n",
       "      <td>NaN</td>\n",
       "      <td>NaN</td>\n",
       "      <td>NaN</td>\n",
       "      <td>NaN</td>\n",
       "      <td>NaN</td>\n",
       "      <td>NaN</td>\n",
       "      <td>...</td>\n",
       "      <td>0</td>\n",
       "      <td>1</td>\n",
       "      <td>NaN</td>\n",
       "      <td>45</td>\n",
       "      <td>52.0</td>\n",
       "      <td>1965-01-16</td>\n",
       "      <td>1965-06-04</td>\n",
       "      <td>8090</td>\n",
       "      <td>56302</td>\n",
       "      <td>0</td>\n",
       "    </tr>\n",
       "    <tr>\n",
       "      <th>6</th>\n",
       "      <td>NaN</td>\n",
       "      <td>NaN</td>\n",
       "      <td>NaN</td>\n",
       "      <td>NaN</td>\n",
       "      <td>NaN</td>\n",
       "      <td>NaN</td>\n",
       "      <td>NaN</td>\n",
       "      <td>NaN</td>\n",
       "      <td>NaN</td>\n",
       "      <td>2185.0</td>\n",
       "      <td>...</td>\n",
       "      <td>1</td>\n",
       "      <td>1</td>\n",
       "      <td>NaN</td>\n",
       "      <td>23</td>\n",
       "      <td>169.0</td>\n",
       "      <td>1965-01-16</td>\n",
       "      <td>1965-06-12</td>\n",
       "      <td>769</td>\n",
       "      <td>4377</td>\n",
       "      <td>0</td>\n",
       "    </tr>\n",
       "    <tr>\n",
       "      <th>7</th>\n",
       "      <td>NaN</td>\n",
       "      <td>NaN</td>\n",
       "      <td>NaN</td>\n",
       "      <td>NaN</td>\n",
       "      <td>NaN</td>\n",
       "      <td>NaN</td>\n",
       "      <td>NaN</td>\n",
       "      <td>NaN</td>\n",
       "      <td>NaN</td>\n",
       "      <td>2085.0</td>\n",
       "      <td>...</td>\n",
       "      <td>1</td>\n",
       "      <td>1</td>\n",
       "      <td>NaN</td>\n",
       "      <td>7</td>\n",
       "      <td>547.0</td>\n",
       "      <td>1965-01-16</td>\n",
       "      <td>1965-07-08</td>\n",
       "      <td>6908</td>\n",
       "      <td>46487</td>\n",
       "      <td>0</td>\n",
       "    </tr>\n",
       "    <tr>\n",
       "      <th>8</th>\n",
       "      <td>NaN</td>\n",
       "      <td>NaN</td>\n",
       "      <td>NaN</td>\n",
       "      <td>NaN</td>\n",
       "      <td>NaN</td>\n",
       "      <td>NaN</td>\n",
       "      <td>NaN</td>\n",
       "      <td>NaN</td>\n",
       "      <td>NaN</td>\n",
       "      <td>NaN</td>\n",
       "      <td>...</td>\n",
       "      <td>1</td>\n",
       "      <td>1</td>\n",
       "      <td>NaN</td>\n",
       "      <td>23</td>\n",
       "      <td>311.0</td>\n",
       "      <td>1965-01-16</td>\n",
       "      <td>1965-03-23</td>\n",
       "      <td>1210</td>\n",
       "      <td>6782</td>\n",
       "      <td>0</td>\n",
       "    </tr>\n",
       "    <tr>\n",
       "      <th>9</th>\n",
       "      <td>NaN</td>\n",
       "      <td>NaN</td>\n",
       "      <td>NaN</td>\n",
       "      <td>NaN</td>\n",
       "      <td>NaN</td>\n",
       "      <td>NaN</td>\n",
       "      <td>NaN</td>\n",
       "      <td>NaN</td>\n",
       "      <td>NaN</td>\n",
       "      <td>1620.0</td>\n",
       "      <td>...</td>\n",
       "      <td>1</td>\n",
       "      <td>1</td>\n",
       "      <td>NaN</td>\n",
       "      <td>23</td>\n",
       "      <td>374.0</td>\n",
       "      <td>1965-01-16</td>\n",
       "      <td>1965-03-23</td>\n",
       "      <td>1611</td>\n",
       "      <td>9600</td>\n",
       "      <td>0</td>\n",
       "    </tr>\n",
       "  </tbody>\n",
       "</table>\n",
       "<p>10 rows × 34 columns</p>\n",
       "</div>"
      ],
      "text/plain": [
       "   Dnytr  H_din  Q_OIS  NomMoschn  Hperf  NomNapor  Water_cut  NomPodacha  \\\n",
       "0    NaN    NaN    0.0        NaN    NaN       NaN        NaN         NaN   \n",
       "1    NaN    NaN    NaN        NaN    NaN       NaN        NaN         NaN   \n",
       "2    NaN    NaN    NaN        NaN    NaN       NaN        NaN         NaN   \n",
       "3    NaN    NaN    0.0        NaN    NaN       NaN        NaN         NaN   \n",
       "4    NaN    NaN    NaN        NaN    NaN       NaN        NaN         NaN   \n",
       "5    NaN    NaN    0.0        NaN    NaN       NaN        NaN         NaN   \n",
       "6    NaN    NaN    NaN        NaN    NaN       NaN        NaN         NaN   \n",
       "7    NaN    NaN    NaN        NaN    NaN       NaN        NaN         NaN   \n",
       "8    NaN    NaN    NaN        NaN    NaN       NaN        NaN         NaN   \n",
       "9    NaN    NaN    NaN        NaN    NaN       NaN        NaN         NaN   \n",
       "\n",
       "   Dnkt    H_sp  ...  State  IDN_type  NalichSep  Formation_lbl  state_age  \\\n",
       "0   NaN  1487.0  ...      0         1        NaN            2,5       30.0   \n",
       "1   NaN  1320.0  ...      1         1        NaN          24,26       31.0   \n",
       "2   NaN  2100.0  ...      1         1        NaN             38      131.0   \n",
       "3   NaN     NaN  ...      0         1        NaN          45,46       28.0   \n",
       "4   NaN  2321.0  ...      1         1        NaN            2,5      616.0   \n",
       "5   NaN     NaN  ...      0         1        NaN             45       52.0   \n",
       "6   NaN  2185.0  ...      1         1        NaN             23      169.0   \n",
       "7   NaN  2085.0  ...      1         1        NaN              7      547.0   \n",
       "8   NaN     NaN  ...      1         1        NaN             23      311.0   \n",
       "9   NaN  1620.0  ...      1         1        NaN             23      374.0   \n",
       "\n",
       "         Date  Start_date  Well_ID     id  VNR  \n",
       "0  1965-01-16  1965-06-21     4473  30413    0  \n",
       "1  1965-01-16  1965-03-12     3905  26087    0  \n",
       "2  1965-01-16  1965-06-29     8467  58863    0  \n",
       "3  1965-01-16  1965-05-05     8092  56313    0  \n",
       "4  1965-01-16  1965-06-21     4136  27819    0  \n",
       "5  1965-01-16  1965-06-04     8090  56302    0  \n",
       "6  1965-01-16  1965-06-12      769   4377    0  \n",
       "7  1965-01-16  1965-07-08     6908  46487    0  \n",
       "8  1965-01-16  1965-03-23     1210   6782    0  \n",
       "9  1965-01-16  1965-03-23     1611   9600    0  \n",
       "\n",
       "[10 rows x 34 columns]"
      ]
     },
     "execution_count": 9,
     "metadata": {},
     "output_type": "execute_result"
    }
   ],
   "source": [
    "# посмотрим на данные\n",
    "# выведем первые 10 записей датасета\n",
    "df.head(10)"
   ]
  },
  {
   "cell_type": "code",
   "execution_count": 10,
   "metadata": {
    "id": "Pq1Gg634QnYc"
   },
   "outputs": [
    {
     "data": {
      "text/plain": [
       "(2782441, 34)"
      ]
     },
     "execution_count": 10,
     "metadata": {},
     "output_type": "execute_result"
    }
   ],
   "source": [
    "# размер таблицы, возвращается кортеж (количество записей, количество столбцов)\n",
    "df.shape"
   ]
  },
  {
   "cell_type": "code",
   "execution_count": 11,
   "metadata": {
    "id": "K-rejpTZQnYc"
   },
   "outputs": [
    {
     "data": {
      "text/html": [
       "<div>\n",
       "<style scoped>\n",
       "    .dataframe tbody tr th:only-of-type {\n",
       "        vertical-align: middle;\n",
       "    }\n",
       "\n",
       "    .dataframe tbody tr th {\n",
       "        vertical-align: top;\n",
       "    }\n",
       "\n",
       "    .dataframe thead th {\n",
       "        text-align: right;\n",
       "    }\n",
       "</style>\n",
       "<table border=\"1\" class=\"dataframe\">\n",
       "  <thead>\n",
       "    <tr style=\"text-align: right;\">\n",
       "      <th></th>\n",
       "      <th>Dnytr</th>\n",
       "      <th>H_din</th>\n",
       "      <th>Q_OIS</th>\n",
       "      <th>NomMoschn</th>\n",
       "      <th>Hperf</th>\n",
       "      <th>NomNapor</th>\n",
       "      <th>Water_cut</th>\n",
       "      <th>NomPodacha</th>\n",
       "      <th>Dnkt</th>\n",
       "      <th>H_sp</th>\n",
       "      <th>...</th>\n",
       "      <th>Inject_2</th>\n",
       "      <th>Inject_3</th>\n",
       "      <th>BHP</th>\n",
       "      <th>State</th>\n",
       "      <th>IDN_type</th>\n",
       "      <th>NalichSep</th>\n",
       "      <th>state_age</th>\n",
       "      <th>Well_ID</th>\n",
       "      <th>id</th>\n",
       "      <th>VNR</th>\n",
       "    </tr>\n",
       "  </thead>\n",
       "  <tbody>\n",
       "    <tr>\n",
       "      <th>count</th>\n",
       "      <td>2.684735e+06</td>\n",
       "      <td>172579.000000</td>\n",
       "      <td>1.302361e+06</td>\n",
       "      <td>2.617663e+06</td>\n",
       "      <td>2.656718e+06</td>\n",
       "      <td>2.659152e+06</td>\n",
       "      <td>1.060342e+06</td>\n",
       "      <td>2.664482e+06</td>\n",
       "      <td>2.680877e+06</td>\n",
       "      <td>2.765985e+06</td>\n",
       "      <td>...</td>\n",
       "      <td>1.648875e+06</td>\n",
       "      <td>1.551415e+06</td>\n",
       "      <td>545615.000000</td>\n",
       "      <td>2.782441e+06</td>\n",
       "      <td>2.782441e+06</td>\n",
       "      <td>2.685115e+06</td>\n",
       "      <td>2.782441e+06</td>\n",
       "      <td>2.782441e+06</td>\n",
       "      <td>2.782441e+06</td>\n",
       "      <td>2.782441e+06</td>\n",
       "    </tr>\n",
       "    <tr>\n",
       "      <th>mean</th>\n",
       "      <td>1.312891e+02</td>\n",
       "      <td>1963.347570</td>\n",
       "      <td>1.162965e+02</td>\n",
       "      <td>1.014737e+02</td>\n",
       "      <td>3.398602e+01</td>\n",
       "      <td>2.097440e+03</td>\n",
       "      <td>5.606606e+01</td>\n",
       "      <td>1.821768e+02</td>\n",
       "      <td>7.162893e+01</td>\n",
       "      <td>2.386648e+03</td>\n",
       "      <td>...</td>\n",
       "      <td>3.628271e+02</td>\n",
       "      <td>3.676090e+02</td>\n",
       "      <td>75.595258</td>\n",
       "      <td>9.086626e-01</td>\n",
       "      <td>4.507970e-01</td>\n",
       "      <td>4.974603e-01</td>\n",
       "      <td>3.924990e+02</td>\n",
       "      <td>4.024384e+03</td>\n",
       "      <td>2.720821e+04</td>\n",
       "      <td>5.614495e-03</td>\n",
       "    </tr>\n",
       "    <tr>\n",
       "      <th>std</th>\n",
       "      <td>8.370227e+00</td>\n",
       "      <td>582.045551</td>\n",
       "      <td>1.391846e+02</td>\n",
       "      <td>6.709455e+01</td>\n",
       "      <td>3.802164e+01</td>\n",
       "      <td>3.081066e+02</td>\n",
       "      <td>3.442464e+01</td>\n",
       "      <td>1.585073e+02</td>\n",
       "      <td>4.264539e+00</td>\n",
       "      <td>3.605204e+02</td>\n",
       "      <td>...</td>\n",
       "      <td>2.660894e+02</td>\n",
       "      <td>2.605912e+02</td>\n",
       "      <td>33.600845</td>\n",
       "      <td>2.880884e-01</td>\n",
       "      <td>4.975733e-01</td>\n",
       "      <td>4.999936e-01</td>\n",
       "      <td>3.533261e+02</td>\n",
       "      <td>2.404601e+03</td>\n",
       "      <td>1.693324e+04</td>\n",
       "      <td>7.471930e-02</td>\n",
       "    </tr>\n",
       "    <tr>\n",
       "      <th>min</th>\n",
       "      <td>8.900000e+01</td>\n",
       "      <td>0.000000</td>\n",
       "      <td>0.000000e+00</td>\n",
       "      <td>1.100000e+01</td>\n",
       "      <td>6.000000e-01</td>\n",
       "      <td>1.840000e+02</td>\n",
       "      <td>0.000000e+00</td>\n",
       "      <td>2.000000e-01</td>\n",
       "      <td>1.000000e+00</td>\n",
       "      <td>1.000000e+00</td>\n",
       "      <td>...</td>\n",
       "      <td>0.000000e+00</td>\n",
       "      <td>8.235294e-01</td>\n",
       "      <td>-66.150000</td>\n",
       "      <td>0.000000e+00</td>\n",
       "      <td>0.000000e+00</td>\n",
       "      <td>0.000000e+00</td>\n",
       "      <td>1.000000e+00</td>\n",
       "      <td>0.000000e+00</td>\n",
       "      <td>2.000000e+00</td>\n",
       "      <td>0.000000e+00</td>\n",
       "    </tr>\n",
       "    <tr>\n",
       "      <th>25%</th>\n",
       "      <td>1.270000e+02</td>\n",
       "      <td>1651.000000</td>\n",
       "      <td>2.500000e+01</td>\n",
       "      <td>5.000000e+01</td>\n",
       "      <td>1.200000e+01</td>\n",
       "      <td>1.911000e+03</td>\n",
       "      <td>2.000000e+01</td>\n",
       "      <td>6.000000e+01</td>\n",
       "      <td>7.300000e+01</td>\n",
       "      <td>2.200000e+03</td>\n",
       "      <td>...</td>\n",
       "      <td>1.696774e+02</td>\n",
       "      <td>1.749333e+02</td>\n",
       "      <td>51.400000</td>\n",
       "      <td>1.000000e+00</td>\n",
       "      <td>0.000000e+00</td>\n",
       "      <td>0.000000e+00</td>\n",
       "      <td>1.320000e+02</td>\n",
       "      <td>2.009000e+03</td>\n",
       "      <td>1.278000e+04</td>\n",
       "      <td>0.000000e+00</td>\n",
       "    </tr>\n",
       "    <tr>\n",
       "      <th>50%</th>\n",
       "      <td>1.290000e+02</td>\n",
       "      <td>2080.000000</td>\n",
       "      <td>6.700000e+01</td>\n",
       "      <td>7.460000e+01</td>\n",
       "      <td>2.300000e+01</td>\n",
       "      <td>2.154000e+03</td>\n",
       "      <td>6.100000e+01</td>\n",
       "      <td>1.250000e+02</td>\n",
       "      <td>7.300000e+01</td>\n",
       "      <td>2.411000e+03</td>\n",
       "      <td>...</td>\n",
       "      <td>3.029032e+02</td>\n",
       "      <td>3.123871e+02</td>\n",
       "      <td>69.300000</td>\n",
       "      <td>1.000000e+00</td>\n",
       "      <td>0.000000e+00</td>\n",
       "      <td>0.000000e+00</td>\n",
       "      <td>2.830000e+02</td>\n",
       "      <td>3.911000e+03</td>\n",
       "      <td>2.613000e+04</td>\n",
       "      <td>0.000000e+00</td>\n",
       "    </tr>\n",
       "    <tr>\n",
       "      <th>75%</th>\n",
       "      <td>1.306000e+02</td>\n",
       "      <td>2380.000000</td>\n",
       "      <td>1.600000e+02</td>\n",
       "      <td>1.400000e+02</td>\n",
       "      <td>4.400000e+01</td>\n",
       "      <td>2.313000e+03</td>\n",
       "      <td>9.100000e+01</td>\n",
       "      <td>2.500000e+02</td>\n",
       "      <td>7.300000e+01</td>\n",
       "      <td>2.640000e+03</td>\n",
       "      <td>...</td>\n",
       "      <td>4.955161e+02</td>\n",
       "      <td>5.091935e+02</td>\n",
       "      <td>92.960000</td>\n",
       "      <td>1.000000e+00</td>\n",
       "      <td>1.000000e+00</td>\n",
       "      <td>1.000000e+00</td>\n",
       "      <td>5.500000e+02</td>\n",
       "      <td>5.717000e+03</td>\n",
       "      <td>3.931600e+04</td>\n",
       "      <td>0.000000e+00</td>\n",
       "    </tr>\n",
       "    <tr>\n",
       "      <th>max</th>\n",
       "      <td>2.230000e+02</td>\n",
       "      <td>3292.000000</td>\n",
       "      <td>1.630000e+03</td>\n",
       "      <td>6.600000e+02</td>\n",
       "      <td>5.530000e+02</td>\n",
       "      <td>3.738000e+03</td>\n",
       "      <td>9.990000e+01</td>\n",
       "      <td>1.325000e+03</td>\n",
       "      <td>1.140000e+02</td>\n",
       "      <td>3.481000e+03</td>\n",
       "      <td>...</td>\n",
       "      <td>4.277480e+03</td>\n",
       "      <td>2.246143e+03</td>\n",
       "      <td>320.720000</td>\n",
       "      <td>1.000000e+00</td>\n",
       "      <td>1.000000e+00</td>\n",
       "      <td>1.000000e+00</td>\n",
       "      <td>3.125000e+03</td>\n",
       "      <td>8.693000e+03</td>\n",
       "      <td>6.010900e+04</td>\n",
       "      <td>1.000000e+00</td>\n",
       "    </tr>\n",
       "  </tbody>\n",
       "</table>\n",
       "<p>8 rows × 31 columns</p>\n",
       "</div>"
      ],
      "text/plain": [
       "              Dnytr          H_din         Q_OIS     NomMoschn         Hperf  \\\n",
       "count  2.684735e+06  172579.000000  1.302361e+06  2.617663e+06  2.656718e+06   \n",
       "mean   1.312891e+02    1963.347570  1.162965e+02  1.014737e+02  3.398602e+01   \n",
       "std    8.370227e+00     582.045551  1.391846e+02  6.709455e+01  3.802164e+01   \n",
       "min    8.900000e+01       0.000000  0.000000e+00  1.100000e+01  6.000000e-01   \n",
       "25%    1.270000e+02    1651.000000  2.500000e+01  5.000000e+01  1.200000e+01   \n",
       "50%    1.290000e+02    2080.000000  6.700000e+01  7.460000e+01  2.300000e+01   \n",
       "75%    1.306000e+02    2380.000000  1.600000e+02  1.400000e+02  4.400000e+01   \n",
       "max    2.230000e+02    3292.000000  1.630000e+03  6.600000e+02  5.530000e+02   \n",
       "\n",
       "           NomNapor     Water_cut    NomPodacha          Dnkt          H_sp  \\\n",
       "count  2.659152e+06  1.060342e+06  2.664482e+06  2.680877e+06  2.765985e+06   \n",
       "mean   2.097440e+03  5.606606e+01  1.821768e+02  7.162893e+01  2.386648e+03   \n",
       "std    3.081066e+02  3.442464e+01  1.585073e+02  4.264539e+00  3.605204e+02   \n",
       "min    1.840000e+02  0.000000e+00  2.000000e-01  1.000000e+00  1.000000e+00   \n",
       "25%    1.911000e+03  2.000000e+01  6.000000e+01  7.300000e+01  2.200000e+03   \n",
       "50%    2.154000e+03  6.100000e+01  1.250000e+02  7.300000e+01  2.411000e+03   \n",
       "75%    2.313000e+03  9.100000e+01  2.500000e+02  7.300000e+01  2.640000e+03   \n",
       "max    3.738000e+03  9.990000e+01  1.325000e+03  1.140000e+02  3.481000e+03   \n",
       "\n",
       "       ...      Inject_2      Inject_3            BHP         State  \\\n",
       "count  ...  1.648875e+06  1.551415e+06  545615.000000  2.782441e+06   \n",
       "mean   ...  3.628271e+02  3.676090e+02      75.595258  9.086626e-01   \n",
       "std    ...  2.660894e+02  2.605912e+02      33.600845  2.880884e-01   \n",
       "min    ...  0.000000e+00  8.235294e-01     -66.150000  0.000000e+00   \n",
       "25%    ...  1.696774e+02  1.749333e+02      51.400000  1.000000e+00   \n",
       "50%    ...  3.029032e+02  3.123871e+02      69.300000  1.000000e+00   \n",
       "75%    ...  4.955161e+02  5.091935e+02      92.960000  1.000000e+00   \n",
       "max    ...  4.277480e+03  2.246143e+03     320.720000  1.000000e+00   \n",
       "\n",
       "           IDN_type     NalichSep     state_age       Well_ID            id  \\\n",
       "count  2.782441e+06  2.685115e+06  2.782441e+06  2.782441e+06  2.782441e+06   \n",
       "mean   4.507970e-01  4.974603e-01  3.924990e+02  4.024384e+03  2.720821e+04   \n",
       "std    4.975733e-01  4.999936e-01  3.533261e+02  2.404601e+03  1.693324e+04   \n",
       "min    0.000000e+00  0.000000e+00  1.000000e+00  0.000000e+00  2.000000e+00   \n",
       "25%    0.000000e+00  0.000000e+00  1.320000e+02  2.009000e+03  1.278000e+04   \n",
       "50%    0.000000e+00  0.000000e+00  2.830000e+02  3.911000e+03  2.613000e+04   \n",
       "75%    1.000000e+00  1.000000e+00  5.500000e+02  5.717000e+03  3.931600e+04   \n",
       "max    1.000000e+00  1.000000e+00  3.125000e+03  8.693000e+03  6.010900e+04   \n",
       "\n",
       "                VNR  \n",
       "count  2.782441e+06  \n",
       "mean   5.614495e-03  \n",
       "std    7.471930e-02  \n",
       "min    0.000000e+00  \n",
       "25%    0.000000e+00  \n",
       "50%    0.000000e+00  \n",
       "75%    0.000000e+00  \n",
       "max    1.000000e+00  \n",
       "\n",
       "[8 rows x 31 columns]"
      ]
     },
     "execution_count": 11,
     "metadata": {},
     "output_type": "execute_result"
    }
   ],
   "source": [
    "# оценка данных в общем\n",
    "# полученим статистику по датафрейму\n",
    "df.describe()"
   ]
  },
  {
   "cell_type": "code",
   "execution_count": 12,
   "metadata": {
    "id": "Cl31w7ZdQnYd"
   },
   "outputs": [
    {
     "data": {
      "text/html": [
       "<div>\n",
       "<style scoped>\n",
       "    .dataframe tbody tr th:only-of-type {\n",
       "        vertical-align: middle;\n",
       "    }\n",
       "\n",
       "    .dataframe tbody tr th {\n",
       "        vertical-align: top;\n",
       "    }\n",
       "\n",
       "    .dataframe thead th {\n",
       "        text-align: right;\n",
       "    }\n",
       "</style>\n",
       "<table border=\"1\" class=\"dataframe\">\n",
       "  <thead>\n",
       "    <tr style=\"text-align: right;\">\n",
       "      <th></th>\n",
       "      <th>Q_OIS</th>\n",
       "      <th>VNR</th>\n",
       "      <th>Water_cut</th>\n",
       "    </tr>\n",
       "  </thead>\n",
       "  <tbody>\n",
       "    <tr>\n",
       "      <th>count</th>\n",
       "      <td>1.302361e+06</td>\n",
       "      <td>2.782441e+06</td>\n",
       "      <td>1.060342e+06</td>\n",
       "    </tr>\n",
       "    <tr>\n",
       "      <th>mean</th>\n",
       "      <td>1.162965e+02</td>\n",
       "      <td>5.614495e-03</td>\n",
       "      <td>5.606606e+01</td>\n",
       "    </tr>\n",
       "    <tr>\n",
       "      <th>std</th>\n",
       "      <td>1.391846e+02</td>\n",
       "      <td>7.471930e-02</td>\n",
       "      <td>3.442464e+01</td>\n",
       "    </tr>\n",
       "    <tr>\n",
       "      <th>min</th>\n",
       "      <td>0.000000e+00</td>\n",
       "      <td>0.000000e+00</td>\n",
       "      <td>0.000000e+00</td>\n",
       "    </tr>\n",
       "    <tr>\n",
       "      <th>25%</th>\n",
       "      <td>2.500000e+01</td>\n",
       "      <td>0.000000e+00</td>\n",
       "      <td>2.000000e+01</td>\n",
       "    </tr>\n",
       "    <tr>\n",
       "      <th>50%</th>\n",
       "      <td>6.700000e+01</td>\n",
       "      <td>0.000000e+00</td>\n",
       "      <td>6.100000e+01</td>\n",
       "    </tr>\n",
       "    <tr>\n",
       "      <th>75%</th>\n",
       "      <td>1.600000e+02</td>\n",
       "      <td>0.000000e+00</td>\n",
       "      <td>9.100000e+01</td>\n",
       "    </tr>\n",
       "    <tr>\n",
       "      <th>max</th>\n",
       "      <td>1.630000e+03</td>\n",
       "      <td>1.000000e+00</td>\n",
       "      <td>9.990000e+01</td>\n",
       "    </tr>\n",
       "  </tbody>\n",
       "</table>\n",
       "</div>"
      ],
      "text/plain": [
       "              Q_OIS           VNR     Water_cut\n",
       "count  1.302361e+06  2.782441e+06  1.060342e+06\n",
       "mean   1.162965e+02  5.614495e-03  5.606606e+01\n",
       "std    1.391846e+02  7.471930e-02  3.442464e+01\n",
       "min    0.000000e+00  0.000000e+00  0.000000e+00\n",
       "25%    2.500000e+01  0.000000e+00  2.000000e+01\n",
       "50%    6.700000e+01  0.000000e+00  6.100000e+01\n",
       "75%    1.600000e+02  0.000000e+00  9.100000e+01\n",
       "max    1.630000e+03  1.000000e+00  9.990000e+01"
      ]
     },
     "execution_count": 12,
     "metadata": {},
     "output_type": "execute_result"
    }
   ],
   "source": [
    "# если хочется посмотреть только на часть выбранных признаков\n",
    "# полезно выделить их и заново сделать describe\n",
    "\n",
    "df[['Q_OIS', #  признак интересует, потому что он целевой\n",
    "   'VNR',   #  признак является важным идентифкатором\n",
    "    'Water_cut' #  признак, связанный с жидкостью\n",
    "   ]].describe()"
   ]
  },
  {
   "cell_type": "code",
   "execution_count": 13,
   "metadata": {
    "id": "ZFzGwyDdQnYe"
   },
   "outputs": [
    {
     "data": {
      "text/plain": [
       "2"
      ]
     },
     "execution_count": 13,
     "metadata": {},
     "output_type": "execute_result"
    }
   ],
   "source": [
    "# количество уникальных значений в признаке\n",
    "df['VNR'].nunique()"
   ]
  },
  {
   "cell_type": "code",
   "execution_count": 14,
   "metadata": {
    "id": "JbP6-7tuQnYe"
   },
   "outputs": [
    {
     "data": {
      "text/plain": [
       "0    2766819\n",
       "1      15622\n",
       "Name: VNR, dtype: int64"
      ]
     },
     "execution_count": 14,
     "metadata": {},
     "output_type": "execute_result"
    }
   ],
   "source": [
    "# признак VNR бинарный - у него всего два уникальных значения\n",
    "# убедимся, что эти два значения - 1 и 0\n",
    "df['VNR'].value_counts()"
   ]
  },
  {
   "cell_type": "code",
   "execution_count": 15,
   "metadata": {},
   "outputs": [],
   "source": [
    "df_copy = df.copy()\n"
   ]
  },
  {
   "cell_type": "code",
   "execution_count": 16,
   "metadata": {
    "id": "eXi6hF5qQnYf"
   },
   "outputs": [
    {
     "name": "stdout",
     "output_type": "stream",
     "text": [
      "Количество бинарных признаков: 4\n"
     ]
    }
   ],
   "source": [
    "# Вопрос 2. Сколько в датасете признаков, у которых всего 2 уникальных значения?\n",
    "\n",
    "binars_collum = 0\n",
    "\n",
    "for col in df.columns:\n",
    "    if df[col].nunique() == 2:\n",
    "        binars_collum += 1\n",
    "        \n",
    "print(\"Количество бинарных признаков: {}\".format(binars_collum))\n",
    "\n",
    "#переделать в лямбда-функцию"
   ]
  },
  {
   "cell_type": "code",
   "execution_count": 17,
   "metadata": {
    "id": "-zoYbxG9QnYg"
   },
   "outputs": [
    {
     "name": "stdout",
     "output_type": "stream",
     "text": [
      "Количество уникальных значений в 'Water_cut': 673 \n",
      "\n"
     ]
    },
    {
     "data": {
      "text/plain": [
       "95.0    59603\n",
       "96.0    51078\n",
       "94.0    43813\n",
       "93.0    35380\n",
       "8.0     32477\n",
       "        ...  \n",
       "68.6        1\n",
       "74.7        1\n",
       "74.2        1\n",
       "73.4        1\n",
       "77.4        1\n",
       "Name: Water_cut, Length: 673, dtype: int64"
      ]
     },
     "execution_count": 17,
     "metadata": {},
     "output_type": "execute_result"
    }
   ],
   "source": [
    "# Вопрос 3. Сколько уникальных значений в признаке Water_cut?\n",
    "\n",
    "print(\"Количество уникальных значений в 'Water_cut': {} \\n\".\n",
    "      format(df[\"Water_cut\"].nunique()))\n",
    "\n",
    "df['Water_cut'].value_counts() # Проверяем. Lenght 673. Сошлось"
   ]
  },
  {
   "cell_type": "code",
   "execution_count": 18,
   "metadata": {
    "id": "oIarYrirQnYg"
   },
   "outputs": [
    {
     "name": "stdout",
     "output_type": "stream",
     "text": [
      "Медиана и среднее у признака 'Extend_Hvd': False \n",
      "\n",
      "Медиана: 162.3 \n",
      "Среднее: 201.6127322585047 \n",
      "\n"
     ]
    }
   ],
   "source": [
    "# Вопрос 4. Совпадает ли медиана и среднее у признака Extend_Hvd?\n",
    "\n",
    "\n",
    "print(\"Медиана и среднее у признака 'Extend_Hvd': {} \\n\".\n",
    "     format(df['Extend_Hvd'].mean() == df['Extend_Hvd'].median())) \n",
    "\n",
    "print('Медиана: {} \\nСреднее: {} \\n'.format(df['Extend_Hvd'].median() ,df['Extend_Hvd'].mean())) # Проверка.Сошлось"
   ]
  },
  {
   "cell_type": "code",
   "execution_count": 19,
   "metadata": {
    "id": "oHxUs3ZYQnYh"
   },
   "outputs": [
    {
     "name": "stdout",
     "output_type": "stream",
     "text": [
      "максимальное значение у признака 'NomPodacha': 1325.0\n",
      "\n"
     ]
    },
    {
     "data": {
      "text/plain": [
       "count    2.664482e+06\n",
       "mean     1.821768e+02\n",
       "std      1.585073e+02\n",
       "min      2.000000e-01\n",
       "25%      6.000000e+01\n",
       "50%      1.250000e+02\n",
       "75%      2.500000e+02\n",
       "max      1.325000e+03\n",
       "Name: NomPodacha, dtype: float64"
      ]
     },
     "execution_count": 19,
     "metadata": {},
     "output_type": "execute_result"
    }
   ],
   "source": [
    "# Вопрос 5. Какое максимальное значение у признака NomPodacha?\n",
    "\n",
    "print(\"максимальное значение у признака 'NomPodacha': {}\\n\".\n",
    "     format(df['NomPodacha'].max()))\n",
    "\n",
    "df['NomPodacha'].describe() # Проверка. Сошлось."
   ]
  },
  {
   "cell_type": "markdown",
   "metadata": {
    "id": "mx3s4UmHQnYi"
   },
   "source": [
    "### Преобразование данных"
   ]
  },
  {
   "cell_type": "markdown",
   "metadata": {
    "id": "i8RHzIk1QnYi"
   },
   "source": [
    "##### Пропуски\n",
    "Пропуски - отсутствующие значения в данных. С пропусками в данных можно бороться несколькими способами: заполнять их, или удалять объекты с пропусками. Если пропусков немного, то удаление объектов с пропусками может быть приемлимо, однако во многих случаях пропуски предпочтительнее заполнить, чтобы не потерять нужную информацию.\n",
    "Pandas предоставляет несколько методов для работы с пропусками:\n",
    "- Series.isna() - возвращает True для каждого пропуска\n",
    "- Series.dropna() - удаляет все пропуски\n",
    "- Series.fillna() - заполняет пропуски\n",
    "\n",
    "##### Дубликаты\n",
    "Дубликаты - повторяющиеся значения в данных. Дубликаты вредны: они создают неверное представление о данных (распределениях) и часто являются причиной ошибок (в данных и в процессе их обработки).\n",
    "Для работы с дубликатами в Pandas:\n",
    "- DataFrame.drop_duplicates() - удаляет все дублирующиеся значения"
   ]
  },
  {
   "cell_type": "code",
   "execution_count": 20,
   "metadata": {
    "id": "oX16jedfQnYj"
   },
   "outputs": [],
   "source": [
    "# так как признак VNR оказался бинарным, преобразуем его к нужному типу\n",
    "df['VNR'] = df['VNR'].astype(bool)"
   ]
  },
  {
   "cell_type": "code",
   "execution_count": 21,
   "metadata": {
    "id": "Pt0j4JDmQnYj"
   },
   "outputs": [
    {
     "data": {
      "text/plain": [
       "0          False\n",
       "1          False\n",
       "2          False\n",
       "3          False\n",
       "4          False\n",
       "           ...  \n",
       "2782436     True\n",
       "2782437     True\n",
       "2782438     True\n",
       "2782439     True\n",
       "2782440     True\n",
       "Name: VNR, Length: 2782441, dtype: bool"
      ]
     },
     "execution_count": 21,
     "metadata": {},
     "output_type": "execute_result"
    }
   ],
   "source": [
    "df['VNR']"
   ]
  },
  {
   "cell_type": "code",
   "execution_count": 22,
   "metadata": {
    "id": "XqqOZBAkQnYk"
   },
   "outputs": [
    {
     "name": "stdout",
     "output_type": "stream",
     "text": [
      "Признак = Dnytr        : количество пропусков = 97706\n",
      "Признак = H_din        : количество пропусков = 2609862\n",
      "Признак = Q_OIS        : количество пропусков = 1480080\n",
      "Признак = NomMoschn    : количество пропусков = 164778\n",
      "Признак = Hperf        : количество пропусков = 125723\n",
      "Признак = NomNapor     : количество пропусков = 123289\n",
      "Признак = Water_cut    : количество пропусков = 1722099\n",
      "Признак = NomPodacha   : количество пропусков = 117959\n",
      "Признак = Dnkt         : количество пропусков = 101564\n",
      "Признак = H_sp         : количество пропусков = 16456\n",
      "Признак = P_plst       : количество пропусков = 99888\n",
      "Признак = Hvd          : количество пропусков = 98201\n",
      "Признак = Extend_Hvd   : количество пропусков = 98300\n",
      "Признак = PlNeft       : количество пропусков = 97807\n",
      "Признак = VyazkNeft    : количество пропусков = 141739\n",
      "Признак = SumTolshin   : количество пропусков = 157177\n",
      "Признак = P_zatr       : количество пропусков = 2609862\n",
      "Признак = PlVody       : количество пропусков = 97807\n",
      "Признак = Pnas         : количество пропусков = 97807\n",
      "Признак = Inject_0     : количество пропусков = 1155801\n",
      "Признак = Inject_1     : количество пропусков = 1167823\n",
      "Признак = Inject_2     : количество пропусков = 1133566\n",
      "Признак = Inject_3     : количество пропусков = 1231026\n",
      "Признак = BHP          : количество пропусков = 2236826\n",
      "Признак = State        : количество пропусков = 0\n",
      "Признак = IDN_type     : количество пропусков = 0\n",
      "Признак = NalichSep    : количество пропусков = 97326\n",
      "Признак = Formation_lbl: количество пропусков = 0\n",
      "Признак = state_age    : количество пропусков = 0\n",
      "Признак = Date         : количество пропусков = 0\n",
      "Признак = Start_date   : количество пропусков = 0\n",
      "Признак = Well_ID      : количество пропусков = 0\n",
      "Признак = id           : количество пропусков = 0\n",
      "Признак = VNR          : количество пропусков = 0\n"
     ]
    }
   ],
   "source": [
    "# в выводе первых строк датасета было видно очень много пропусков (NaN)\n",
    "# а сколько их точно?\n",
    "# количество пропусков по всем признакам (колонкам)\n",
    "# df.count() - количество заполненных по признакам (колонкам)\n",
    "for col in df.columns:\n",
    "    print('Признак = {:<13}: количество пропусков = {}'.format(col, df[col].isna().sum()))"
   ]
  },
  {
   "cell_type": "code",
   "execution_count": 23,
   "metadata": {
    "id": "_jlPZInWQnYk"
   },
   "outputs": [
    {
     "data": {
      "text/plain": [
       "(32566, 34)"
      ]
     },
     "execution_count": 23,
     "metadata": {},
     "output_type": "execute_result"
    }
   ],
   "source": [
    "# посмотрим, сколько останется данных\n",
    "# если просто убрать все объекты (строки) в которых есть хотя бы один пропуск:\n",
    "df.dropna().shape"
   ]
  },
  {
   "cell_type": "code",
   "execution_count": 24,
   "metadata": {
    "id": "EnhfZCEaQnYl"
   },
   "outputs": [
    {
     "data": {
      "text/plain": [
       "False"
      ]
     },
     "execution_count": 24,
     "metadata": {},
     "output_type": "execute_result"
    }
   ],
   "source": [
    "# если убрать все объекты с пропусками, то мы теряем очень много данных\n",
    "# проверим, есть ли строки, в которых пропущены воообще все значения?\n",
    "df.dropna(how='all').shape[0] != df.shape[0]"
   ]
  },
  {
   "cell_type": "code",
   "execution_count": 25,
   "metadata": {
    "id": "5ogLKmnjQnYl"
   },
   "outputs": [
    {
     "data": {
      "text/plain": [
       "7288"
      ]
     },
     "execution_count": 25,
     "metadata": {},
     "output_type": "execute_result"
    }
   ],
   "source": [
    "# абсолютно пустых строк в датасете нет, значит просто убрать пропуски мы не можем\n",
    "# лучше всего будет заполнить пропуски средним, но так как датасет довольно большой,\n",
    "# сделаем это после группировки и создания агрегатов\n",
    "# чтобы узнать, сколько всего будет уникальных скважин (а значит и строк в сгруппированном датасете) \n",
    "# вызовем метод nunique для признака Well_ID\n",
    "df['Well_ID'].nunique()"
   ]
  },
  {
   "cell_type": "code",
   "execution_count": 26,
   "metadata": {
    "id": "GJQ3Co5ZQnYm"
   },
   "outputs": [
    {
     "name": "stdout",
     "output_type": "stream",
     "text": [
      "Процент пропусков в колонке 'NomNapor': 4.430965%\n"
     ]
    }
   ],
   "source": [
    "# Вопрос 6. Каков процент (%) пропусков в колонке NomNapor? Округлите ответ до двух знаков после запятой.\n",
    "\n",
    "print(\"Процент пропусков в колонке 'NomNapor': {:2%}\".\n",
    "     format((\n",
    "         df[\"NomNapor\"].isna().sum()/len(df[\"NomNapor\"])\n",
    "           )))\n"
   ]
  },
  {
   "cell_type": "code",
   "execution_count": 27,
   "metadata": {},
   "outputs": [
    {
     "name": "stdout",
     "output_type": "stream",
     "text": [
      "2782441\n"
     ]
    }
   ],
   "source": [
    "print(len(df)) # всего данных\n"
   ]
  },
  {
   "cell_type": "code",
   "execution_count": 28,
   "metadata": {
    "id": "5Zq00p01QnYm"
   },
   "outputs": [
    {
     "name": "stdout",
     "output_type": "stream",
     "text": [
      "Dnkt: 1661.1588059701492\n",
      "Dnytr: 27278.833333333332\n",
      "\n",
      "Answer: 1565.808103545301\n"
     ]
    }
   ],
   "source": [
    "# Вопрос 7. Во сколько раз уменьшится размер датафрейма если сделать drop_duplicates по колонкам 'Dnkt','Dnytr'?\n",
    "# Округлите ответ до целых.\n",
    "\n",
    "\n",
    "# drop_duplicates - если данные в строках совпадают - удаляем строку.\n",
    "\n",
    "df_cp = df.copy()\n",
    "\n",
    "dupl_Dnkt = len(df_cp.Dnkt.drop_duplicates())\n",
    "dupl_Dnytr = len(df_cp.Dnytr.drop_duplicates())\n",
    "print('Dnkt: {}'.format(len(df_cp)/dupl_Dnkt))\n",
    "print('Dnytr: {}'.format(len(df_cp)/dupl_Dnytr))\n",
    "\n",
    "print('\\nAnswer: {}'.format(len(df_cp)/(dupl_Dnkt + dupl_Dnytr))) # answer, but right ?\n",
    "\n",
    "\n",
    "#df_cp.drop_duplicates(subset=['Dnkt', 'Dnytr'], keep='last') - почему-то не работает."
   ]
  },
  {
   "cell_type": "code",
   "execution_count": 29,
   "metadata": {
    "id": "OnsxqVSvQnYn"
   },
   "outputs": [
    {
     "name": "stdout",
     "output_type": "stream",
     "text": [
      "Среднее значения признака 'NomNapor' при заполнении NaN нулями не изменится\n"
     ]
    }
   ],
   "source": [
    "# Вопрос 8. Изменится ли среднее значение признака NomNapor если заполнить в нём пропуски значением 0?\n",
    "\n",
    "izm = {1:\"изменится\", 0:\"не изменится\"}\n",
    "key = df[\"NomNapor\"].mean() == df[\"NomNapor\"].fillna(0).mean()\n",
    "print(f\"Среднее значения признака 'NomNapor' при заполнении NaN нулями {izm[key]}\")"
   ]
  },
  {
   "cell_type": "markdown",
   "metadata": {
    "id": "BFgfD-YWQnYn"
   },
   "source": [
    "### Агрегация"
   ]
  },
  {
   "cell_type": "markdown",
   "metadata": {
    "id": "6nV3LathQnYo"
   },
   "source": [
    "#### Группировка и агрегация\n",
    "В pandas для группировки данных реализован метод **DataFrame.groupby()**. Он возвращает сгруппированный по указанному признаку датафрейм, к которому можно применять различные функции-агрегаты: например, выделение суммы для группы, подсчёт внутри группы более сложных агрегатов.\n",
    "\n",
    "#### Использование lambda и apply\n",
    "В случае потребности в нестандартных агрегатах можно воспользоваться **lambda-функцией** - для датафрейма она будет принимать Series, а для Series ячейку массива. Применить lambda-функцию к датафрейму можно через **apply** - этот метод принимает на вход функцию и применяет её ко всем элементам датафрейма (или Series)."
   ]
  },
  {
   "cell_type": "code",
   "execution_count": 30,
   "metadata": {
    "id": "yW7MITxCQnYo"
   },
   "outputs": [
    {
     "data": {
      "text/html": [
       "<div>\n",
       "<style scoped>\n",
       "    .dataframe tbody tr th:only-of-type {\n",
       "        vertical-align: middle;\n",
       "    }\n",
       "\n",
       "    .dataframe tbody tr th {\n",
       "        vertical-align: top;\n",
       "    }\n",
       "\n",
       "    .dataframe thead th {\n",
       "        text-align: right;\n",
       "    }\n",
       "</style>\n",
       "<table border=\"1\" class=\"dataframe\">\n",
       "  <thead>\n",
       "    <tr style=\"text-align: right;\">\n",
       "      <th></th>\n",
       "      <th>state_age</th>\n",
       "      <th>Water_cut</th>\n",
       "    </tr>\n",
       "  </thead>\n",
       "  <tbody>\n",
       "    <tr>\n",
       "      <th>max</th>\n",
       "      <td>3125.00000</td>\n",
       "      <td>99.9</td>\n",
       "    </tr>\n",
       "    <tr>\n",
       "      <th>mean</th>\n",
       "      <td>392.49903</td>\n",
       "      <td>NaN</td>\n",
       "    </tr>\n",
       "    <tr>\n",
       "      <th>min</th>\n",
       "      <td>NaN</td>\n",
       "      <td>0.0</td>\n",
       "    </tr>\n",
       "  </tbody>\n",
       "</table>\n",
       "</div>"
      ],
      "text/plain": [
       "       state_age  Water_cut\n",
       "max   3125.00000       99.9\n",
       "mean   392.49903        NaN\n",
       "min          NaN        0.0"
      ]
     },
     "execution_count": 30,
     "metadata": {},
     "output_type": "execute_result"
    }
   ],
   "source": [
    "# посмотрим агрегаты по признакам state_age и Water_cut\n",
    "df.aggregate({'state_age': ['max', 'mean'],\n",
    "              'Water_cut': ['max', 'min']})"
   ]
  },
  {
   "cell_type": "code",
   "execution_count": 31,
   "metadata": {
    "id": "d12ngXwtQnYp"
   },
   "outputs": [
    {
     "data": {
      "text/html": [
       "<div>\n",
       "<style scoped>\n",
       "    .dataframe tbody tr th:only-of-type {\n",
       "        vertical-align: middle;\n",
       "    }\n",
       "\n",
       "    .dataframe tbody tr th {\n",
       "        vertical-align: top;\n",
       "    }\n",
       "\n",
       "    .dataframe thead th {\n",
       "        text-align: right;\n",
       "    }\n",
       "</style>\n",
       "<table border=\"1\" class=\"dataframe\">\n",
       "  <thead>\n",
       "    <tr style=\"text-align: right;\">\n",
       "      <th></th>\n",
       "      <th>Dnytr</th>\n",
       "      <th>H_din</th>\n",
       "      <th>Q_OIS</th>\n",
       "      <th>NomMoschn</th>\n",
       "      <th>Hperf</th>\n",
       "      <th>NomNapor</th>\n",
       "      <th>Water_cut</th>\n",
       "      <th>NomPodacha</th>\n",
       "      <th>Dnkt</th>\n",
       "      <th>H_sp</th>\n",
       "      <th>...</th>\n",
       "      <th>State</th>\n",
       "      <th>IDN_type</th>\n",
       "      <th>NalichSep</th>\n",
       "      <th>Formation_lbl</th>\n",
       "      <th>state_age</th>\n",
       "      <th>Date</th>\n",
       "      <th>Start_date</th>\n",
       "      <th>Well_ID</th>\n",
       "      <th>id</th>\n",
       "      <th>VNR</th>\n",
       "    </tr>\n",
       "  </thead>\n",
       "  <tbody>\n",
       "    <tr>\n",
       "      <th>0</th>\n",
       "      <td>NaN</td>\n",
       "      <td>NaN</td>\n",
       "      <td>0.0</td>\n",
       "      <td>NaN</td>\n",
       "      <td>NaN</td>\n",
       "      <td>NaN</td>\n",
       "      <td>NaN</td>\n",
       "      <td>NaN</td>\n",
       "      <td>NaN</td>\n",
       "      <td>1487.0</td>\n",
       "      <td>...</td>\n",
       "      <td>0</td>\n",
       "      <td>1</td>\n",
       "      <td>NaN</td>\n",
       "      <td>2,5</td>\n",
       "      <td>30.0</td>\n",
       "      <td>1965-01-16</td>\n",
       "      <td>1965-06-21</td>\n",
       "      <td>4473</td>\n",
       "      <td>30413</td>\n",
       "      <td>False</td>\n",
       "    </tr>\n",
       "    <tr>\n",
       "      <th>1</th>\n",
       "      <td>NaN</td>\n",
       "      <td>NaN</td>\n",
       "      <td>NaN</td>\n",
       "      <td>NaN</td>\n",
       "      <td>NaN</td>\n",
       "      <td>NaN</td>\n",
       "      <td>NaN</td>\n",
       "      <td>NaN</td>\n",
       "      <td>NaN</td>\n",
       "      <td>1320.0</td>\n",
       "      <td>...</td>\n",
       "      <td>1</td>\n",
       "      <td>1</td>\n",
       "      <td>NaN</td>\n",
       "      <td>24,26</td>\n",
       "      <td>31.0</td>\n",
       "      <td>1965-01-16</td>\n",
       "      <td>1965-03-12</td>\n",
       "      <td>3905</td>\n",
       "      <td>26087</td>\n",
       "      <td>False</td>\n",
       "    </tr>\n",
       "    <tr>\n",
       "      <th>2</th>\n",
       "      <td>NaN</td>\n",
       "      <td>NaN</td>\n",
       "      <td>NaN</td>\n",
       "      <td>NaN</td>\n",
       "      <td>NaN</td>\n",
       "      <td>NaN</td>\n",
       "      <td>NaN</td>\n",
       "      <td>NaN</td>\n",
       "      <td>NaN</td>\n",
       "      <td>2100.0</td>\n",
       "      <td>...</td>\n",
       "      <td>1</td>\n",
       "      <td>1</td>\n",
       "      <td>NaN</td>\n",
       "      <td>38</td>\n",
       "      <td>131.0</td>\n",
       "      <td>1965-01-16</td>\n",
       "      <td>1965-06-29</td>\n",
       "      <td>8467</td>\n",
       "      <td>58863</td>\n",
       "      <td>False</td>\n",
       "    </tr>\n",
       "    <tr>\n",
       "      <th>3</th>\n",
       "      <td>NaN</td>\n",
       "      <td>NaN</td>\n",
       "      <td>0.0</td>\n",
       "      <td>NaN</td>\n",
       "      <td>NaN</td>\n",
       "      <td>NaN</td>\n",
       "      <td>NaN</td>\n",
       "      <td>NaN</td>\n",
       "      <td>NaN</td>\n",
       "      <td>NaN</td>\n",
       "      <td>...</td>\n",
       "      <td>0</td>\n",
       "      <td>1</td>\n",
       "      <td>NaN</td>\n",
       "      <td>45,46</td>\n",
       "      <td>28.0</td>\n",
       "      <td>1965-01-16</td>\n",
       "      <td>1965-05-05</td>\n",
       "      <td>8092</td>\n",
       "      <td>56313</td>\n",
       "      <td>False</td>\n",
       "    </tr>\n",
       "    <tr>\n",
       "      <th>4</th>\n",
       "      <td>NaN</td>\n",
       "      <td>NaN</td>\n",
       "      <td>NaN</td>\n",
       "      <td>NaN</td>\n",
       "      <td>NaN</td>\n",
       "      <td>NaN</td>\n",
       "      <td>NaN</td>\n",
       "      <td>NaN</td>\n",
       "      <td>NaN</td>\n",
       "      <td>2321.0</td>\n",
       "      <td>...</td>\n",
       "      <td>1</td>\n",
       "      <td>1</td>\n",
       "      <td>NaN</td>\n",
       "      <td>2,5</td>\n",
       "      <td>616.0</td>\n",
       "      <td>1965-01-16</td>\n",
       "      <td>1965-06-21</td>\n",
       "      <td>4136</td>\n",
       "      <td>27819</td>\n",
       "      <td>False</td>\n",
       "    </tr>\n",
       "    <tr>\n",
       "      <th>...</th>\n",
       "      <td>...</td>\n",
       "      <td>...</td>\n",
       "      <td>...</td>\n",
       "      <td>...</td>\n",
       "      <td>...</td>\n",
       "      <td>...</td>\n",
       "      <td>...</td>\n",
       "      <td>...</td>\n",
       "      <td>...</td>\n",
       "      <td>...</td>\n",
       "      <td>...</td>\n",
       "      <td>...</td>\n",
       "      <td>...</td>\n",
       "      <td>...</td>\n",
       "      <td>...</td>\n",
       "      <td>...</td>\n",
       "      <td>...</td>\n",
       "      <td>...</td>\n",
       "      <td>...</td>\n",
       "      <td>...</td>\n",
       "      <td>...</td>\n",
       "    </tr>\n",
       "    <tr>\n",
       "      <th>2676542</th>\n",
       "      <td>130.6</td>\n",
       "      <td>NaN</td>\n",
       "      <td>NaN</td>\n",
       "      <td>58.0</td>\n",
       "      <td>17.00</td>\n",
       "      <td>2378.0</td>\n",
       "      <td>NaN</td>\n",
       "      <td>60.0</td>\n",
       "      <td>73.0</td>\n",
       "      <td>2480.0</td>\n",
       "      <td>...</td>\n",
       "      <td>1</td>\n",
       "      <td>0</td>\n",
       "      <td>0.0</td>\n",
       "      <td>35</td>\n",
       "      <td>1.0</td>\n",
       "      <td>1979-07-08</td>\n",
       "      <td>1979-12-25</td>\n",
       "      <td>7984</td>\n",
       "      <td>55726</td>\n",
       "      <td>False</td>\n",
       "    </tr>\n",
       "    <tr>\n",
       "      <th>2676581</th>\n",
       "      <td>127.0</td>\n",
       "      <td>NaN</td>\n",
       "      <td>NaN</td>\n",
       "      <td>63.0</td>\n",
       "      <td>259.06</td>\n",
       "      <td>1733.0</td>\n",
       "      <td>NaN</td>\n",
       "      <td>125.0</td>\n",
       "      <td>73.0</td>\n",
       "      <td>1860.0</td>\n",
       "      <td>...</td>\n",
       "      <td>1</td>\n",
       "      <td>1</td>\n",
       "      <td>1.0</td>\n",
       "      <td>23</td>\n",
       "      <td>229.0</td>\n",
       "      <td>1979-07-08</td>\n",
       "      <td>1979-12-27</td>\n",
       "      <td>1734</td>\n",
       "      <td>10455</td>\n",
       "      <td>False</td>\n",
       "    </tr>\n",
       "    <tr>\n",
       "      <th>2677146</th>\n",
       "      <td>130.6</td>\n",
       "      <td>NaN</td>\n",
       "      <td>NaN</td>\n",
       "      <td>58.0</td>\n",
       "      <td>22.00</td>\n",
       "      <td>2214.0</td>\n",
       "      <td>NaN</td>\n",
       "      <td>83.0</td>\n",
       "      <td>73.0</td>\n",
       "      <td>2791.0</td>\n",
       "      <td>...</td>\n",
       "      <td>1</td>\n",
       "      <td>0</td>\n",
       "      <td>0.0</td>\n",
       "      <td>35</td>\n",
       "      <td>71.0</td>\n",
       "      <td>1979-07-09</td>\n",
       "      <td>1979-12-24</td>\n",
       "      <td>7465</td>\n",
       "      <td>52512</td>\n",
       "      <td>False</td>\n",
       "    </tr>\n",
       "    <tr>\n",
       "      <th>2677717</th>\n",
       "      <td>129.0</td>\n",
       "      <td>NaN</td>\n",
       "      <td>27.0</td>\n",
       "      <td>40.0</td>\n",
       "      <td>51.00</td>\n",
       "      <td>2190.0</td>\n",
       "      <td>8.0</td>\n",
       "      <td>50.0</td>\n",
       "      <td>73.0</td>\n",
       "      <td>2652.0</td>\n",
       "      <td>...</td>\n",
       "      <td>1</td>\n",
       "      <td>0</td>\n",
       "      <td>1.0</td>\n",
       "      <td>3,5</td>\n",
       "      <td>625.0</td>\n",
       "      <td>1979-07-09</td>\n",
       "      <td>1979-12-28</td>\n",
       "      <td>6200</td>\n",
       "      <td>42565</td>\n",
       "      <td>False</td>\n",
       "    </tr>\n",
       "    <tr>\n",
       "      <th>2677999</th>\n",
       "      <td>130.6</td>\n",
       "      <td>2048.0</td>\n",
       "      <td>41.0</td>\n",
       "      <td>58.0</td>\n",
       "      <td>17.00</td>\n",
       "      <td>2378.0</td>\n",
       "      <td>14.0</td>\n",
       "      <td>60.0</td>\n",
       "      <td>73.0</td>\n",
       "      <td>2480.0</td>\n",
       "      <td>...</td>\n",
       "      <td>1</td>\n",
       "      <td>0</td>\n",
       "      <td>0.0</td>\n",
       "      <td>35</td>\n",
       "      <td>1.0</td>\n",
       "      <td>1979-07-09</td>\n",
       "      <td>1979-12-25</td>\n",
       "      <td>7984</td>\n",
       "      <td>55726</td>\n",
       "      <td>False</td>\n",
       "    </tr>\n",
       "  </tbody>\n",
       "</table>\n",
       "<p>36440 rows × 34 columns</p>\n",
       "</div>"
      ],
      "text/plain": [
       "         Dnytr   H_din  Q_OIS  NomMoschn   Hperf  NomNapor  Water_cut  \\\n",
       "0          NaN     NaN    0.0        NaN     NaN       NaN        NaN   \n",
       "1          NaN     NaN    NaN        NaN     NaN       NaN        NaN   \n",
       "2          NaN     NaN    NaN        NaN     NaN       NaN        NaN   \n",
       "3          NaN     NaN    0.0        NaN     NaN       NaN        NaN   \n",
       "4          NaN     NaN    NaN        NaN     NaN       NaN        NaN   \n",
       "...        ...     ...    ...        ...     ...       ...        ...   \n",
       "2676542  130.6     NaN    NaN       58.0   17.00    2378.0        NaN   \n",
       "2676581  127.0     NaN    NaN       63.0  259.06    1733.0        NaN   \n",
       "2677146  130.6     NaN    NaN       58.0   22.00    2214.0        NaN   \n",
       "2677717  129.0     NaN   27.0       40.0   51.00    2190.0        8.0   \n",
       "2677999  130.6  2048.0   41.0       58.0   17.00    2378.0       14.0   \n",
       "\n",
       "         NomPodacha  Dnkt    H_sp  ...  State  IDN_type  NalichSep  \\\n",
       "0               NaN   NaN  1487.0  ...      0         1        NaN   \n",
       "1               NaN   NaN  1320.0  ...      1         1        NaN   \n",
       "2               NaN   NaN  2100.0  ...      1         1        NaN   \n",
       "3               NaN   NaN     NaN  ...      0         1        NaN   \n",
       "4               NaN   NaN  2321.0  ...      1         1        NaN   \n",
       "...             ...   ...     ...  ...    ...       ...        ...   \n",
       "2676542        60.0  73.0  2480.0  ...      1         0        0.0   \n",
       "2676581       125.0  73.0  1860.0  ...      1         1        1.0   \n",
       "2677146        83.0  73.0  2791.0  ...      1         0        0.0   \n",
       "2677717        50.0  73.0  2652.0  ...      1         0        1.0   \n",
       "2677999        60.0  73.0  2480.0  ...      1         0        0.0   \n",
       "\n",
       "         Formation_lbl  state_age        Date  Start_date  Well_ID     id  \\\n",
       "0                  2,5       30.0  1965-01-16  1965-06-21     4473  30413   \n",
       "1                24,26       31.0  1965-01-16  1965-03-12     3905  26087   \n",
       "2                   38      131.0  1965-01-16  1965-06-29     8467  58863   \n",
       "3                45,46       28.0  1965-01-16  1965-05-05     8092  56313   \n",
       "4                  2,5      616.0  1965-01-16  1965-06-21     4136  27819   \n",
       "...                ...        ...         ...         ...      ...    ...   \n",
       "2676542             35        1.0  1979-07-08  1979-12-25     7984  55726   \n",
       "2676581             23      229.0  1979-07-08  1979-12-27     1734  10455   \n",
       "2677146             35       71.0  1979-07-09  1979-12-24     7465  52512   \n",
       "2677717            3,5      625.0  1979-07-09  1979-12-28     6200  42565   \n",
       "2677999             35        1.0  1979-07-09  1979-12-25     7984  55726   \n",
       "\n",
       "           VNR  \n",
       "0        False  \n",
       "1        False  \n",
       "2        False  \n",
       "3        False  \n",
       "4        False  \n",
       "...        ...  \n",
       "2676542  False  \n",
       "2676581  False  \n",
       "2677146  False  \n",
       "2677717  False  \n",
       "2677999  False  \n",
       "\n",
       "[36440 rows x 34 columns]"
      ]
     },
     "execution_count": 31,
     "metadata": {},
     "output_type": "execute_result"
    }
   ],
   "source": [
    "# сгруппируем датафрейм по признаку Well_ID\n",
    "df_grouped = df.groupby('Well_ID')\n",
    "# выведем результат\n",
    "df_grouped.head()"
   ]
  },
  {
   "cell_type": "code",
   "execution_count": 32,
   "metadata": {
    "id": "No_eZiG-QnYp"
   },
   "outputs": [
    {
     "data": {
      "text/html": [
       "<div>\n",
       "<style scoped>\n",
       "    .dataframe tbody tr th:only-of-type {\n",
       "        vertical-align: middle;\n",
       "    }\n",
       "\n",
       "    .dataframe tbody tr th {\n",
       "        vertical-align: top;\n",
       "    }\n",
       "\n",
       "    .dataframe thead tr th {\n",
       "        text-align: left;\n",
       "    }\n",
       "\n",
       "    .dataframe thead tr:last-of-type th {\n",
       "        text-align: right;\n",
       "    }\n",
       "</style>\n",
       "<table border=\"1\" class=\"dataframe\">\n",
       "  <thead>\n",
       "    <tr>\n",
       "      <th></th>\n",
       "      <th colspan=\"2\" halign=\"left\">state_age</th>\n",
       "      <th colspan=\"2\" halign=\"left\">Water_cut</th>\n",
       "    </tr>\n",
       "    <tr>\n",
       "      <th></th>\n",
       "      <th>max</th>\n",
       "      <th>mean</th>\n",
       "      <th>max</th>\n",
       "      <th>min</th>\n",
       "    </tr>\n",
       "    <tr>\n",
       "      <th>Well_ID</th>\n",
       "      <th></th>\n",
       "      <th></th>\n",
       "      <th></th>\n",
       "      <th></th>\n",
       "    </tr>\n",
       "  </thead>\n",
       "  <tbody>\n",
       "    <tr>\n",
       "      <th>0</th>\n",
       "      <td>711.0</td>\n",
       "      <td>711.000000</td>\n",
       "      <td>88.0</td>\n",
       "      <td>83.0</td>\n",
       "    </tr>\n",
       "    <tr>\n",
       "      <th>1</th>\n",
       "      <td>1047.0</td>\n",
       "      <td>802.336957</td>\n",
       "      <td>82.0</td>\n",
       "      <td>66.0</td>\n",
       "    </tr>\n",
       "    <tr>\n",
       "      <th>2</th>\n",
       "      <td>722.0</td>\n",
       "      <td>722.000000</td>\n",
       "      <td>81.0</td>\n",
       "      <td>78.0</td>\n",
       "    </tr>\n",
       "    <tr>\n",
       "      <th>3</th>\n",
       "      <td>698.0</td>\n",
       "      <td>635.500000</td>\n",
       "      <td>93.0</td>\n",
       "      <td>72.0</td>\n",
       "    </tr>\n",
       "    <tr>\n",
       "      <th>4</th>\n",
       "      <td>1168.0</td>\n",
       "      <td>732.134791</td>\n",
       "      <td>92.0</td>\n",
       "      <td>80.0</td>\n",
       "    </tr>\n",
       "    <tr>\n",
       "      <th>...</th>\n",
       "      <td>...</td>\n",
       "      <td>...</td>\n",
       "      <td>...</td>\n",
       "      <td>...</td>\n",
       "    </tr>\n",
       "    <tr>\n",
       "      <th>8689</th>\n",
       "      <td>285.0</td>\n",
       "      <td>234.416894</td>\n",
       "      <td>98.0</td>\n",
       "      <td>29.0</td>\n",
       "    </tr>\n",
       "    <tr>\n",
       "      <th>8690</th>\n",
       "      <td>200.0</td>\n",
       "      <td>111.486339</td>\n",
       "      <td>94.0</td>\n",
       "      <td>19.0</td>\n",
       "    </tr>\n",
       "    <tr>\n",
       "      <th>8691</th>\n",
       "      <td>371.0</td>\n",
       "      <td>228.047273</td>\n",
       "      <td>92.0</td>\n",
       "      <td>66.0</td>\n",
       "    </tr>\n",
       "    <tr>\n",
       "      <th>8692</th>\n",
       "      <td>76.0</td>\n",
       "      <td>76.000000</td>\n",
       "      <td>70.0</td>\n",
       "      <td>60.0</td>\n",
       "    </tr>\n",
       "    <tr>\n",
       "      <th>8693</th>\n",
       "      <td>177.0</td>\n",
       "      <td>177.000000</td>\n",
       "      <td>76.0</td>\n",
       "      <td>70.0</td>\n",
       "    </tr>\n",
       "  </tbody>\n",
       "</table>\n",
       "<p>7288 rows × 4 columns</p>\n",
       "</div>"
      ],
      "text/plain": [
       "        state_age             Water_cut      \n",
       "              max        mean       max   min\n",
       "Well_ID                                      \n",
       "0           711.0  711.000000      88.0  83.0\n",
       "1          1047.0  802.336957      82.0  66.0\n",
       "2           722.0  722.000000      81.0  78.0\n",
       "3           698.0  635.500000      93.0  72.0\n",
       "4          1168.0  732.134791      92.0  80.0\n",
       "...           ...         ...       ...   ...\n",
       "8689        285.0  234.416894      98.0  29.0\n",
       "8690        200.0  111.486339      94.0  19.0\n",
       "8691        371.0  228.047273      92.0  66.0\n",
       "8692         76.0   76.000000      70.0  60.0\n",
       "8693        177.0  177.000000      76.0  70.0\n",
       "\n",
       "[7288 rows x 4 columns]"
      ]
     },
     "execution_count": 32,
     "metadata": {},
     "output_type": "execute_result"
    }
   ],
   "source": [
    "# теперь получим агрегаты из первого пункта по сгруппированному датафрему\n",
    "df_grouped.aggregate({'state_age': ['max', 'mean'],\n",
    "                      'Water_cut': ['max', 'min']})"
   ]
  },
  {
   "cell_type": "code",
   "execution_count": 33,
   "metadata": {
    "id": "FOIeoz-KQnYq"
   },
   "outputs": [
    {
     "data": {
      "text/html": [
       "<div>\n",
       "<style scoped>\n",
       "    .dataframe tbody tr th:only-of-type {\n",
       "        vertical-align: middle;\n",
       "    }\n",
       "\n",
       "    .dataframe tbody tr th {\n",
       "        vertical-align: top;\n",
       "    }\n",
       "\n",
       "    .dataframe thead th {\n",
       "        text-align: right;\n",
       "    }\n",
       "</style>\n",
       "<table border=\"1\" class=\"dataframe\">\n",
       "  <thead>\n",
       "    <tr style=\"text-align: right;\">\n",
       "      <th></th>\n",
       "      <th>state_age</th>\n",
       "    </tr>\n",
       "    <tr>\n",
       "      <th>Well_ID</th>\n",
       "      <th></th>\n",
       "    </tr>\n",
       "  </thead>\n",
       "  <tbody>\n",
       "    <tr>\n",
       "      <th>0</th>\n",
       "      <td>True</td>\n",
       "    </tr>\n",
       "    <tr>\n",
       "      <th>1</th>\n",
       "      <td>False</td>\n",
       "    </tr>\n",
       "    <tr>\n",
       "      <th>2</th>\n",
       "      <td>True</td>\n",
       "    </tr>\n",
       "    <tr>\n",
       "      <th>3</th>\n",
       "      <td>True</td>\n",
       "    </tr>\n",
       "    <tr>\n",
       "      <th>4</th>\n",
       "      <td>False</td>\n",
       "    </tr>\n",
       "    <tr>\n",
       "      <th>...</th>\n",
       "      <td>...</td>\n",
       "    </tr>\n",
       "    <tr>\n",
       "      <th>8689</th>\n",
       "      <td>False</td>\n",
       "    </tr>\n",
       "    <tr>\n",
       "      <th>8690</th>\n",
       "      <td>False</td>\n",
       "    </tr>\n",
       "    <tr>\n",
       "      <th>8691</th>\n",
       "      <td>False</td>\n",
       "    </tr>\n",
       "    <tr>\n",
       "      <th>8692</th>\n",
       "      <td>True</td>\n",
       "    </tr>\n",
       "    <tr>\n",
       "      <th>8693</th>\n",
       "      <td>True</td>\n",
       "    </tr>\n",
       "  </tbody>\n",
       "</table>\n",
       "<p>7288 rows × 1 columns</p>\n",
       "</div>"
      ],
      "text/plain": [
       "         state_age\n",
       "Well_ID           \n",
       "0             True\n",
       "1            False\n",
       "2             True\n",
       "3             True\n",
       "4            False\n",
       "...            ...\n",
       "8689         False\n",
       "8690         False\n",
       "8691         False\n",
       "8692          True\n",
       "8693          True\n",
       "\n",
       "[7288 rows x 1 columns]"
      ]
     },
     "execution_count": 33,
     "metadata": {},
     "output_type": "execute_result"
    }
   ],
   "source": [
    "# сравним округлённые значения средних и медианы по сгруппированному датафрейму\n",
    "df_grouped.aggregate({'state_age':lambda x: round(np.median(x))==round(np.mean(x))})"
   ]
  },
  {
   "cell_type": "code",
   "execution_count": 34,
   "metadata": {
    "id": "htXHbr06QnYq"
   },
   "outputs": [
    {
     "data": {
      "text/plain": [
       "Well_ID\n",
       "0        5.0\n",
       "1       16.0\n",
       "2        3.0\n",
       "3       21.0\n",
       "4       12.0\n",
       "        ... \n",
       "8689    69.0\n",
       "8690    75.0\n",
       "8691    26.0\n",
       "8692    10.0\n",
       "8693     6.0\n",
       "Name: Water_cut, Length: 7288, dtype: float64"
      ]
     },
     "execution_count": 34,
     "metadata": {},
     "output_type": "execute_result"
    }
   ],
   "source": [
    "# посмотрим, какова разница между максимумом и минимумом по признаку Water_cut\n",
    "df_grouped['Water_cut'].apply(lambda x: x.max() - x.min())"
   ]
  },
  {
   "cell_type": "code",
   "execution_count": 35,
   "metadata": {
    "id": "Cc_fiYb4QnYr"
   },
   "outputs": [
    {
     "name": "stdout",
     "output_type": "stream",
     "text": [
      "У 3843 объектов медиана и среднее по признаку 'state_age' равны.\n"
     ]
    }
   ],
   "source": [
    "# Вопрос 9. У скольки объектов при группировке по Well_ID среднее и медиана по признаку state_age не равны?\n",
    "\n",
    "\n",
    "\n",
    "k = (len(df_grouped[\"state_age\"]) # Общее количество\n",
    "     -\n",
    "    int(df_grouped.aggregate({'state_age':lambda x: round(np.median(x))==round(np.mean(x))}).sum())) # Медиана и среднее равны\n",
    "    \n",
    "print(f\"У {k} объектов медиана и среднее по признаку 'state_age' равны.\")"
   ]
  },
  {
   "cell_type": "markdown",
   "metadata": {
    "id": "5TdsCw7wQnYr"
   },
   "source": [
    "### Сводные таблицы и корреляция\n",
    "#### Сводные таблицы.\n",
    "В pandas для построения сводных таблиц реализован метод pivot_table() - он принимает признаки и функции, которые нужно применить к этим признака. Кроме прочего, ему надо передать колонку, которая будет являться идентификатором в результирующей сводной таблице.\n",
    "\n",
    "#### Корреляция\n",
    "Корреляция - мера линейной (монотонной) зависимости. В pandas расчёт коэффициента корреляции реализован в методе corr(). По умолчанию рассчитывается коэффициент корреляции Пирсона, он может принимать значения от -1 до 1, где абсолютное значение отвечает за силу взаимосвязи, а знак - за её направление."
   ]
  },
  {
   "cell_type": "code",
   "execution_count": 36,
   "metadata": {
    "id": "ODdq_vxZQnYs"
   },
   "outputs": [
    {
     "data": {
      "text/html": [
       "<div>\n",
       "<style scoped>\n",
       "    .dataframe tbody tr th:only-of-type {\n",
       "        vertical-align: middle;\n",
       "    }\n",
       "\n",
       "    .dataframe tbody tr th {\n",
       "        vertical-align: top;\n",
       "    }\n",
       "\n",
       "    .dataframe thead tr th {\n",
       "        text-align: left;\n",
       "    }\n",
       "\n",
       "    .dataframe thead tr:last-of-type th {\n",
       "        text-align: right;\n",
       "    }\n",
       "</style>\n",
       "<table border=\"1\" class=\"dataframe\">\n",
       "  <thead>\n",
       "    <tr>\n",
       "      <th></th>\n",
       "      <th>mean</th>\n",
       "      <th>max</th>\n",
       "      <th>min</th>\n",
       "    </tr>\n",
       "    <tr>\n",
       "      <th></th>\n",
       "      <th>Water_cut</th>\n",
       "      <th>Water_cut</th>\n",
       "      <th>Water_cut</th>\n",
       "    </tr>\n",
       "    <tr>\n",
       "      <th>Well_ID</th>\n",
       "      <th></th>\n",
       "      <th></th>\n",
       "      <th></th>\n",
       "    </tr>\n",
       "  </thead>\n",
       "  <tbody>\n",
       "    <tr>\n",
       "      <th>0</th>\n",
       "      <td>85.625000</td>\n",
       "      <td>88.0</td>\n",
       "      <td>83.0</td>\n",
       "    </tr>\n",
       "    <tr>\n",
       "      <th>1</th>\n",
       "      <td>78.118577</td>\n",
       "      <td>82.0</td>\n",
       "      <td>66.0</td>\n",
       "    </tr>\n",
       "    <tr>\n",
       "      <th>2</th>\n",
       "      <td>80.108571</td>\n",
       "      <td>81.0</td>\n",
       "      <td>78.0</td>\n",
       "    </tr>\n",
       "    <tr>\n",
       "      <th>3</th>\n",
       "      <td>78.406542</td>\n",
       "      <td>93.0</td>\n",
       "      <td>72.0</td>\n",
       "    </tr>\n",
       "    <tr>\n",
       "      <th>4</th>\n",
       "      <td>84.833333</td>\n",
       "      <td>92.0</td>\n",
       "      <td>80.0</td>\n",
       "    </tr>\n",
       "    <tr>\n",
       "      <th>...</th>\n",
       "      <td>...</td>\n",
       "      <td>...</td>\n",
       "      <td>...</td>\n",
       "    </tr>\n",
       "    <tr>\n",
       "      <th>8689</th>\n",
       "      <td>65.560000</td>\n",
       "      <td>98.0</td>\n",
       "      <td>29.0</td>\n",
       "    </tr>\n",
       "    <tr>\n",
       "      <th>8690</th>\n",
       "      <td>29.545455</td>\n",
       "      <td>94.0</td>\n",
       "      <td>19.0</td>\n",
       "    </tr>\n",
       "    <tr>\n",
       "      <th>8691</th>\n",
       "      <td>83.816176</td>\n",
       "      <td>92.0</td>\n",
       "      <td>66.0</td>\n",
       "    </tr>\n",
       "    <tr>\n",
       "      <th>8692</th>\n",
       "      <td>66.317073</td>\n",
       "      <td>70.0</td>\n",
       "      <td>60.0</td>\n",
       "    </tr>\n",
       "    <tr>\n",
       "      <th>8693</th>\n",
       "      <td>75.371429</td>\n",
       "      <td>76.0</td>\n",
       "      <td>70.0</td>\n",
       "    </tr>\n",
       "  </tbody>\n",
       "</table>\n",
       "<p>7288 rows × 3 columns</p>\n",
       "</div>"
      ],
      "text/plain": [
       "              mean       max       min\n",
       "         Water_cut Water_cut Water_cut\n",
       "Well_ID                               \n",
       "0        85.625000      88.0      83.0\n",
       "1        78.118577      82.0      66.0\n",
       "2        80.108571      81.0      78.0\n",
       "3        78.406542      93.0      72.0\n",
       "4        84.833333      92.0      80.0\n",
       "...            ...       ...       ...\n",
       "8689     65.560000      98.0      29.0\n",
       "8690     29.545455      94.0      19.0\n",
       "8691     83.816176      92.0      66.0\n",
       "8692     66.317073      70.0      60.0\n",
       "8693     75.371429      76.0      70.0\n",
       "\n",
       "[7288 rows x 3 columns]"
      ]
     },
     "execution_count": 36,
     "metadata": {},
     "output_type": "execute_result"
    }
   ],
   "source": [
    "df.pivot_table(values='Water_cut',\n",
    "               index='Well_ID',\n",
    "               aggfunc=['mean','max','min'])"
   ]
  },
  {
   "cell_type": "code",
   "execution_count": 37,
   "metadata": {
    "id": "9QxeA9RIQnYs"
   },
   "outputs": [
    {
     "data": {
      "text/html": [
       "<div>\n",
       "<style scoped>\n",
       "    .dataframe tbody tr th:only-of-type {\n",
       "        vertical-align: middle;\n",
       "    }\n",
       "\n",
       "    .dataframe tbody tr th {\n",
       "        vertical-align: top;\n",
       "    }\n",
       "\n",
       "    .dataframe thead tr th {\n",
       "        text-align: left;\n",
       "    }\n",
       "\n",
       "    .dataframe thead tr:last-of-type th {\n",
       "        text-align: right;\n",
       "    }\n",
       "</style>\n",
       "<table border=\"1\" class=\"dataframe\">\n",
       "  <thead>\n",
       "    <tr>\n",
       "      <th></th>\n",
       "      <th colspan=\"2\" halign=\"left\">std</th>\n",
       "      <th colspan=\"2\" halign=\"left\">mean</th>\n",
       "    </tr>\n",
       "    <tr>\n",
       "      <th></th>\n",
       "      <th>Dnytr</th>\n",
       "      <th>Q_OIS</th>\n",
       "      <th>Dnytr</th>\n",
       "      <th>Q_OIS</th>\n",
       "    </tr>\n",
       "    <tr>\n",
       "      <th>VNR</th>\n",
       "      <th></th>\n",
       "      <th></th>\n",
       "      <th></th>\n",
       "      <th></th>\n",
       "    </tr>\n",
       "  </thead>\n",
       "  <tbody>\n",
       "    <tr>\n",
       "      <th>False</th>\n",
       "      <td>8.370178</td>\n",
       "      <td>138.416651</td>\n",
       "      <td>131.288967</td>\n",
       "      <td>115.336770</td>\n",
       "    </tr>\n",
       "    <tr>\n",
       "      <th>True</th>\n",
       "      <td>8.379097</td>\n",
       "      <td>174.948769</td>\n",
       "      <td>131.316803</td>\n",
       "      <td>195.350718</td>\n",
       "    </tr>\n",
       "  </tbody>\n",
       "</table>\n",
       "</div>"
      ],
      "text/plain": [
       "            std                    mean            \n",
       "          Dnytr       Q_OIS       Dnytr       Q_OIS\n",
       "VNR                                                \n",
       "False  8.370178  138.416651  131.288967  115.336770\n",
       "True   8.379097  174.948769  131.316803  195.350718"
      ]
     },
     "execution_count": 37,
     "metadata": {},
     "output_type": "execute_result"
    }
   ],
   "source": [
    "df.pivot_table(values=['Dnytr','Q_OIS'],\n",
    "               index='VNR',\n",
    "               aggfunc=['std','mean'])"
   ]
  },
  {
   "cell_type": "code",
   "execution_count": 38,
   "metadata": {
    "id": "slVVakTvQnYt"
   },
   "outputs": [
    {
     "data": {
      "text/html": [
       "<div>\n",
       "<style scoped>\n",
       "    .dataframe tbody tr th:only-of-type {\n",
       "        vertical-align: middle;\n",
       "    }\n",
       "\n",
       "    .dataframe tbody tr th {\n",
       "        vertical-align: top;\n",
       "    }\n",
       "\n",
       "    .dataframe thead tr th {\n",
       "        text-align: left;\n",
       "    }\n",
       "</style>\n",
       "<table border=\"1\" class=\"dataframe\">\n",
       "  <thead>\n",
       "    <tr>\n",
       "      <th></th>\n",
       "      <th></th>\n",
       "      <th colspan=\"2\" halign=\"left\">Q_OIS</th>\n",
       "      <th colspan=\"2\" halign=\"left\">Water_cut</th>\n",
       "    </tr>\n",
       "    <tr>\n",
       "      <th></th>\n",
       "      <th></th>\n",
       "      <th>max</th>\n",
       "      <th>mean</th>\n",
       "      <th>max</th>\n",
       "      <th>mean</th>\n",
       "    </tr>\n",
       "  </thead>\n",
       "  <tbody>\n",
       "    <tr>\n",
       "      <th rowspan=\"2\" valign=\"top\">Q_OIS</th>\n",
       "      <th>max</th>\n",
       "      <td>1.000000</td>\n",
       "      <td>0.893742</td>\n",
       "      <td>0.530348</td>\n",
       "      <td>0.580629</td>\n",
       "    </tr>\n",
       "    <tr>\n",
       "      <th>mean</th>\n",
       "      <td>0.893742</td>\n",
       "      <td>1.000000</td>\n",
       "      <td>0.484103</td>\n",
       "      <td>0.552280</td>\n",
       "    </tr>\n",
       "    <tr>\n",
       "      <th rowspan=\"2\" valign=\"top\">Water_cut</th>\n",
       "      <th>max</th>\n",
       "      <td>0.530348</td>\n",
       "      <td>0.484103</td>\n",
       "      <td>1.000000</td>\n",
       "      <td>0.924370</td>\n",
       "    </tr>\n",
       "    <tr>\n",
       "      <th>mean</th>\n",
       "      <td>0.580629</td>\n",
       "      <td>0.552280</td>\n",
       "      <td>0.924370</td>\n",
       "      <td>1.000000</td>\n",
       "    </tr>\n",
       "  </tbody>\n",
       "</table>\n",
       "</div>"
      ],
      "text/plain": [
       "                   Q_OIS           Water_cut          \n",
       "                     max      mean       max      mean\n",
       "Q_OIS     max   1.000000  0.893742  0.530348  0.580629\n",
       "          mean  0.893742  1.000000  0.484103  0.552280\n",
       "Water_cut max   0.530348  0.484103  1.000000  0.924370\n",
       "          mean  0.580629  0.552280  0.924370  1.000000"
      ]
     },
     "execution_count": 38,
     "metadata": {},
     "output_type": "execute_result"
    }
   ],
   "source": [
    "agg_df = df_grouped.aggregate({'Q_OIS': ['max', 'mean'],\n",
    "                      'Water_cut': ['max', 'mean']})\n",
    "agg_df.corr()"
   ]
  },
  {
   "cell_type": "code",
   "execution_count": 39,
   "metadata": {
    "id": "8jJEDKh7QnYt"
   },
   "outputs": [
    {
     "data": {
      "text/html": [
       "<div>\n",
       "<style scoped>\n",
       "    .dataframe tbody tr th:only-of-type {\n",
       "        vertical-align: middle;\n",
       "    }\n",
       "\n",
       "    .dataframe tbody tr th {\n",
       "        vertical-align: top;\n",
       "    }\n",
       "\n",
       "    .dataframe thead tr th {\n",
       "        text-align: left;\n",
       "    }\n",
       "</style>\n",
       "<table border=\"1\" class=\"dataframe\">\n",
       "  <thead>\n",
       "    <tr>\n",
       "      <th></th>\n",
       "      <th></th>\n",
       "      <th colspan=\"3\" halign=\"left\">Q_OIS</th>\n",
       "      <th colspan=\"3\" halign=\"left\">Water_cut</th>\n",
       "      <th colspan=\"3\" halign=\"left\">NomMoschn</th>\n",
       "      <th colspan=\"3\" halign=\"left\">P_plst</th>\n",
       "    </tr>\n",
       "    <tr>\n",
       "      <th></th>\n",
       "      <th></th>\n",
       "      <th>max</th>\n",
       "      <th>min</th>\n",
       "      <th>median</th>\n",
       "      <th>max</th>\n",
       "      <th>min</th>\n",
       "      <th>median</th>\n",
       "      <th>max</th>\n",
       "      <th>min</th>\n",
       "      <th>median</th>\n",
       "      <th>max</th>\n",
       "      <th>min</th>\n",
       "      <th>median</th>\n",
       "    </tr>\n",
       "  </thead>\n",
       "  <tbody>\n",
       "    <tr>\n",
       "      <th rowspan=\"3\" valign=\"top\">Q_OIS</th>\n",
       "      <th>max</th>\n",
       "      <td>1.000000</td>\n",
       "      <td>-0.002539</td>\n",
       "      <td>0.833628</td>\n",
       "      <td>0.530348</td>\n",
       "      <td>0.505428</td>\n",
       "      <td>0.576248</td>\n",
       "      <td>0.806068</td>\n",
       "      <td>0.637487</td>\n",
       "      <td>0.774482</td>\n",
       "      <td>-0.343996</td>\n",
       "      <td>-0.407702</td>\n",
       "      <td>-0.395360</td>\n",
       "    </tr>\n",
       "    <tr>\n",
       "      <th>min</th>\n",
       "      <td>-0.002539</td>\n",
       "      <td>1.000000</td>\n",
       "      <td>0.000110</td>\n",
       "      <td>0.004047</td>\n",
       "      <td>0.012187</td>\n",
       "      <td>0.007532</td>\n",
       "      <td>-0.005863</td>\n",
       "      <td>0.002769</td>\n",
       "      <td>-0.001916</td>\n",
       "      <td>-0.005528</td>\n",
       "      <td>-0.004133</td>\n",
       "      <td>-0.008255</td>\n",
       "    </tr>\n",
       "    <tr>\n",
       "      <th>median</th>\n",
       "      <td>0.833628</td>\n",
       "      <td>0.000110</td>\n",
       "      <td>1.000000</td>\n",
       "      <td>0.463082</td>\n",
       "      <td>0.493683</td>\n",
       "      <td>0.520689</td>\n",
       "      <td>0.752118</td>\n",
       "      <td>0.711181</td>\n",
       "      <td>0.783418</td>\n",
       "      <td>-0.352332</td>\n",
       "      <td>-0.361787</td>\n",
       "      <td>-0.371614</td>\n",
       "    </tr>\n",
       "    <tr>\n",
       "      <th rowspan=\"3\" valign=\"top\">Water_cut</th>\n",
       "      <th>max</th>\n",
       "      <td>0.530348</td>\n",
       "      <td>0.004047</td>\n",
       "      <td>0.463082</td>\n",
       "      <td>1.000000</td>\n",
       "      <td>0.741859</td>\n",
       "      <td>0.908865</td>\n",
       "      <td>0.409845</td>\n",
       "      <td>0.307717</td>\n",
       "      <td>0.384124</td>\n",
       "      <td>-0.365074</td>\n",
       "      <td>-0.372213</td>\n",
       "      <td>-0.374329</td>\n",
       "    </tr>\n",
       "    <tr>\n",
       "      <th>min</th>\n",
       "      <td>0.505428</td>\n",
       "      <td>0.012187</td>\n",
       "      <td>0.493683</td>\n",
       "      <td>0.741859</td>\n",
       "      <td>1.000000</td>\n",
       "      <td>0.864148</td>\n",
       "      <td>0.355815</td>\n",
       "      <td>0.398733</td>\n",
       "      <td>0.407151</td>\n",
       "      <td>-0.492744</td>\n",
       "      <td>-0.364785</td>\n",
       "      <td>-0.439168</td>\n",
       "    </tr>\n",
       "    <tr>\n",
       "      <th>median</th>\n",
       "      <td>0.576248</td>\n",
       "      <td>0.007532</td>\n",
       "      <td>0.520689</td>\n",
       "      <td>0.908865</td>\n",
       "      <td>0.864148</td>\n",
       "      <td>1.000000</td>\n",
       "      <td>0.435416</td>\n",
       "      <td>0.383364</td>\n",
       "      <td>0.442378</td>\n",
       "      <td>-0.438068</td>\n",
       "      <td>-0.393627</td>\n",
       "      <td>-0.424646</td>\n",
       "    </tr>\n",
       "    <tr>\n",
       "      <th rowspan=\"3\" valign=\"top\">NomMoschn</th>\n",
       "      <th>max</th>\n",
       "      <td>0.806068</td>\n",
       "      <td>-0.005863</td>\n",
       "      <td>0.752118</td>\n",
       "      <td>0.409845</td>\n",
       "      <td>0.355815</td>\n",
       "      <td>0.435416</td>\n",
       "      <td>1.000000</td>\n",
       "      <td>0.725220</td>\n",
       "      <td>0.891022</td>\n",
       "      <td>-0.215784</td>\n",
       "      <td>-0.290738</td>\n",
       "      <td>-0.270159</td>\n",
       "    </tr>\n",
       "    <tr>\n",
       "      <th>min</th>\n",
       "      <td>0.637487</td>\n",
       "      <td>0.002769</td>\n",
       "      <td>0.711181</td>\n",
       "      <td>0.307717</td>\n",
       "      <td>0.398733</td>\n",
       "      <td>0.383364</td>\n",
       "      <td>0.725220</td>\n",
       "      <td>1.000000</td>\n",
       "      <td>0.854151</td>\n",
       "      <td>-0.237583</td>\n",
       "      <td>-0.186578</td>\n",
       "      <td>-0.214752</td>\n",
       "    </tr>\n",
       "    <tr>\n",
       "      <th>median</th>\n",
       "      <td>0.774482</td>\n",
       "      <td>-0.001916</td>\n",
       "      <td>0.783418</td>\n",
       "      <td>0.384124</td>\n",
       "      <td>0.407151</td>\n",
       "      <td>0.442378</td>\n",
       "      <td>0.891022</td>\n",
       "      <td>0.854151</td>\n",
       "      <td>1.000000</td>\n",
       "      <td>-0.246304</td>\n",
       "      <td>-0.270486</td>\n",
       "      <td>-0.272372</td>\n",
       "    </tr>\n",
       "    <tr>\n",
       "      <th rowspan=\"3\" valign=\"top\">P_plst</th>\n",
       "      <th>max</th>\n",
       "      <td>-0.343996</td>\n",
       "      <td>-0.005528</td>\n",
       "      <td>-0.352332</td>\n",
       "      <td>-0.365074</td>\n",
       "      <td>-0.492744</td>\n",
       "      <td>-0.438068</td>\n",
       "      <td>-0.215784</td>\n",
       "      <td>-0.237583</td>\n",
       "      <td>-0.246304</td>\n",
       "      <td>1.000000</td>\n",
       "      <td>0.776625</td>\n",
       "      <td>0.885027</td>\n",
       "    </tr>\n",
       "    <tr>\n",
       "      <th>min</th>\n",
       "      <td>-0.407702</td>\n",
       "      <td>-0.004133</td>\n",
       "      <td>-0.361787</td>\n",
       "      <td>-0.372213</td>\n",
       "      <td>-0.364785</td>\n",
       "      <td>-0.393627</td>\n",
       "      <td>-0.290738</td>\n",
       "      <td>-0.186578</td>\n",
       "      <td>-0.270486</td>\n",
       "      <td>0.776625</td>\n",
       "      <td>1.000000</td>\n",
       "      <td>0.904148</td>\n",
       "    </tr>\n",
       "    <tr>\n",
       "      <th>median</th>\n",
       "      <td>-0.395360</td>\n",
       "      <td>-0.008255</td>\n",
       "      <td>-0.371614</td>\n",
       "      <td>-0.374329</td>\n",
       "      <td>-0.439168</td>\n",
       "      <td>-0.424646</td>\n",
       "      <td>-0.270159</td>\n",
       "      <td>-0.214752</td>\n",
       "      <td>-0.272372</td>\n",
       "      <td>0.885027</td>\n",
       "      <td>0.904148</td>\n",
       "      <td>1.000000</td>\n",
       "    </tr>\n",
       "  </tbody>\n",
       "</table>\n",
       "</div>"
      ],
      "text/plain": [
       "                     Q_OIS                     Water_cut                      \\\n",
       "                       max       min    median       max       min    median   \n",
       "Q_OIS     max     1.000000 -0.002539  0.833628  0.530348  0.505428  0.576248   \n",
       "          min    -0.002539  1.000000  0.000110  0.004047  0.012187  0.007532   \n",
       "          median  0.833628  0.000110  1.000000  0.463082  0.493683  0.520689   \n",
       "Water_cut max     0.530348  0.004047  0.463082  1.000000  0.741859  0.908865   \n",
       "          min     0.505428  0.012187  0.493683  0.741859  1.000000  0.864148   \n",
       "          median  0.576248  0.007532  0.520689  0.908865  0.864148  1.000000   \n",
       "NomMoschn max     0.806068 -0.005863  0.752118  0.409845  0.355815  0.435416   \n",
       "          min     0.637487  0.002769  0.711181  0.307717  0.398733  0.383364   \n",
       "          median  0.774482 -0.001916  0.783418  0.384124  0.407151  0.442378   \n",
       "P_plst    max    -0.343996 -0.005528 -0.352332 -0.365074 -0.492744 -0.438068   \n",
       "          min    -0.407702 -0.004133 -0.361787 -0.372213 -0.364785 -0.393627   \n",
       "          median -0.395360 -0.008255 -0.371614 -0.374329 -0.439168 -0.424646   \n",
       "\n",
       "                 NomMoschn                        P_plst                      \n",
       "                       max       min    median       max       min    median  \n",
       "Q_OIS     max     0.806068  0.637487  0.774482 -0.343996 -0.407702 -0.395360  \n",
       "          min    -0.005863  0.002769 -0.001916 -0.005528 -0.004133 -0.008255  \n",
       "          median  0.752118  0.711181  0.783418 -0.352332 -0.361787 -0.371614  \n",
       "Water_cut max     0.409845  0.307717  0.384124 -0.365074 -0.372213 -0.374329  \n",
       "          min     0.355815  0.398733  0.407151 -0.492744 -0.364785 -0.439168  \n",
       "          median  0.435416  0.383364  0.442378 -0.438068 -0.393627 -0.424646  \n",
       "NomMoschn max     1.000000  0.725220  0.891022 -0.215784 -0.290738 -0.270159  \n",
       "          min     0.725220  1.000000  0.854151 -0.237583 -0.186578 -0.214752  \n",
       "          median  0.891022  0.854151  1.000000 -0.246304 -0.270486 -0.272372  \n",
       "P_plst    max    -0.215784 -0.237583 -0.246304  1.000000  0.776625  0.885027  \n",
       "          min    -0.290738 -0.186578 -0.270486  0.776625  1.000000  0.904148  \n",
       "          median -0.270159 -0.214752 -0.272372  0.885027  0.904148  1.000000  "
      ]
     },
     "execution_count": 39,
     "metadata": {},
     "output_type": "execute_result"
    }
   ],
   "source": [
    "# Вопрос 10. С помощью функции aggregate найдите максимум, минимум, медиану по признакам\n",
    "#            Q_OIS, Water_cut, NomMoschn, P_plst для каждой скважины (по датафрейму, сгруппированному по Well_ID).\n",
    "#            Посчитайте коэффициент корреляции Пирсона для этих агрегатов.\n",
    "#            Есть ли среди этих агрегатов такие, коэффициент корреляции у которых больше 0.8? \n",
    "\n",
    "# код тут\n",
    "\n",
    "train_agg_df = df_grouped.aggregate({\n",
    "    \"Q_OIS\": ['max','min','median'],\n",
    "    \"Water_cut\": ['max','min','median'],\n",
    "    \"NomMoschn\": ['max','min','median'],\n",
    "    \"P_plst\": ['max','min','median']\n",
    "    \n",
    "})\n",
    "\n",
    "table = train_agg_df.corr(method='pearson')\n",
    "table\n",
    "\n"
   ]
  },
  {
   "cell_type": "code",
   "execution_count": 40,
   "metadata": {},
   "outputs": [
    {
     "data": {
      "text/plain": [
       "(12, 12)"
      ]
     },
     "execution_count": 40,
     "metadata": {},
     "output_type": "execute_result"
    }
   ],
   "source": [
    "table.shape # таблица 12x12"
   ]
  },
  {
   "cell_type": "code",
   "execution_count": 41,
   "metadata": {},
   "outputs": [],
   "source": [
    "table_list = list(table)"
   ]
  },
  {
   "cell_type": "code",
   "execution_count": 42,
   "metadata": {},
   "outputs": [
    {
     "name": "stdout",
     "output_type": "stream",
     "text": [
      "Наличие среди агрегатов такого агрегата, у которого коэффициент корреляции больше 0.8 - True\n"
     ]
    }
   ],
   "source": [
    "more_08 = False\n",
    "\n",
    "for i in range(len(table)):\n",
    "    for j in range(len(table)):\n",
    "        if table.iloc[i][j] < 1 and table.iloc[i][j] > 0.8:\n",
    "            more_08 = True\n",
    "            break\n",
    "        \n",
    "        #            Есть ли среди этих агрегатов такие, коэффициент корреляции у которых больше 0.8? \n",
    "\n",
    "print(f'Наличие среди агрегатов такого агрегата, у которого коэффициент корреляции больше 0.8 - {more_08}')"
   ]
  },
  {
   "cell_type": "markdown",
   "metadata": {
    "id": "6TGn6WIoQnYt"
   },
   "source": [
    "### Встроенная визуализация\n",
    "\n",
    "Для визуализации датафрейм имеет метод **plot()**. Главные параметры, которые он принимает, это названия признаков и вид графика, который нужно по этим признакам отрисовать."
   ]
  },
  {
   "cell_type": "code",
   "execution_count": 43,
   "metadata": {
    "id": "DJogOZG5QnYu"
   },
   "outputs": [
    {
     "data": {
      "text/plain": [
       "<AxesSubplot:ylabel='Density'>"
      ]
     },
     "execution_count": 43,
     "metadata": {},
     "output_type": "execute_result"
    },
    {
     "data": {
      "image/png": "[encoded data removed]",
      "text/plain": [
       "<Figure size 360x360 with 1 Axes>"
      ]
     },
     "metadata": {
      "needs_background": "light"
     },
     "output_type": "display_data"
    }
   ],
   "source": [
    "df.head(1000).plot(y='Water_cut',kind='kde',figsize=(5,5))"
   ]
  },
  {
   "cell_type": "code",
   "execution_count": 44,
   "metadata": {
    "id": "3iwNGKEoQnYu"
   },
   "outputs": [
    {
     "data": {
      "text/plain": [
       "<AxesSubplot:ylabel='Frequency'>"
      ]
     },
     "execution_count": 44,
     "metadata": {},
     "output_type": "execute_result"
    },
    {
     "data": {
      "image/png": "[encoded data removed]",
      "text/plain": [
       "<Figure size 360x288 with 1 Axes>"
      ]
     },
     "metadata": {
      "needs_background": "light"
     },
     "output_type": "display_data"
    }
   ],
   "source": [
    "df.head(1000).plot(y='Water_cut',kind='hist',figsize=(5,4))"
   ]
  },
  {
   "cell_type": "markdown",
   "metadata": {
    "id": "qUBlgCiBQnYv"
   },
   "source": [
    "### Сохранение данных"
   ]
  },
  {
   "cell_type": "code",
   "execution_count": 45,
   "metadata": {
    "id": "nUhpgrOZQnYv"
   },
   "outputs": [],
   "source": [
    "df_res = df.head()"
   ]
  },
  {
   "cell_type": "code",
   "execution_count": 46,
   "metadata": {
    "id": "LvokuV_dQnYw"
   },
   "outputs": [],
   "source": [
    "df_res.to_csv('filename.csv',index=False)"
   ]
  },
  {
   "cell_type": "code",
   "execution_count": 47,
   "metadata": {
    "id": "kRSAvPQ5QnYw"
   },
   "outputs": [],
   "source": [
    "df_res.to_excel('filename.xlsx',index=False)"
   ]
  },
  {
   "cell_type": "markdown",
   "metadata": {
    "id": "6eRVpuPZQnYw"
   },
   "source": [
    "# Полезные ссылки:\n",
    "- [Документация Pandas ](https://pandas.pydata.org/pandas-docs/stable/index.html)\n",
    "- [Средние величины](https://ru.wikipedia.org/wiki/%D0%9A%D0%B0%D1%82%D0%B5%D0%B3%D0%BE%D1%80%D0%B8%D1%8F:%D0%A1%D1%80%D0%B5%D0%B4%D0%BD%D0%B8%D0%B5_%D0%B2%D0%B5%D0%BB%D0%B8%D1%87%D0%B8%D0%BD%D1%8B)\n",
    "- [Видео Pandas на английском](https://www.youtube.com/watch?v=CmorAWRsCAw#action=share)\n"
   ]
  },
  {
   "cell_type": "markdown",
   "metadata": {
    "id": "_R0jbyb4QnY1"
   },
   "source": [
    "### Дополнительные материалы - теория и практика"
   ]
  },
  {
   "cell_type": "markdown",
   "metadata": {
    "id": "ETT7f4ghQnY2"
   },
   "source": [
    "#### Объединение датафреймов\n",
    "Если данные берутся из нескольких источников, которые имеют общие идентификаторы, то объединить их можно методом **merge()**. Этот метод довольно гибкий - можно указывать имена колонок для объединения в каждом из датафремов, указывать тип объединения и др.\n",
    "\n",
    "Тип объединения обычно выбирают в зависимости от конечной цели: если мы хотим сохранить обсолютно все объекты из обоих источников, даже при условии, что они будут почти не заполнены, можно выбрать тип \"*outer*\" .\n",
    "Если у нас есть один наиболее доверенный источник, в качестве данных которого мы уверены, то можно присодинять данные из других источников с указанием типа \"*left*\" - в этом случае объекты, которых не будет в первом источнике, также не попадут и в конечный датафрейм.\n",
    "\n",
    "Типу объединения соответствуют два понятия из теории множеста: **a.merge(b, how=\"inner\")** - *пересечение множеств* a и b,\n",
    "**a.merge(b, how=\"outer\")** - *объединение множеств* a и b.\n",
    "\n",
    "Ниже приведены несколько примеров объединения с помощью метода **merge()**."
   ]
  },
  {
   "cell_type": "code",
   "execution_count": 48,
   "metadata": {
    "id": "YNCP5e2tQnY2"
   },
   "outputs": [],
   "source": [
    "# создадим два игрушечных датасета с разным набром объектов и разными колонками, чтобы увидеть\n",
    "# как работают различные типы объединения\n",
    "a = pd.DataFrame({'UID':[0,1,2,3,4,5],\n",
    "                  'Должность':['Инженер','Инженер','Заместитель директора', 'Менеджер','Главный инженер','Менеджер'],\n",
    "                  'Оклад (тыс.руб)':[35, 38, 95, 35, 58, 32]})\n",
    "\n",
    "b = pd.DataFrame({'UID':[0,1,2,3,4],\n",
    "                  'Возраст':[23,32,40,25,50],\n",
    "                  'Образование':['Среднее специальное','Высшее','Высшее','Среднее специальное','К.т.н']})"
   ]
  },
  {
   "cell_type": "code",
   "execution_count": 49,
   "metadata": {
    "id": "JVJYfOhrQnY3"
   },
   "outputs": [
    {
     "data": {
      "text/html": [
       "<div>\n",
       "<style scoped>\n",
       "    .dataframe tbody tr th:only-of-type {\n",
       "        vertical-align: middle;\n",
       "    }\n",
       "\n",
       "    .dataframe tbody tr th {\n",
       "        vertical-align: top;\n",
       "    }\n",
       "\n",
       "    .dataframe thead th {\n",
       "        text-align: right;\n",
       "    }\n",
       "</style>\n",
       "<table border=\"1\" class=\"dataframe\">\n",
       "  <thead>\n",
       "    <tr style=\"text-align: right;\">\n",
       "      <th></th>\n",
       "      <th>UID</th>\n",
       "      <th>Должность</th>\n",
       "      <th>Оклад (тыс.руб)</th>\n",
       "      <th>Возраст</th>\n",
       "      <th>Образование</th>\n",
       "    </tr>\n",
       "  </thead>\n",
       "  <tbody>\n",
       "    <tr>\n",
       "      <th>0</th>\n",
       "      <td>0</td>\n",
       "      <td>Инженер</td>\n",
       "      <td>35</td>\n",
       "      <td>23.0</td>\n",
       "      <td>Среднее специальное</td>\n",
       "    </tr>\n",
       "    <tr>\n",
       "      <th>1</th>\n",
       "      <td>1</td>\n",
       "      <td>Инженер</td>\n",
       "      <td>38</td>\n",
       "      <td>32.0</td>\n",
       "      <td>Высшее</td>\n",
       "    </tr>\n",
       "    <tr>\n",
       "      <th>2</th>\n",
       "      <td>2</td>\n",
       "      <td>Заместитель директора</td>\n",
       "      <td>95</td>\n",
       "      <td>40.0</td>\n",
       "      <td>Высшее</td>\n",
       "    </tr>\n",
       "    <tr>\n",
       "      <th>3</th>\n",
       "      <td>3</td>\n",
       "      <td>Менеджер</td>\n",
       "      <td>35</td>\n",
       "      <td>25.0</td>\n",
       "      <td>Среднее специальное</td>\n",
       "    </tr>\n",
       "    <tr>\n",
       "      <th>4</th>\n",
       "      <td>4</td>\n",
       "      <td>Главный инженер</td>\n",
       "      <td>58</td>\n",
       "      <td>50.0</td>\n",
       "      <td>К.т.н</td>\n",
       "    </tr>\n",
       "    <tr>\n",
       "      <th>5</th>\n",
       "      <td>5</td>\n",
       "      <td>Менеджер</td>\n",
       "      <td>32</td>\n",
       "      <td>NaN</td>\n",
       "      <td>NaN</td>\n",
       "    </tr>\n",
       "  </tbody>\n",
       "</table>\n",
       "</div>"
      ],
      "text/plain": [
       "   UID              Должность  Оклад (тыс.руб)  Возраст          Образование\n",
       "0    0                Инженер               35     23.0  Среднее специальное\n",
       "1    1                Инженер               38     32.0               Высшее\n",
       "2    2  Заместитель директора               95     40.0               Высшее\n",
       "3    3               Менеджер               35     25.0  Среднее специальное\n",
       "4    4        Главный инженер               58     50.0                К.т.н\n",
       "5    5               Менеджер               32      NaN                  NaN"
      ]
     },
     "execution_count": 49,
     "metadata": {},
     "output_type": "execute_result"
    }
   ],
   "source": [
    "a.merge(b, on='UID', how='outer')"
   ]
  },
  {
   "cell_type": "code",
   "execution_count": 50,
   "metadata": {
    "id": "vNUlu7V5QnY3"
   },
   "outputs": [
    {
     "data": {
      "text/html": [
       "<div>\n",
       "<style scoped>\n",
       "    .dataframe tbody tr th:only-of-type {\n",
       "        vertical-align: middle;\n",
       "    }\n",
       "\n",
       "    .dataframe tbody tr th {\n",
       "        vertical-align: top;\n",
       "    }\n",
       "\n",
       "    .dataframe thead th {\n",
       "        text-align: right;\n",
       "    }\n",
       "</style>\n",
       "<table border=\"1\" class=\"dataframe\">\n",
       "  <thead>\n",
       "    <tr style=\"text-align: right;\">\n",
       "      <th></th>\n",
       "      <th>UID</th>\n",
       "      <th>Должность</th>\n",
       "      <th>Оклад (тыс.руб)</th>\n",
       "      <th>Возраст</th>\n",
       "      <th>Образование</th>\n",
       "    </tr>\n",
       "  </thead>\n",
       "  <tbody>\n",
       "    <tr>\n",
       "      <th>0</th>\n",
       "      <td>0</td>\n",
       "      <td>Инженер</td>\n",
       "      <td>35</td>\n",
       "      <td>23</td>\n",
       "      <td>Среднее специальное</td>\n",
       "    </tr>\n",
       "    <tr>\n",
       "      <th>1</th>\n",
       "      <td>1</td>\n",
       "      <td>Инженер</td>\n",
       "      <td>38</td>\n",
       "      <td>32</td>\n",
       "      <td>Высшее</td>\n",
       "    </tr>\n",
       "    <tr>\n",
       "      <th>2</th>\n",
       "      <td>2</td>\n",
       "      <td>Заместитель директора</td>\n",
       "      <td>95</td>\n",
       "      <td>40</td>\n",
       "      <td>Высшее</td>\n",
       "    </tr>\n",
       "    <tr>\n",
       "      <th>3</th>\n",
       "      <td>3</td>\n",
       "      <td>Менеджер</td>\n",
       "      <td>35</td>\n",
       "      <td>25</td>\n",
       "      <td>Среднее специальное</td>\n",
       "    </tr>\n",
       "    <tr>\n",
       "      <th>4</th>\n",
       "      <td>4</td>\n",
       "      <td>Главный инженер</td>\n",
       "      <td>58</td>\n",
       "      <td>50</td>\n",
       "      <td>К.т.н</td>\n",
       "    </tr>\n",
       "  </tbody>\n",
       "</table>\n",
       "</div>"
      ],
      "text/plain": [
       "   UID              Должность  Оклад (тыс.руб)  Возраст          Образование\n",
       "0    0                Инженер               35       23  Среднее специальное\n",
       "1    1                Инженер               38       32               Высшее\n",
       "2    2  Заместитель директора               95       40               Высшее\n",
       "3    3               Менеджер               35       25  Среднее специальное\n",
       "4    4        Главный инженер               58       50                К.т.н"
      ]
     },
     "execution_count": 50,
     "metadata": {},
     "output_type": "execute_result"
    }
   ],
   "source": [
    "a.merge(b, on='UID', how='inner')"
   ]
  },
  {
   "cell_type": "code",
   "execution_count": 51,
   "metadata": {
    "id": "RuhfrzGlQnY3"
   },
   "outputs": [],
   "source": [
    "# предположим, что мы хотим посмотреть размеры окладов в разрезе возраста и образования\n",
    "# в этом случае outer тип для нас бесполезен - так как не принёсёт в данные нужной информации\n",
    "df = a.merge(b, on='UID', how='inner')"
   ]
  },
  {
   "cell_type": "code",
   "execution_count": 52,
   "metadata": {
    "id": "p_lX3-LjQnY3"
   },
   "outputs": [
    {
     "data": {
      "text/plain": [
       "(35.0, 63.67)"
      ]
     },
     "execution_count": 52,
     "metadata": {},
     "output_type": "execute_result"
    }
   ],
   "source": [
    "# посмотрим на средние оклады людей до 35 (включительно) и после 35\n",
    "round(df[df['Возраст'] <= 30]['Оклад (тыс.руб)'].mean(),2),round(df[df['Возраст'] > 30]['Оклад (тыс.руб)'].mean(),2)"
   ]
  },
  {
   "cell_type": "code",
   "execution_count": 53,
   "metadata": {
    "id": "qgzYyWBUQnY3"
   },
   "outputs": [
    {
     "data": {
      "text/plain": [
       "Образование\n",
       "Высшее                 66.5\n",
       "К.т.н                  58.0\n",
       "Среднее специальное    35.0\n",
       "Name: Оклад (тыс.руб), dtype: float64"
      ]
     },
     "execution_count": 53,
     "metadata": {},
     "output_type": "execute_result"
    }
   ],
   "source": [
    "# теперь сгруппируем наш датафрейм по типу образования и посмотрим на статистику по окладу\n",
    "df.groupby('Образование')['Оклад (тыс.руб)'].mean()"
   ]
  },
  {
   "cell_type": "code",
   "execution_count": 54,
   "metadata": {
    "id": "fck4eaPfQnY4"
   },
   "outputs": [],
   "source": [
    "# теперь предположим, что нам дали дополнительные данные по сотрудникам из филиалов компании\n",
    "# мы должны присоединить их к нашему датасету и рассчитать интересующие показатели заново\n",
    "a = pd.DataFrame({'UID':[101, 200, 202, 408, 501],\n",
    "                  'Должность':['Инженер','Менеджер','Старший инженер','Инженер','Оператор поддержки'],\n",
    "                  'Оклад (тыс.руб)':[38, 27, 45, 35, 20]})\n",
    "\n",
    "b = pd.DataFrame({'UID':[101, 200, 202, 408, 501],\n",
    "                  'Возраст':[37, 38, 45, 28, 21],\n",
    "                  'Образование':['Высшее','Высшее','Высшее','Среднее специальное','Среднее']})\n",
    "\n",
    "df_add = a.merge(b, on='UID', how='inner')"
   ]
  },
  {
   "cell_type": "code",
   "execution_count": 55,
   "metadata": {
    "id": "X-cZQZmBQnY4"
   },
   "outputs": [],
   "source": [
    "# объединим датафремы\n",
    "df = pd.concat([df, df_add]) # метод concat принимает список из датафреймов, у которых должны быть одинаковые колонки"
   ]
  },
  {
   "cell_type": "code",
   "execution_count": 56,
   "metadata": {
    "id": "6seqs0wkQnY4"
   },
   "outputs": [
    {
     "data": {
      "text/plain": [
       "(31.25, 50.17)"
      ]
     },
     "execution_count": 56,
     "metadata": {},
     "output_type": "execute_result"
    }
   ],
   "source": [
    "round(df[df['Возраст'] <= 30]['Оклад (тыс.руб)'].mean(),2),round(df[df['Возраст'] > 30]['Оклад (тыс.руб)'].mean(),2)"
   ]
  },
  {
   "cell_type": "code",
   "execution_count": 57,
   "metadata": {
    "id": "_lRBpheaQnY4"
   },
   "outputs": [
    {
     "data": {
      "text/plain": [
       "Образование\n",
       "Высшее                 48.6\n",
       "К.т.н                  58.0\n",
       "Среднее                20.0\n",
       "Среднее специальное    35.0\n",
       "Name: Оклад (тыс.руб), dtype: float64"
      ]
     },
     "execution_count": 57,
     "metadata": {},
     "output_type": "execute_result"
    }
   ],
   "source": [
    "df.groupby('Образование')['Оклад (тыс.руб)'].mean()"
   ]
  },
  {
   "cell_type": "markdown",
   "metadata": {
    "id": "wIfpADHyQnY5"
   },
   "source": [
    "#### Оконные функции.\n",
    "Для работы с рапсределёнными во времени данных в pandas существуют оконные функции - они позволяют вычислить агрегаты в рамках небольших временных периодов, так называемых \"окон\", которые можно сдвигать на заданный шаг для повторения рассчётов.\n",
    "В pandas реализовано несколько методов для работы с распределёнными во времени данными:\n",
    "- pandas.rolling() - позволяет произвести оконные вычисления с любой произвольной функцией в рамках заданного окна\n",
    "- pandas.expanding() - позвояет произвести куммулятивные вычисления с любой произвольной функцией для заданного размера окна\n",
    "- pandas.ewm() - позволяет \"сгладить\" данные, подробное описание можно прочесть в документации к pandas"
   ]
  },
  {
   "cell_type": "code",
   "execution_count": 58,
   "metadata": {
    "id": "JyrtitsjQnY5"
   },
   "outputs": [
    {
     "data": {
      "text/html": [
       "<div>\n",
       "<style scoped>\n",
       "    .dataframe tbody tr th:only-of-type {\n",
       "        vertical-align: middle;\n",
       "    }\n",
       "\n",
       "    .dataframe tbody tr th {\n",
       "        vertical-align: top;\n",
       "    }\n",
       "\n",
       "    .dataframe thead th {\n",
       "        text-align: right;\n",
       "    }\n",
       "</style>\n",
       "<table border=\"1\" class=\"dataframe\">\n",
       "  <thead>\n",
       "    <tr style=\"text-align: right;\">\n",
       "      <th></th>\n",
       "      <th>UID</th>\n",
       "      <th>Company_ID</th>\n",
       "      <th>Дата начала работы</th>\n",
       "      <th>Дата окончания работы</th>\n",
       "      <th>Оклад (тыс.руб)</th>\n",
       "    </tr>\n",
       "  </thead>\n",
       "  <tbody>\n",
       "    <tr>\n",
       "      <th>0</th>\n",
       "      <td>1</td>\n",
       "      <td>100</td>\n",
       "      <td>2000-09-01</td>\n",
       "      <td>2005-11-04</td>\n",
       "      <td>26</td>\n",
       "    </tr>\n",
       "    <tr>\n",
       "      <th>1</th>\n",
       "      <td>1</td>\n",
       "      <td>304</td>\n",
       "      <td>2005-12-15</td>\n",
       "      <td>2015-03-03</td>\n",
       "      <td>35</td>\n",
       "    </tr>\n",
       "    <tr>\n",
       "      <th>2</th>\n",
       "      <td>2</td>\n",
       "      <td>202</td>\n",
       "      <td>2003-05-07</td>\n",
       "      <td>2006-07-24</td>\n",
       "      <td>30</td>\n",
       "    </tr>\n",
       "    <tr>\n",
       "      <th>3</th>\n",
       "      <td>2</td>\n",
       "      <td>35</td>\n",
       "      <td>2006-08-02</td>\n",
       "      <td>2011-10-01</td>\n",
       "      <td>48</td>\n",
       "    </tr>\n",
       "    <tr>\n",
       "      <th>4</th>\n",
       "      <td>2</td>\n",
       "      <td>78</td>\n",
       "      <td>2011-10-07</td>\n",
       "      <td>2016-10-20</td>\n",
       "      <td>54</td>\n",
       "    </tr>\n",
       "    <tr>\n",
       "      <th>5</th>\n",
       "      <td>2</td>\n",
       "      <td>23</td>\n",
       "      <td>2017-11-15</td>\n",
       "      <td>2019-11-08</td>\n",
       "      <td>79</td>\n",
       "    </tr>\n",
       "    <tr>\n",
       "      <th>6</th>\n",
       "      <td>408</td>\n",
       "      <td>90</td>\n",
       "      <td>2013-02-02</td>\n",
       "      <td>2016-06-04</td>\n",
       "      <td>21</td>\n",
       "    </tr>\n",
       "    <tr>\n",
       "      <th>7</th>\n",
       "      <td>408</td>\n",
       "      <td>23</td>\n",
       "      <td>2016-09-25</td>\n",
       "      <td>2018-09-20</td>\n",
       "      <td>32</td>\n",
       "    </tr>\n",
       "    <tr>\n",
       "      <th>8</th>\n",
       "      <td>501</td>\n",
       "      <td>10</td>\n",
       "      <td>2018-07-30</td>\n",
       "      <td>2019-05-14</td>\n",
       "      <td>17</td>\n",
       "    </tr>\n",
       "  </tbody>\n",
       "</table>\n",
       "</div>"
      ],
      "text/plain": [
       "   UID  Company_ID Дата начала работы Дата окончания работы  Оклад (тыс.руб)\n",
       "0    1         100         2000-09-01            2005-11-04               26\n",
       "1    1         304         2005-12-15            2015-03-03               35\n",
       "2    2         202         2003-05-07            2006-07-24               30\n",
       "3    2          35         2006-08-02            2011-10-01               48\n",
       "4    2          78         2011-10-07            2016-10-20               54\n",
       "5    2          23         2017-11-15            2019-11-08               79\n",
       "6  408          90         2013-02-02            2016-06-04               21\n",
       "7  408          23         2016-09-25            2018-09-20               32\n",
       "8  501          10         2018-07-30            2019-05-14               17"
      ]
     },
     "execution_count": 58,
     "metadata": {},
     "output_type": "execute_result"
    }
   ],
   "source": [
    "# пусть для каждого сотрудника из предыдущего пункта необходимо проанализировать его предыдущую\n",
    "# трудовую деятельность : длительность работы на каждом месте, рост дохода\n",
    "a = pd.DataFrame({'UID':[1, 1, 2, 2, 2, 2, 408, 408, 501],\n",
    "                 'Company_ID':[100, 304, 202, 35, 78, 23, 90, 23, 10],\n",
    "                 'Дата начала работы':['2000-09-01',\n",
    "                                       '2005-12-15',\n",
    "                                       '2003-05-07',\n",
    "                                       '2006-08-02',\n",
    "                                       '2011-10-07',\n",
    "                                       '2017-11-15',\n",
    "                                       '2013-02-02',\n",
    "                                       '2016-09-25',\n",
    "                                       '2018-07-30'\n",
    "                                      ],\n",
    "                 'Дата окончания работы':['2005-11-04',\n",
    "                                          '2015-03-03',\n",
    "                                          '2006-07-24',\n",
    "                                           '2011-10-01',\n",
    "                                           '2016-10-20',\n",
    "                                           '2019-11-08',\n",
    "                                          '2016-06-04',\n",
    "                                          '2018-09-20',\n",
    "                                          '2019-05-14'],\n",
    "                 'Оклад (тыс.руб)':[26, 35, 30, 48, 54, 79, 21, 32, 17]})\n",
    "a"
   ]
  },
  {
   "cell_type": "code",
   "execution_count": 59,
   "metadata": {
    "id": "WtwfVGTLQnY5"
   },
   "outputs": [],
   "source": [
    "# приведём даты к нужному типу, чтобы они корректно отобразились на графике\n",
    "a['Дата начала работы'] = pd.to_datetime(a['Дата начала работы'])\n",
    "a['Дата окончания работы'] = pd.to_datetime(a['Дата окончания работы'])"
   ]
  },
  {
   "cell_type": "code",
   "execution_count": 60,
   "metadata": {
    "id": "NMRyCYwPQnY6"
   },
   "outputs": [
    {
     "data": {
      "text/plain": [
       "<AxesSubplot:xlabel='Дата начала работы'>"
      ]
     },
     "execution_count": 60,
     "metadata": {},
     "output_type": "execute_result"
    },
    {
     "data": {
      "image/png": "[encoded data removed]",
      "text/plain": [
       "<Figure size 432x288 with 1 Axes>"
      ]
     },
     "metadata": {
      "needs_background": "light"
     },
     "output_type": "display_data"
    }
   ],
   "source": [
    "# Отрисуем, как менялся оклад работника с UID=2 по годам\n",
    "a[a['UID'] == 2].plot(x='Дата начала работы',y='Оклад (тыс.руб)')"
   ]
  },
  {
   "cell_type": "code",
   "execution_count": 61,
   "metadata": {
    "id": "HsADy0oHQnY6"
   },
   "outputs": [
    {
     "data": {
      "text/plain": [
       "<AxesSubplot:xlabel='Дата начала работы'>"
      ]
     },
     "execution_count": 61,
     "metadata": {},
     "output_type": "execute_result"
    },
    {
     "data": {
      "image/png": "[encoded data removed]",
      "text/plain": [
       "<Figure size 432x288 with 1 Axes>"
      ]
     },
     "metadata": {
      "needs_background": "light"
     },
     "output_type": "display_data"
    }
   ],
   "source": [
    "# сгладим график для работника с UID=2\n",
    "# поменяйте параметр alpha, чтобы увидеть, как меняется график\n",
    "a_tmp = a[a['UID'] == 2].ewm(alpha=0.5).mean()\n",
    "a_tmp[['Оклад (тыс.руб)']].merge(a['Дата начала работы'], left_index=True, right_index=True).plot(x='Дата начала работы',y='Оклад (тыс.руб)')"
   ]
  },
  {
   "cell_type": "code",
   "execution_count": 62,
   "metadata": {
    "id": "7wfxMz5QQnY6"
   },
   "outputs": [
    {
     "data": {
      "text/plain": [
       "UID   \n",
       "1    0     NaN\n",
       "     1    30.5\n",
       "2    2     NaN\n",
       "     3    39.0\n",
       "     4    51.0\n",
       "     5    66.5\n",
       "408  6     NaN\n",
       "     7    26.5\n",
       "501  8     NaN\n",
       "Name: Оклад (тыс.руб), dtype: float64"
      ]
     },
     "execution_count": 62,
     "metadata": {},
     "output_type": "execute_result"
    }
   ],
   "source": [
    "# сгруппируем работников по UID, посмотрим среднее на двух последних местах работы по окладу\n",
    "a_grouped = a.groupby('UID')\n",
    "a_grouped['Оклад (тыс.руб)'].rolling(2).mean()"
   ]
  },
  {
   "cell_type": "code",
   "execution_count": 63,
   "metadata": {},
   "outputs": [],
   "source": [
    "# Вопрос 10\n",
    "# 1) сгруппируйте данные по образованию и должности.\n",
    "# Какая категория людей получает наибольший, а какая наименьший доход?\n",
    "# 2) Закодируйте признак образование по принципу \"выше уровень образования - больше цифра\"\n",
    "# Каково значение коэффициента корреляции Пирсона между уровнем образования и окладом, каков его знак?"
   ]
  },
  {
   "cell_type": "code",
   "execution_count": 70,
   "metadata": {},
   "outputs": [
    {
     "data": {
      "text/html": [
       "<div>\n",
       "<style scoped>\n",
       "    .dataframe tbody tr th:only-of-type {\n",
       "        vertical-align: middle;\n",
       "    }\n",
       "\n",
       "    .dataframe tbody tr th {\n",
       "        vertical-align: top;\n",
       "    }\n",
       "\n",
       "    .dataframe thead th {\n",
       "        text-align: right;\n",
       "    }\n",
       "</style>\n",
       "<table border=\"1\" class=\"dataframe\">\n",
       "  <thead>\n",
       "    <tr style=\"text-align: right;\">\n",
       "      <th></th>\n",
       "      <th></th>\n",
       "      <th>Оклад (тыс.руб)</th>\n",
       "    </tr>\n",
       "    <tr>\n",
       "      <th>Образование</th>\n",
       "      <th>Должность</th>\n",
       "      <th></th>\n",
       "    </tr>\n",
       "  </thead>\n",
       "  <tbody>\n",
       "    <tr>\n",
       "      <th rowspan=\"4\" valign=\"top\">Высшее</th>\n",
       "      <th>Заместитель директора</th>\n",
       "      <td>95</td>\n",
       "    </tr>\n",
       "    <tr>\n",
       "      <th>Инженер</th>\n",
       "      <td>38</td>\n",
       "    </tr>\n",
       "    <tr>\n",
       "      <th>Менеджер</th>\n",
       "      <td>27</td>\n",
       "    </tr>\n",
       "    <tr>\n",
       "      <th>Старший инженер</th>\n",
       "      <td>45</td>\n",
       "    </tr>\n",
       "    <tr>\n",
       "      <th>К.т.н</th>\n",
       "      <th>Главный инженер</th>\n",
       "      <td>58</td>\n",
       "    </tr>\n",
       "    <tr>\n",
       "      <th>Среднее</th>\n",
       "      <th>Оператор поддержки</th>\n",
       "      <td>20</td>\n",
       "    </tr>\n",
       "    <tr>\n",
       "      <th rowspan=\"2\" valign=\"top\">Среднее специальное</th>\n",
       "      <th>Инженер</th>\n",
       "      <td>35</td>\n",
       "    </tr>\n",
       "    <tr>\n",
       "      <th>Менеджер</th>\n",
       "      <td>35</td>\n",
       "    </tr>\n",
       "  </tbody>\n",
       "</table>\n",
       "</div>"
      ],
      "text/plain": [
       "                                           Оклад (тыс.руб)\n",
       "Образование         Должность                             \n",
       "Высшее              Заместитель директора               95\n",
       "                    Инженер                             38\n",
       "                    Менеджер                            27\n",
       "                    Старший инженер                     45\n",
       "К.т.н               Главный инженер                     58\n",
       "Среднее             Оператор поддержки                  20\n",
       "Среднее специальное Инженер                             35\n",
       "                    Менеджер                            35"
      ]
     },
     "execution_count": 70,
     "metadata": {},
     "output_type": "execute_result"
    }
   ],
   "source": [
    "gr = df.groupby(['Образование', 'Должность']).agg({'Оклад (тыс.руб)':'mean'})\n",
    "gr\n"
   ]
  },
  {
   "cell_type": "code",
   "execution_count": 71,
   "metadata": {},
   "outputs": [
    {
     "name": "stdout",
     "output_type": "stream",
     "text": [
      "Образование и должность людей, получающих наименьший доход:  ('Среднее', 'Оператор поддержки')\n",
      "Образование и должность людей, получающих наибольший доход:  ('Высшее', 'Заместитель директора')\n"
     ]
    }
   ],
   "source": [
    "print('Образование и должность людей, получающих наименьший доход: ', gr['Оклад (тыс.руб)'].idxmin())\n",
    "print('Образование и должность людей, получающих наибольший доход: ', gr['Оклад (тыс.руб)'].idxmax())"
   ]
  },
  {
   "cell_type": "code",
   "execution_count": 72,
   "metadata": {},
   "outputs": [],
   "source": [
    "edu = {'Среднее' : 1, 'Среднее специальное' : 2, 'Высшее' : 3, 'К.т.н' : 4}\n",
    "df['Образование'] = [\n",
    "    edu[c] for c in df['Образование']\n",
    "]"
   ]
  },
  {
   "cell_type": "code",
   "execution_count": 82,
   "metadata": {},
   "outputs": [
    {
     "data": {
      "text/plain": [
       "0.5239818268129481"
      ]
     },
     "execution_count": 82,
     "metadata": {},
     "output_type": "execute_result"
    }
   ],
   "source": [
    "corel = df['Образование'].corr(df['Оклад (тыс.руб)'])\n",
    "sign = lambda s: 'положительная' if s > 0 else 'отрицательная'\n",
    "corel\n"
   ]
  },
  {
   "cell_type": "code",
   "execution_count": 83,
   "metadata": {},
   "outputs": [
    {
     "name": "stdout",
     "output_type": "stream",
     "text": [
      "Значение корреляции Пирсона равняется 0.52\n",
      "Корреляция между образованием и уровнем дохода положительная\n"
     ]
    }
   ],
   "source": [
    "print('Значение корреляции Пирсона равняется {}'.format(round(corel,2)))\n",
    "print('Корреляция между образованием и уровнем дохода {}'.format(sign(corel)))"
   ]
  },
  {
   "cell_type": "code",
   "execution_count": null,
   "metadata": {},
   "outputs": [],
   "source": []
  }
 ],
 "metadata": {
  "colab": {
   "name": "Анализ_данных_Pandas.ipynb",
   "provenance": []
  },
  "kernelspec": {
   "display_name": "Python 3",
   "language": "python",
   "name": "python3"
  },
  "language_info": {
   "codemirror_mode": {
    "name": "ipython",
    "version": 3
   },
   "file_extension": ".py",
   "mimetype": "text/x-python",
   "name": "python",
   "nbconvert_exporter": "python",
   "pygments_lexer": "ipython3",
   "version": "3.8.5"
  }
 },
 "nbformat": 4,
 "nbformat_minor": 1
}
